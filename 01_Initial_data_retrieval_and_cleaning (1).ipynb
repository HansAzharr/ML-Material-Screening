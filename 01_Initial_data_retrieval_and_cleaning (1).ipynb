{
 "cells": [
  {
   "cell_type": "code",
   "execution_count": null,
   "metadata": {
    "colab": {
     "base_uri": "https://localhost:8080/"
    },
    "collapsed": true,
    "id": "Ukfp979kAmut",
    "outputId": "b8ba165c-91b8-4bbb-f1d7-6f3d0b0247fd"
   },
   "outputs": [
    {
     "name": "stdout",
     "output_type": "stream",
     "text": [
      "Requirement already satisfied: mp-api in /usr/local/lib/python3.11/dist-packages (0.45.7)\n",
      "Requirement already satisfied: pymatgen in /usr/local/lib/python3.11/dist-packages (2025.6.14)\n",
      "Requirement already satisfied: setuptools in /usr/local/lib/python3.11/dist-packages (from mp-api) (75.2.0)\n",
      "Requirement already satisfied: msgpack in /usr/local/lib/python3.11/dist-packages (from mp-api) (1.1.1)\n",
      "Requirement already satisfied: maggma>=0.57.1 in /usr/local/lib/python3.11/dist-packages (from mp-api) (0.71.5)\n",
      "Requirement already satisfied: typing-extensions>=3.7.4.1 in /usr/local/lib/python3.11/dist-packages (from mp-api) (4.14.0)\n",
      "Requirement already satisfied: requests>=2.23.0 in /usr/local/lib/python3.11/dist-packages (from mp-api) (2.32.3)\n",
      "Requirement already satisfied: monty>=2024.12.10 in /usr/local/lib/python3.11/dist-packages (from mp-api) (2025.3.3)\n",
      "Requirement already satisfied: emmet-core>=0.84.3rc6 in /usr/local/lib/python3.11/dist-packages (from mp-api) (0.84.8)\n",
      "Requirement already satisfied: smart_open in /usr/local/lib/python3.11/dist-packages (from mp-api) (7.1.0)\n",
      "Requirement already satisfied: bibtexparser>=1.4.0 in /usr/local/lib/python3.11/dist-packages (from pymatgen) (1.4.3)\n",
      "Requirement already satisfied: joblib>=1 in /usr/local/lib/python3.11/dist-packages (from pymatgen) (1.5.1)\n",
      "Requirement already satisfied: matplotlib>=3.8 in /usr/local/lib/python3.11/dist-packages (from pymatgen) (3.10.0)\n",
      "Requirement already satisfied: networkx>=2.7 in /usr/local/lib/python3.11/dist-packages (from pymatgen) (3.5)\n",
      "Requirement already satisfied: numpy<3,>=1.25.0 in /usr/local/lib/python3.11/dist-packages (from pymatgen) (2.0.2)\n",
      "Requirement already satisfied: orjson<4,>=3.10 in /usr/local/lib/python3.11/dist-packages (from pymatgen) (3.10.18)\n",
      "Requirement already satisfied: palettable>=3.3.3 in /usr/local/lib/python3.11/dist-packages (from pymatgen) (3.3.3)\n",
      "Requirement already satisfied: pandas>=2 in /usr/local/lib/python3.11/dist-packages (from pymatgen) (2.2.2)\n",
      "Requirement already satisfied: plotly>=5.0.0 in /usr/local/lib/python3.11/dist-packages (from pymatgen) (5.24.1)\n",
      "Requirement already satisfied: ruamel.yaml>=0.17.0 in /usr/local/lib/python3.11/dist-packages (from pymatgen) (0.18.14)\n",
      "Requirement already satisfied: scipy>=1.13.0 in /usr/local/lib/python3.11/dist-packages (from pymatgen) (1.15.3)\n",
      "Requirement already satisfied: spglib>=2.5 in /usr/local/lib/python3.11/dist-packages (from pymatgen) (2.6.0)\n",
      "Requirement already satisfied: sympy>=1.3 in /usr/local/lib/python3.11/dist-packages (from pymatgen) (1.13.1)\n",
      "Requirement already satisfied: tabulate>=0.9 in /usr/local/lib/python3.11/dist-packages (from pymatgen) (0.9.0)\n",
      "Requirement already satisfied: tqdm>=4.60 in /usr/local/lib/python3.11/dist-packages (from pymatgen) (4.67.1)\n",
      "Requirement already satisfied: uncertainties>=3.1.4 in /usr/local/lib/python3.11/dist-packages (from pymatgen) (3.2.3)\n",
      "Requirement already satisfied: pyparsing>=2.0.3 in /usr/local/lib/python3.11/dist-packages (from bibtexparser>=1.4.0->pymatgen) (3.2.3)\n",
      "Requirement already satisfied: pydantic>=2.0 in /usr/local/lib/python3.11/dist-packages (from emmet-core>=0.84.3rc6->mp-api) (2.11.7)\n",
      "Requirement already satisfied: pydantic-settings>=2.0 in /usr/local/lib/python3.11/dist-packages (from emmet-core>=0.84.3rc6->mp-api) (2.9.1)\n",
      "Requirement already satisfied: pybtex~=0.24 in /usr/local/lib/python3.11/dist-packages (from emmet-core>=0.84.3rc6->mp-api) (0.24.0)\n",
      "Requirement already satisfied: pymongo<4.11,>=4.2.0 in /usr/local/lib/python3.11/dist-packages (from maggma>=0.57.1->mp-api) (4.10.1)\n",
      "Requirement already satisfied: mongomock>=3.10.0 in /usr/local/lib/python3.11/dist-packages (from maggma>=0.57.1->mp-api) (4.3.0)\n",
      "Requirement already satisfied: pydash>=4.1.0 in /usr/local/lib/python3.11/dist-packages (from maggma>=0.57.1->mp-api) (8.0.5)\n",
      "Requirement already satisfied: jsonschema>=3.1.1 in /usr/local/lib/python3.11/dist-packages (from maggma>=0.57.1->mp-api) (4.24.0)\n",
      "Requirement already satisfied: jsonlines>=4.0.0 in /usr/local/lib/python3.11/dist-packages (from maggma>=0.57.1->mp-api) (4.0.0)\n",
      "Requirement already satisfied: aioitertools>=0.5.1 in /usr/local/lib/python3.11/dist-packages (from maggma>=0.57.1->mp-api) (0.12.0)\n",
      "Requirement already satisfied: pyzmq>=25.1.1 in /usr/local/lib/python3.11/dist-packages (from maggma>=0.57.1->mp-api) (27.0.0)\n",
      "Requirement already satisfied: dnspython>=1.16.0 in /usr/local/lib/python3.11/dist-packages (from maggma>=0.57.1->mp-api) (2.7.0)\n",
      "Requirement already satisfied: sshtunnel>=0.1.5 in /usr/local/lib/python3.11/dist-packages (from maggma>=0.57.1->mp-api) (0.4.0)\n",
      "Requirement already satisfied: boto3>=1.20.41 in /usr/local/lib/python3.11/dist-packages (from maggma>=0.57.1->mp-api) (1.38.41)\n",
      "Requirement already satisfied: python-dateutil>=2.8.2 in /usr/local/lib/python3.11/dist-packages (from maggma>=0.57.1->mp-api) (2.9.0.post0)\n",
      "Requirement already satisfied: contourpy>=1.0.1 in /usr/local/lib/python3.11/dist-packages (from matplotlib>=3.8->pymatgen) (1.3.2)\n",
      "Requirement already satisfied: cycler>=0.10 in /usr/local/lib/python3.11/dist-packages (from matplotlib>=3.8->pymatgen) (0.12.1)\n",
      "Requirement already satisfied: fonttools>=4.22.0 in /usr/local/lib/python3.11/dist-packages (from matplotlib>=3.8->pymatgen) (4.58.4)\n",
      "Requirement already satisfied: kiwisolver>=1.3.1 in /usr/local/lib/python3.11/dist-packages (from matplotlib>=3.8->pymatgen) (1.4.8)\n",
      "Requirement already satisfied: packaging>=20.0 in /usr/local/lib/python3.11/dist-packages (from matplotlib>=3.8->pymatgen) (24.2)\n",
      "Requirement already satisfied: pillow>=8 in /usr/local/lib/python3.11/dist-packages (from matplotlib>=3.8->pymatgen) (11.2.1)\n",
      "Requirement already satisfied: pytz>=2020.1 in /usr/local/lib/python3.11/dist-packages (from pandas>=2->pymatgen) (2025.2)\n",
      "Requirement already satisfied: tzdata>=2022.7 in /usr/local/lib/python3.11/dist-packages (from pandas>=2->pymatgen) (2025.2)\n",
      "Requirement already satisfied: tenacity>=6.2.0 in /usr/local/lib/python3.11/dist-packages (from plotly>=5.0.0->pymatgen) (9.1.2)\n",
      "Requirement already satisfied: charset-normalizer<4,>=2 in /usr/local/lib/python3.11/dist-packages (from requests>=2.23.0->mp-api) (3.4.2)\n",
      "Requirement already satisfied: idna<4,>=2.5 in /usr/local/lib/python3.11/dist-packages (from requests>=2.23.0->mp-api) (3.10)\n",
      "Requirement already satisfied: urllib3<3,>=1.21.1 in /usr/local/lib/python3.11/dist-packages (from requests>=2.23.0->mp-api) (2.4.0)\n",
      "Requirement already satisfied: certifi>=2017.4.17 in /usr/local/lib/python3.11/dist-packages (from requests>=2.23.0->mp-api) (2025.6.15)\n",
      "Requirement already satisfied: ruamel.yaml.clib>=0.2.7 in /usr/local/lib/python3.11/dist-packages (from ruamel.yaml>=0.17.0->pymatgen) (0.2.12)\n",
      "Requirement already satisfied: mpmath<1.4,>=1.1.0 in /usr/local/lib/python3.11/dist-packages (from sympy>=1.3->pymatgen) (1.3.0)\n",
      "Requirement already satisfied: wrapt in /usr/local/lib/python3.11/dist-packages (from smart_open->mp-api) (1.17.2)\n",
      "Requirement already satisfied: botocore<1.39.0,>=1.38.41 in /usr/local/lib/python3.11/dist-packages (from boto3>=1.20.41->maggma>=0.57.1->mp-api) (1.38.41)\n",
      "Requirement already satisfied: jmespath<2.0.0,>=0.7.1 in /usr/local/lib/python3.11/dist-packages (from boto3>=1.20.41->maggma>=0.57.1->mp-api) (1.0.1)\n",
      "Requirement already satisfied: s3transfer<0.14.0,>=0.13.0 in /usr/local/lib/python3.11/dist-packages (from boto3>=1.20.41->maggma>=0.57.1->mp-api) (0.13.0)\n",
      "Requirement already satisfied: attrs>=19.2.0 in /usr/local/lib/python3.11/dist-packages (from jsonlines>=4.0.0->maggma>=0.57.1->mp-api) (25.3.0)\n",
      "Requirement already satisfied: jsonschema-specifications>=2023.03.6 in /usr/local/lib/python3.11/dist-packages (from jsonschema>=3.1.1->maggma>=0.57.1->mp-api) (2025.4.1)\n",
      "Requirement already satisfied: referencing>=0.28.4 in /usr/local/lib/python3.11/dist-packages (from jsonschema>=3.1.1->maggma>=0.57.1->mp-api) (0.36.2)\n",
      "Requirement already satisfied: rpds-py>=0.7.1 in /usr/local/lib/python3.11/dist-packages (from jsonschema>=3.1.1->maggma>=0.57.1->mp-api) (0.25.1)\n",
      "Requirement already satisfied: sentinels in /usr/local/lib/python3.11/dist-packages (from mongomock>=3.10.0->maggma>=0.57.1->mp-api) (1.0.0)\n",
      "Requirement already satisfied: PyYAML>=3.01 in /usr/local/lib/python3.11/dist-packages (from pybtex~=0.24->emmet-core>=0.84.3rc6->mp-api) (6.0.2)\n",
      "Requirement already satisfied: latexcodec>=1.0.4 in /usr/local/lib/python3.11/dist-packages (from pybtex~=0.24->emmet-core>=0.84.3rc6->mp-api) (3.0.1)\n",
      "Requirement already satisfied: six in /usr/local/lib/python3.11/dist-packages (from pybtex~=0.24->emmet-core>=0.84.3rc6->mp-api) (1.17.0)\n",
      "Requirement already satisfied: annotated-types>=0.6.0 in /usr/local/lib/python3.11/dist-packages (from pydantic>=2.0->emmet-core>=0.84.3rc6->mp-api) (0.7.0)\n",
      "Requirement already satisfied: pydantic-core==2.33.2 in /usr/local/lib/python3.11/dist-packages (from pydantic>=2.0->emmet-core>=0.84.3rc6->mp-api) (2.33.2)\n",
      "Requirement already satisfied: typing-inspection>=0.4.0 in /usr/local/lib/python3.11/dist-packages (from pydantic>=2.0->emmet-core>=0.84.3rc6->mp-api) (0.4.1)\n",
      "Requirement already satisfied: python-dotenv>=0.21.0 in /usr/local/lib/python3.11/dist-packages (from pydantic-settings>=2.0->emmet-core>=0.84.3rc6->mp-api) (1.1.0)\n",
      "Requirement already satisfied: paramiko>=2.7.2 in /usr/local/lib/python3.11/dist-packages (from sshtunnel>=0.1.5->maggma>=0.57.1->mp-api) (3.5.1)\n",
      "Requirement already satisfied: bcrypt>=3.2 in /usr/local/lib/python3.11/dist-packages (from paramiko>=2.7.2->sshtunnel>=0.1.5->maggma>=0.57.1->mp-api) (4.3.0)\n",
      "Requirement already satisfied: cryptography>=3.3 in /usr/local/lib/python3.11/dist-packages (from paramiko>=2.7.2->sshtunnel>=0.1.5->maggma>=0.57.1->mp-api) (43.0.3)\n",
      "Requirement already satisfied: pynacl>=1.5 in /usr/local/lib/python3.11/dist-packages (from paramiko>=2.7.2->sshtunnel>=0.1.5->maggma>=0.57.1->mp-api) (1.5.0)\n",
      "Requirement already satisfied: cffi>=1.12 in /usr/local/lib/python3.11/dist-packages (from cryptography>=3.3->paramiko>=2.7.2->sshtunnel>=0.1.5->maggma>=0.57.1->mp-api) (1.17.1)\n",
      "Requirement already satisfied: pycparser in /usr/local/lib/python3.11/dist-packages (from cffi>=1.12->cryptography>=3.3->paramiko>=2.7.2->sshtunnel>=0.1.5->maggma>=0.57.1->mp-api) (2.22)\n"
     ]
    }
   ],
   "source": [
    "!pip install mp-api pymatgen"
   ]
  },
  {
   "cell_type": "code",
   "execution_count": null,
   "metadata": {
    "id": "gcgw9AWfBt4j"
   },
   "outputs": [],
   "source": [
    "import os\n",
    "import sys\n",
    "import pandas as pd\n",
    "import numpy as np\n",
    "import json\n",
    "from google.colab import drive\n",
    "from mp_api.client import MPRester # Materials Project API client\n",
    "import getpass\n",
    "import warnings\n",
    "import pickle\n",
    "import time"
   ]
  },
  {
   "cell_type": "markdown",
   "metadata": {
    "id": "kByYNDKmB3_P"
   },
   "source": [
    "## Define project paths"
   ]
  },
  {
   "cell_type": "code",
   "execution_count": null,
   "metadata": {
    "id": "YQvoWAMoB3cF"
   },
   "outputs": [],
   "source": [
    "base_project_path = \"/content/drive/MyDrive/Colab Notebooks/Masters Research Project\"\n",
    "data_folder_path = os.path.join(base_project_path, \"Data\")\n",
    "# Ensure the Data folder exists\n",
    "os.makedirs(data_folder_path, exist_ok=True)"
   ]
  },
  {
   "cell_type": "code",
   "execution_count": null,
   "metadata": {
    "colab": {
     "base_uri": "https://localhost:8080/"
    },
    "id": "0Y6aKzzeB8vl",
    "outputId": "7430f6fe-0fc2-45c1-d96f-bce1d7a26e94"
   },
   "outputs": [
    {
     "name": "stdout",
     "output_type": "stream",
     "text": [
      "Enter your Materials Project API Key: ··········\n"
     ]
    }
   ],
   "source": [
    "# Prompt for API Key using getpass\n",
    "MP_API_KEY = getpass.getpass(\"Enter your Materials Project API Key: \")"
   ]
  },
  {
   "cell_type": "code",
   "execution_count": null,
   "metadata": {
    "id": "Axi7mJt3PL5m"
   },
   "outputs": [],
   "source": [
    "# Ensure MP_API_KEY and project_root/data_path are available from the previous cell\n",
    "if 'MP_API_KEY' not in locals() or 'base_project_path' not in locals():\n",
    "    print(\"Error: Required variables (MP_API_KEY, base_project_path) not found. Please run the previous cell first.\")\n",
    "    sys.exit(\"Exiting: Environment not set up.\")"
   ]
  },
  {
   "cell_type": "markdown",
   "metadata": {
    "id": "Z9eyhzljhUgt"
   },
   "source": [
    "# Section 1"
   ]
  },
  {
   "cell_type": "markdown",
   "metadata": {
    "id": "pgYs4NqeCAb-"
   },
   "source": [
    "## Data retrieval"
   ]
  },
  {
   "cell_type": "code",
   "execution_count": null,
   "metadata": {
    "id": "RkS1lp6RRS3X"
   },
   "outputs": [],
   "source": [
    "def fetch_summary_data(mpr_client, element, fields_to_fetch, energy_hull_filter=(None, 0.2)):\n",
    "    \"\"\"Fetches summary data for a given element with specified filters and fields.\"\"\"\n",
    "    try:\n",
    "        docs = mpr_client.materials.summary.search(\n",
    "            elements=[element],\n",
    "            energy_above_hull=energy_hull_filter,\n",
    "            fields=fields_to_fetch\n",
    "        )\n",
    "        return [doc.dict() for doc in docs]\n",
    "    except Exception as e:\n",
    "        print(f\"\\n  Error fetching summary data for '{element}': {e}.\")\n",
    "        return []"
   ]
  },
  {
   "cell_type": "code",
   "execution_count": null,
   "metadata": {
    "id": "aJ8CYPQdRUMc"
   },
   "outputs": [],
   "source": [
    "def fetch_electrodes_data(mpr_client, element):\n",
    "    \"\"\"Fetches electrodes data for a given element (returns all available fields).\"\"\"\n",
    "    try:\n",
    "        docs = mpr_client.materials.insertion_electrodes.search(\n",
    "            elements=[element]\n",
    "        )\n",
    "        return [doc.dict() if hasattr(doc, 'dict') else doc for doc in docs]\n",
    "    except Exception as e:\n",
    "        print(f\"\\n  Error fetching electrodes data for '{element}': {e}.\")\n",
    "        return []\n"
   ]
  },
  {
   "cell_type": "code",
   "execution_count": null,
   "metadata": {
    "id": "bDMHrM5NRxvo"
   },
   "outputs": [],
   "source": [
    "# Define elements for query (full list)\n",
    "all_battery_elements = [\"Li\", \"Na\", \"Mg\", \"Al\", \"O\", \"S\", \"P\", \"F\", \"Cl\", \"Co\", \"Ni\", \"Mn\", \"Fe\", \"Cu\", \"Zn\", \"Si\", \"Ge\", \"C\"]\n",
    "\n",
    "# Define fields for the general materials summary endpoint\n",
    "summary_fields_to_fetch = [\n",
    "    \"material_id\", \"formula_pretty\", \"elements\", \"nelements\", \"volume\", \"density\",\n",
    "    \"energy_above_hull\", \"band_gap\", \"is_metal\", \"total_magnetization\", \"theoretical\"\n",
    "]\n",
    "\n",
    "# Define fields for the insertion electrodes endpoint\n",
    "desired_electrodes_fields = [\n",
    "    \"material_id\", \"battery_type\", \"working_ion\", \"average_voltage\",\n",
    "    \"capacity_grav\", \"capacity_vol\", \"energy_grav\", \"energy_vol\",\n",
    "    \"num_steps\", \"max_voltage_step\", \"stability_charge\", \"stability_discharge\"\n",
    "]"
   ]
  },
  {
   "cell_type": "code",
   "execution_count": null,
   "metadata": {
    "id": "TZoZTO2JX6cg"
   },
   "outputs": [],
   "source": [
    "warnings.filterwarnings(\n",
    "    \"ignore\",\n",
    "    message=\"Using UFloat objects with std_dev==0 may give unexpected results.\",\n",
    "    category=UserWarning,\n",
    "    module='uncertainties.core'\n",
    ")"
   ]
  },
  {
   "cell_type": "code",
   "execution_count": null,
   "metadata": {
    "colab": {
     "base_uri": "https://localhost:8080/",
     "height": 1000,
     "referenced_widgets": [
      "edb347812f3644d080cc664a7796a7a0",
      "cd7261bb14634ed0823aa7f29c97cff7",
      "09fac3a1e4cd423aa54a0577c481826c",
      "f08eb9b963724b3ca3a74ed9d84cf08b",
      "a30cb1477a7b4f71bc579bfba9872f0f",
      "19c4c43af049403eb3a600be076bc11c",
      "c37e716465ee4130b370ffb19492197f",
      "5d349207a047468da7c9ba67f2d8eab2",
      "fce3eae287b84e788845bae51fc4eb03",
      "779585d5fea149edb01f3361adde5912",
      "9fbb77446e5246e193ce5580fd746a3c",
      "eef9c80ffb2f45c3a7e2ef16666c2a9f",
      "84da06cf0a684cf8ba67fd621c046d2f",
      "28e0b720587b4aadb42e7b387aa7880b",
      "6bd6a368e3b44f1ca134156ea849aca9",
      "419afb9b4ac64bba96ace8637274989a",
      "b5ed6ffe792642d786e6ba8bcd8c62bf",
      "6e788c31bd594716b753adb773ad1cd4",
      "069fdd653b054af4987b5b7db3d4c559",
      "73743d494da141289b4454c7f93a3aef",
      "81d0394f4ca54a03834a27d7cb822460",
      "862ad83658374e88aab00b33347b8394",
      "20bd0400564d4145be3e7185c3a9c950",
      "810d59ba55ef4c16afe59cb8accd1ae0",
      "9d09aad5cd1845da8c9aaa3cdeee4b6d",
      "13e868e22b9d493dacac90555c3eea35",
      "39e2ba0a2b0b42d1a9ae4e8bf1bf2d9e",
      "e6947ccaa31f4f078102c86b6afb0498",
      "61b17bb45037414f85249a2552f74903",
      "74003e6eb7b44afc872c8e5569d0f2be",
      "0b9cf2bf3c78463988d9f424251cb8fe",
      "78d74cb4ed3c49939a77762630d64480",
      "40a3df1be9914bfca51cde06532df443",
      "035f03b930b04f81919d81cd2bb6b9a7",
      "41431d17622a48b38a66c9e7da11f2fa",
      "2e4c1d1c28e64485ab13809fa29e2640",
      "d9947f0f2c334ffda7aaac2f8d7e5811",
      "add5200ebe914f6c8c6ca655588a03b0",
      "f40827f96e3d4575826af7565fed505d",
      "a5d82d51417e421f918991dd4b466ea9",
      "36147df6cc6649c1a6efd515d3dac4ee",
      "129af4e1170346aa8b7305e71606007e",
      "ea780659ed5c4277b4d54712f50f9a47",
      "6ce7900eddc04951b4d58bd47291f4fa",
      "fc4d6170196147408c03973a7945c0f1",
      "cf4c473c967b4293aac9974561d6387b",
      "ec0102e161ad484e8653d49676be3f78",
      "a68c9f12ee1a4ec0a3fb5dcdd53bb738",
      "5349e761543d40c09bf2b4f4ef988536",
      "be2cbbaa91a3438eb3d2cdc05fda7e25",
      "670fd0f670f5424d86072eead24d80c2",
      "5afe185afd604d79bf6e49b3efae72e8",
      "af9ff0a1aa4e42388bca3e4cccb1e272",
      "ad7673fac0e34b959fee35338d54f6a0",
      "deb8ae2916b848948a26e58ee8518df0",
      "bee49106df4545b09806724ea5dfcbad",
      "bb35c6573e2d40ef8dbd657111edc1e2",
      "ff5db56869fe4bdd8b9b79f313ee88a9",
      "62e562eead604434b9ac305581f82a42",
      "0cb1274775d94dd6953136d7fef4055a",
      "42bb5256685c42a4a9d0fe5910f3ba4f",
      "3b29b7bbb74b43169c40ddc4e0bccb13",
      "4bece018eace48a2a1aaeadb2909b1b2",
      "0894f43b62054e86bcd256a614877ce8",
      "3fbe8c2eb5aa49c79023d383b8c1914f",
      "49600c0fa330487cbc344403d73ff848",
      "6886737265a549398dc8891ce6b07af7",
      "24293abd20ce4978b7817f1060303eb6",
      "8401fa7a83ce4631ac14e9f0148a952e",
      "e410979f97a74bbf92b5331d2c8947c5",
      "72f4b88451d9490ba1ee21ca024addd4",
      "c16832ed7fd54dd88f4f0c52a5387a8c",
      "ed896a865be04f8d83818d646916afbf",
      "cd689fc62ca24f28b27686864d34358b",
      "758bdd0d6f51412f8853608b1e263633",
      "03e7acc4920e4282910ad2c42473a33b",
      "3e358dce38c441ba86c2d3e0863d4320",
      "2268006a6e6d47a094b08505f7bc41e2",
      "98b88f87282a4d7192610e4e003edc69",
      "0c7f17a74e9e470d98ab7c7dcda9d7b6",
      "a7d5b4ae23484e2ea6b6eb3bfeccf112",
      "10ed040e66074167933897e233dda8a6",
      "3d70bba37bff45f18720731aaae57a54",
      "a5a3c8460c6045f09f5b2881b959cff8",
      "8031165ee4ea42c1ab6d52e57a935110",
      "447ba891291a42e38564eddbaa222712",
      "5b9a2c8fb4914e54a37f8d52fb2f1f71",
      "431355217c8f4cefa0f102ea0251493e",
      "0c7ffc0bd37a4a269fbb9df3fdf4a747",
      "fba7110d0ada43c382604f2dfa63fba0",
      "43d1e33268f342979b160ef3b6b61ed0",
      "466eb426982140c6aba8a216617b428c",
      "857c897b3e0e4c1f8baf75a29d8ddba6",
      "b0d70781457f498187ac74c8277118b0",
      "8151d689b9a2420e8bfdbf649d016ac3",
      "40acc1f5a5ec4f4fa8f055735957c840",
      "1e5af4571e484b6db9523186532a637c",
      "199ca080e30e483ba7faa97b37f6075b",
      "ea4fc722737c4c15ad24c8d6b9879149",
      "0b93c5a57c0b48f1b63cc5a500779ba4",
      "8580f9238abb4b39853621f658dcf21a",
      "4a63eff3c385462d945cd579263f98e6",
      "3cb1b8ea10bb44608f02c3b23a0307cb",
      "485a480dbba1407283ec2d37025bc1ea",
      "3c93077ee9ae4c42b1662c19f8cc664f",
      "7ecb5c2a61564ab9af9c2aa9cdb671fe",
      "c5b3623eb928429e9a95ae431eb071d4",
      "2a8be0c80a3645799076ac38968abe28",
      "ac38e4edf352484eb108c3f703b2337e",
      "c660a7f2e7584b20ad31e2ab1faa7cd3",
      "43796b984cb34947af58a255e1c025a2",
      "619c9ff0329c4592bea065e37721c7ae",
      "9128f94d38664b609337075eceb8d723",
      "23d7d9c6dfce4a0b812336637651359e",
      "3ddfc3c8968749f0a1aa366bb9e5d1ec",
      "ad38802cf9fd483299fd1f5d4a4515eb",
      "fb3bbfbf1c9041059dc8229ba96577f2",
      "bb4b05faa20545f6b803ed275d53cbae",
      "212720d6591e4c4ba7ee3ea17bc86aa6",
      "340c06480882464e995a33182e4168f4",
      "0650a97587294bf38c8b80985065ce59",
      "6f28d5faff1d4bb780b47978bdd45f6e",
      "484c2fc2babc42ba8859eda112c1f644",
      "bc08a94ee72844389d217588dd1aa8b6",
      "80224d80e2f442038b6b24dfd55d7eb0",
      "3bde0ebed57842d5833f43b576117a5b",
      "f40baac906df43799917d952146a55e4",
      "4ae07b4237c341c0969e28b945719a93",
      "550af5fa591045cd84050757d883cf4c",
      "7568a535ba2448f9b21c5c5855c78a20",
      "e1f1221a4557480cab6b542555f6aa81",
      "409fee43853849259302cae65eb919a8",
      "8d14db5798174ed1b2045e6c6fdcffd5",
      "9f7f677fa6d144079a26cc88b719fcfc",
      "f35fc05aec064b5bb89232f0c2c2ea8f",
      "82ac79590be04baa99b4918764de1656",
      "9b9c5ddb395d4c96be02d2acb2c6146a",
      "65977cdfd8394fa7b65aaeab714d247e",
      "d5adfa6d3022454487d8c277f8dfe703",
      "b0bd010e5ffc4b83bc462af2b7debaaa",
      "6c3c44121bb7446982bcbe665063010f",
      "03e258eccca043879f22f74d07a73823",
      "609c904d294f4af68c63ee73a378058f",
      "c6399897162d433983b34db007d61d3a",
      "0d05817e4b3a44d7ae157fef5f8366bb",
      "74affe56f8704800a5ef458db8f724cc",
      "5b84d997dc9844458a463936e1eec819",
      "de75cde6412248d68222f356afaf723b",
      "9220098546144ca9a379de48f372379b",
      "c1ff3d37a9ae40f5b1a6feb49b3880b2",
      "5162c9c3f8f045aebe96097d7ce6c7f1",
      "03d752179fc34b6da55916e21c8d7132",
      "982277a401c04dc0a8886210a028e1cf",
      "add021ccc6da47309f5471302c1e0c0c",
      "8f2234468d3e4fd9a795ac554215c90a",
      "5bce9ed7f100464c9720444df1c77d33",
      "7048d730cf674076bb3f19da160f1c7e",
      "d082ce3639f74dc4aa288b907cc11913",
      "bac2da822e03409190a36f5e98faea05",
      "7734a7f62da54d3ead80b673ff54c58f",
      "a2266bbbfb91401a87309e2cf699b97e",
      "08aedbba052e4aa089b3c989235e4bc9",
      "dd1344ff470a41da8e3ba3bf2fed0330",
      "961a32781de447938c2552097b44bb6a",
      "f137c352f1f84bd2846543a99edcaf66",
      "baab712874ef470ab2511202554ca1f6",
      "d1aa72924dbe4aab8265670bed683243",
      "0847cb97f71a4697b65e947210b1a9e2",
      "cb03a0d2ea3f4d88a827278bf38ed7d5",
      "49d88de8f33148d8bce33bb3c4a6e1e2",
      "c61b479249a642d78f255cfff88376c8",
      "40b789afc24c4565b62a04a34db95ab9",
      "a4d12688801b4a84bae250aa501f4244",
      "4f2fff34acda4ca18822681a6ae660c5",
      "174f37f219a54a1997b67fe3f018ae3f",
      "33731c22fa1f4fda8ce1a3e3a1a0595a",
      "9ce407fd96794dc8b51f0ff9ae11bf25",
      "e0f4c6103d7d42738d25ab88ce9b131f",
      "138c91120b834607a7ab2f71473b2120",
      "f5ca4838aa674d8f958c4c97f2ffdb29",
      "c356a6218f8f4378a341aa186f57ff39",
      "edd2ee0ab057497cb7bb8e104675eb76",
      "a3716ebcccf34c6e8e0a1bc131c88b91",
      "40185db8efa14d03a135b6915b878fd8",
      "722e762f4f724e2d8535fed59acff48c",
      "194889a549f34c9b9bde37a93b136f0e",
      "250f9db20616411fb3acada83fd6a59a",
      "e614b67253c541368ffb97b602713f9d",
      "698b97539d3e448499f1799be0dbea55",
      "2f30f67a108a4653a929756bebd61db7",
      "219c7f2fe3534a7f8086f5cc99956ab9",
      "486501a0f60747869720ffa894097313",
      "9e024bb63ac34a808e549cc2c54cbf90",
      "8edd0b36edf948169941af0a9bf521ca",
      "ca1ef1b1454348e9b3dea44c6cce2fef",
      "16cccd050b4541b2bd604f8f5813c906",
      "b507956ed3e64e32a50ebcea0900bc00",
      "c011d6d269914f9aa4fdaa5ac7251c3f",
      "00147c6d32164fbeb61042cd870812e6",
      "0eb4e8ba667c410da3fb644dbe0ba611",
      "46f1365ceede4bdf9ea2d640a495ef2c",
      "e8b97f02ee7e46199e71b36cbedf7b55",
      "555d6d3615064c64b8cf2514c993f147",
      "f7886ff5cd0a44628525f1fafae8cc69",
      "1af70840017041d1977bec32118b51fc",
      "5cd98450842b4035a1ef22515a45c9b1",
      "b2016015ec854a60a283f9e7f80f697f",
      "d02a3e75fa954593ac96c723603fa335",
      "38efee5339d646c786ca2a0cd3bc92a2",
      "d5abfba748f94586a44ededf2829ac88",
      "634379734052494e9944e2e8b249bc37",
      "f53e19ad1e4745519d176611ba99b127",
      "548367bf8dae4cae89c9bf9c7a950983",
      "5a513489a00b4a289dc0a78b4b2ea682",
      "8640f0e3972c401a9aa666b97e2f65cd",
      "3c9cc056a7594fc48189688e11a674e3",
      "33d3043f56934121a55378e01c3e8c91",
      "d152c2509c6048a786fbcc334d01126d",
      "468af42ea71a40f0ba0493850f11fbd6",
      "b3d630a7754a453784be641fd18e59e8",
      "e6c0f0c25c2d4e40a900378f0a60376f",
      "75d256d3fdb3478894e8006bbfd4a9c9",
      "46c085185d8e43cabe2d188be206db81",
      "90d2fce8251f4113b0aae5cdd9a675c3",
      "47291c0dbd374dddb5ed55e95fcba4b8",
      "149193f45bad4ad7b9968042aa733f7c",
      "16e0ea22102c4cbb8e6acc455966d4e3",
      "9852e7a5114a4a92821698d72817eab1",
      "63f4f5d3122f455492ef914358d5af6f",
      "732947d9d6b146c6bea0493783de5ea0",
      "93b7d362ab8543509502c3d6a25c4ec4",
      "dae2a50b930b49e8890c06156a70e9fe",
      "665de66fe60442e5a2ef0a1d83ab6d6c",
      "581dde38bdf94c1190a2ebd03fcb9e32",
      "046d13e774d3468b8c306c7ca9fdecea",
      "b42732aa738d4785929ddf5090857101",
      "c91695af78f74c7aac545ed96fefc2f2",
      "391aee2561a84a919d2c13930df4c51c",
      "6a4479e259314405a317abe77ecd5099",
      "c3f0a855dd3343caaf6ad2c5a2c4f0bd",
      "500704301afe446dafde63573fd5b011",
      "52d92557044d45c8bce81ed83c38a2b9",
      "14ec13d18ad2420088568b36427f9009",
      "5b3f312c65fa4b5193c0690d660143d8",
      "84cedff55ceb4117a6c8de684d1ed45b",
      "027b158959f04f4ea0d9a10fa0b96b81",
      "22df350e62e64488a269b55ce36ea6ef",
      "2a14343631ca491199de84689f59e27d",
      "008a35a6a6854bce883ba866b3f4857f",
      "ed81d5a23e19497db7b38e8c3740ab4f",
      "d350f0087da849a2a7b595ca552b3ff6",
      "9e407483f3644c718cb1e18d41e3c909",
      "15642051f673480f85f14504850b935a",
      "72747b116b6a40d3ab057046ca01251c",
      "742d90eecb3f411c82da349e4406b352",
      "d8a297a8cc274bcea0bfeff1f022d21d",
      "7410c3846a42424096018dfd4d40aa17",
      "2ad1b928f8d04d109d642a99992e95f8",
      "4950b0aad00b4faea89ab30a81483f0a",
      "9609b324dd954c24b1bb4548abcf3734",
      "2ce0cdda28a14d7e91692ab4a3b61613",
      "bb06a83dc5654d73a683f15320be0ae5",
      "562edcc1de364513919ba9cfe423e0c4",
      "edcf739acad6453bb9e780664ad1ec28",
      "c95e6768f1d04f7b8719599b233ff6da",
      "687c07f16a8c4ffc9a728c4cd84ca877",
      "35b5b11e999f485e86bde4d860be70f0",
      "c4c0aeaf778d4a7696b92b265386b4c9",
      "8b4f17e94c4b4cfd88ba447e00aa9d9c",
      "fb8bcc40e2354759b0c06950b84fb772",
      "e84714f5b1474d5fb9de82a873634982",
      "0cf505abfff34b9996e02634f2302f75",
      "41b5c141d4644119884755c6aadc32bd",
      "2182068085714f7789c26494e0590abd",
      "481bd9106bd04c40be75c84ce36947c2",
      "0f6cf6ee82454678812c6c3556c629c4",
      "bc63284a9f1b42c3ab4dad9566427691",
      "9316d9750f604eb890cc0acd0005c4f2",
      "283b2c65fdd247b38d1781617697d8cf",
      "2fe097acc292441c949b12365b65b00f",
      "99e456f0f6a4447c865e193b2e2e403a",
      "9a04fae4c81241cdb18afbca92434f36",
      "79acf095feab40c3aec11f67fbfbc578",
      "8949f71e9230447b8387fff9e015db35",
      "c31e657033094205812809df8533e2a2",
      "a22ae64692604c909315df81a2086343",
      "a064bf613f8f459fa9a6b1b712bb767d",
      "735587fcf5d74e88ab163bebf2816eaa",
      "b012244845fb4edaa382b1f445410b60",
      "f4e5759320de41b6b53a8489826de278",
      "3d95923188d34af3826f94d26753c621",
      "9badb225097943f2b733f29b29757d40",
      "7874ce3229714053b8e08ef862ccb491",
      "12dc2c62761740be9876317a406b08ba",
      "0c21656f0f7647c8aa56801b6b58ecb1",
      "72c352ef3ae6437c9c48e594ae0420f5",
      "0f1f8892ad4f4bdc8d96995d1320b785",
      "113ecf093f5748828ae8de209ba113ac",
      "7143af2cdb2b448b84eaf6e05ec5d261",
      "4b2a02555a7f46a4b9843a53f3fa25e6",
      "4c079e4b42e14e2aac3313ad52ee0593",
      "614d2b0e6f784ae18e1f88507341fbc2",
      "326f13c1a2ab40ecab42403f9e6f90d9",
      "a549d178e9fc444899003233592fc0a8",
      "6a71f4258baa4fc0b76252b7552e1091",
      "b7c173e7a666440abe649c259f9226bf",
      "78868012c8b3464f851685d8a6ffc716",
      "daacdcd7b041425c9bbb22fccc0f8923",
      "07cf2d4a0c4043a3801b44c9f814f458",
      "c9b22ae2d6c141a1b5db997ed8ba3e62",
      "3522badd3f944b349e0505d42da4d7c9",
      "dd5c20578fa141e89237774f994f69e6",
      "b4b85db3f9c84a058dfd8dc44866154c",
      "e172002648464be7a3902ef1f206cdaa",
      "12fe7188bb8c4f6389a3fe0b2a5471fc",
      "cda37d7d767d41c7b3a72bdcef36aa47",
      "abda85f779344bbf94564fe4d0ad1680",
      "920061c69712466d93f3bb25a8c35ba5",
      "7fa9e0051a174cb69e404ea2079e5248",
      "0b52dd89df8f49ce9a79ff870cc2179d",
      "e6a320a84cf74c03ad11ac1c5b1d06c9",
      "659a8e0510d64f318b3c0b073fffe4ae",
      "991a9f697f7445419142b42aacabeafb",
      "a018ce00599047a1bb22d9bb0eaa84fe",
      "29326e4912964f9f96d9cc588643af7e",
      "312078bf057644d78aba389cd871a0b2",
      "989d96a90faf4612aa7debac301c8081",
      "82bc8b7886dc40b4a6f5075776d5ac12",
      "5a429b3c0ad4426092d1110e3f8a21c7",
      "272a1cc43251498b9963047519041b31",
      "3ace036311d24ac6b2e64c5dde2a3f26",
      "35a85cbe1315450e939f6bd8f5fc45e6",
      "bc037e1980df45888887e739a444d7d6",
      "6d8dde2da35f40b5abb84e4feda3a234",
      "77d240d140254f41a39dbf6e123e86d1",
      "cb01da72135f423c9f80bcccc9b5a882",
      "ae1d9fe990d04187aee6853a2ab7f459",
      "4fca6790b88f44b1b3f2b5cd9cb45d02",
      "d8f04d20e29f44a2a1952e1c4e9baaea",
      "3873dcdcebfc479da89072f01c0e9a7b",
      "f873fd6490834a3aa162b57cb25c3594",
      "b5251b64b8d64bacaf995eb5527b152b",
      "e4c726dda2f14b08b6c5b1d148183bd3",
      "3f2212a8b741459e9c8df0a5b0936aa0",
      "46af62b49fc54a2ea8d85d314d65a7e7",
      "23ad235a6fa643d682f2de072918071d",
      "d16bb810962f4853b00a45efa3918fcd",
      "a4abf7fed42c4286b9c8b7ebac7c21bc",
      "35603cb5f69a42ec8a4abdc30d76ae91",
      "c0aaf4759eb84a73aef91fe36bbdab92",
      "4fe09f819d3a49048d2d782abed4fe91",
      "c9be961fa6a34bc0acf2a06510a0195f",
      "291066b34a7344d8b01fe8d574ddec9a",
      "3cb031a7613b42ca9b728b60c4d409d7",
      "8a37eb72978f4b079be9e8e447d0251f",
      "5736c01944844e40b9f595899d6c0dac",
      "4b17bfc9ea484b83951060a977af86a8",
      "26fbe1c9032345ef9416122d16f5901f",
      "cf667ff3040e46a5af24397900d02e90",
      "81293b19212c4fde9cebcf35435cb959",
      "095c319782f24f15b7b10df9141a68d6",
      "5e6dbee793cd48f38d66c474247b370d",
      "0f7932272da44d108bf82937ec230321",
      "d515f8b7b5e549a8a183366bdca7d31c",
      "62f580d84501453e99febd30f498170c",
      "6176893e0c2c455daa2767a45e560c27",
      "81f6672d329f4c60b4c8b634bb7aedf4",
      "51455417d77b423192f7ade7a2e04deb",
      "9c33e787386e40669746d77fb3c7bbc8",
      "5712ed0adac24f08ac02067f20914ebd",
      "df08acff808d422798034fe766765871",
      "5eead64f190046849eb55e210f02cfd7",
      "8e4cd3fe831a4cb0a2fa065b2e65365f",
      "8466f3f0d31442dc88fbfb974b06d7f0",
      "2b00ff7bb980461298e5f98a9f868948",
      "5622ac49735441268200c3f14c99667b",
      "e6b1e9e3bab04a5a99c0561711b8e59f",
      "7d504ebc110a409ab881e26f3bc11724",
      "0db7672f25a74726afba049eaee71b1a",
      "8190338a7be547a397f255b34b8c8387",
      "ce2b181c303c4fbf8297672ba3e2f1f8",
      "653ecaa34b7a4d3eb91afe61dceaaed5",
      "5a49537ac7574bffa889f4268895959a",
      "060aba8ec9fb4e3385a4df7dd87e060b",
      "c5c4c7e9c1d04b99ae02ee96855481cc",
      "ba2dac94bdb141c5afbba253a8808ce8",
      "b65335f2082c4230adf695df34eb8fd6",
      "06eedeeff3f5485c88b5411f0990db7d",
      "156d99a6cdf7415496df9f5923e3e0b4",
      "e3cd205641024f21859e81d6b4fbbf21",
      "de1ada29a6d44300a5469a7ebea95598",
      "8042ce4ccd40492d9bf030a213144775",
      "c31fbd9bcd8d449aae0e2938286fb03d",
      "e8b4103b6f3840ffbb5d2653d2719790",
      "35bc149bfe6140a1b1b8909585fb3073",
      "68c88415e4f241c09a06fa29f5168353"
     ]
    },
    "id": "vkHxjmYjRW3E",
    "outputId": "e94a350d-caee-455b-ed4f-1b16849f0162"
   },
   "outputs": [
    {
     "name": "stdout",
     "output_type": "stream",
     "text": [
      "Fetching summary fields: material_id, formula_pretty, elements, nelements, volume, density, energy_above_hull, band_gap, is_metal, total_magnetization, theoretical\n",
      "Fetching ALL electrodes fields (will filter later): material_id, battery_type, working_ion, average_voltage, capacity_grav, capacity_vol, energy_grav, energy_vol, num_steps, max_voltage_step, stability_charge, stability_discharge\n",
      "  Processing 'Li' (1/18)...\r"
     ]
    },
    {
     "data": {
      "application/vnd.jupyter.widget-view+json": {
       "model_id": "edb347812f3644d080cc664a7796a7a0",
       "version_major": 2,
       "version_minor": 0
      },
      "text/plain": [
       "Retrieving SummaryDoc documents:   0%|          | 0/19926 [00:00<?, ?it/s]"
      ]
     },
     "metadata": {},
     "output_type": "display_data"
    },
    {
     "data": {
      "application/vnd.jupyter.widget-view+json": {
       "model_id": "eef9c80ffb2f45c3a7e2ef16666c2a9f",
       "version_major": 2,
       "version_minor": 0
      },
      "text/plain": [
       "Retrieving InsertionElectrodeDoc documents:   0%|          | 0/2453 [00:00<?, ?it/s]"
      ]
     },
     "metadata": {},
     "output_type": "display_data"
    },
    {
     "name": "stdout",
     "output_type": "stream",
     "text": [
      "  Processing 'Na' (2/18)...\r"
     ]
    },
    {
     "data": {
      "application/vnd.jupyter.widget-view+json": {
       "model_id": "20bd0400564d4145be3e7185c3a9c950",
       "version_major": 2,
       "version_minor": 0
      },
      "text/plain": [
       "Retrieving SummaryDoc documents:   0%|          | 0/11245 [00:00<?, ?it/s]"
      ]
     },
     "metadata": {},
     "output_type": "display_data"
    },
    {
     "data": {
      "application/vnd.jupyter.widget-view+json": {
       "model_id": "035f03b930b04f81919d81cd2bb6b9a7",
       "version_major": 2,
       "version_minor": 0
      },
      "text/plain": [
       "Retrieving InsertionElectrodeDoc documents:   0%|          | 0/414 [00:00<?, ?it/s]"
      ]
     },
     "metadata": {},
     "output_type": "display_data"
    },
    {
     "name": "stdout",
     "output_type": "stream",
     "text": [
      "  Processing 'Mg' (3/18)...\r"
     ]
    },
    {
     "data": {
      "application/vnd.jupyter.widget-view+json": {
       "model_id": "fc4d6170196147408c03973a7945c0f1",
       "version_major": 2,
       "version_minor": 0
      },
      "text/plain": [
       "Retrieving SummaryDoc documents:   0%|          | 0/12529 [00:00<?, ?it/s]"
      ]
     },
     "metadata": {},
     "output_type": "display_data"
    },
    {
     "data": {
      "application/vnd.jupyter.widget-view+json": {
       "model_id": "bee49106df4545b09806724ea5dfcbad",
       "version_major": 2,
       "version_minor": 0
      },
      "text/plain": [
       "Retrieving InsertionElectrodeDoc documents:   0%|          | 0/1507 [00:00<?, ?it/s]"
      ]
     },
     "metadata": {},
     "output_type": "display_data"
    },
    {
     "name": "stdout",
     "output_type": "stream",
     "text": [
      "  Processing 'Al' (4/18)...\r"
     ]
    },
    {
     "data": {
      "application/vnd.jupyter.widget-view+json": {
       "model_id": "6886737265a549398dc8891ce6b07af7",
       "version_major": 2,
       "version_minor": 0
      },
      "text/plain": [
       "Retrieving SummaryDoc documents:   0%|          | 0/6368 [00:00<?, ?it/s]"
      ]
     },
     "metadata": {},
     "output_type": "display_data"
    },
    {
     "data": {
      "application/vnd.jupyter.widget-view+json": {
       "model_id": "2268006a6e6d47a094b08505f7bc41e2",
       "version_major": 2,
       "version_minor": 0
      },
      "text/plain": [
       "Retrieving InsertionElectrodeDoc documents:   0%|          | 0/162 [00:00<?, ?it/s]"
      ]
     },
     "metadata": {},
     "output_type": "display_data"
    },
    {
     "name": "stdout",
     "output_type": "stream",
     "text": [
      "  Processing 'O' (5/18)...\r"
     ]
    },
    {
     "data": {
      "application/vnd.jupyter.widget-view+json": {
       "model_id": "0c7ffc0bd37a4a269fbb9df3fdf4a747",
       "version_major": 2,
       "version_minor": 0
      },
      "text/plain": [
       "Retrieving SummaryDoc documents:   0%|          | 0/66340 [00:00<?, ?it/s]"
      ]
     },
     "metadata": {},
     "output_type": "display_data"
    },
    {
     "data": {
      "application/vnd.jupyter.widget-view+json": {
       "model_id": "0b93c5a57c0b48f1b63cc5a500779ba4",
       "version_major": 2,
       "version_minor": 0
      },
      "text/plain": [
       "Retrieving InsertionElectrodeDoc documents:   0%|          | 0/4945 [00:00<?, ?it/s]"
      ]
     },
     "metadata": {},
     "output_type": "display_data"
    },
    {
     "name": "stdout",
     "output_type": "stream",
     "text": [
      "  Processing 'S' (6/18)...\r"
     ]
    },
    {
     "data": {
      "application/vnd.jupyter.widget-view+json": {
       "model_id": "43796b984cb34947af58a255e1c025a2",
       "version_major": 2,
       "version_minor": 0
      },
      "text/plain": [
       "Retrieving SummaryDoc documents:   0%|          | 0/12487 [00:00<?, ?it/s]"
      ]
     },
     "metadata": {},
     "output_type": "display_data"
    },
    {
     "data": {
      "application/vnd.jupyter.widget-view+json": {
       "model_id": "6f28d5faff1d4bb780b47978bdd45f6e",
       "version_major": 2,
       "version_minor": 0
      },
      "text/plain": [
       "Retrieving InsertionElectrodeDoc documents:   0%|          | 0/294 [00:00<?, ?it/s]"
      ]
     },
     "metadata": {},
     "output_type": "display_data"
    },
    {
     "name": "stdout",
     "output_type": "stream",
     "text": [
      "  Processing 'P' (7/18)...\r"
     ]
    },
    {
     "data": {
      "application/vnd.jupyter.widget-view+json": {
       "model_id": "8d14db5798174ed1b2045e6c6fdcffd5",
       "version_major": 2,
       "version_minor": 0
      },
      "text/plain": [
       "Retrieving SummaryDoc documents:   0%|          | 0/15274 [00:00<?, ?it/s]"
      ]
     },
     "metadata": {},
     "output_type": "display_data"
    },
    {
     "data": {
      "application/vnd.jupyter.widget-view+json": {
       "model_id": "c6399897162d433983b34db007d61d3a",
       "version_major": 2,
       "version_minor": 0
      },
      "text/plain": [
       "Retrieving InsertionElectrodeDoc documents:   0%|          | 0/1395 [00:00<?, ?it/s]"
      ]
     },
     "metadata": {},
     "output_type": "display_data"
    },
    {
     "name": "stdout",
     "output_type": "stream",
     "text": [
      "  Processing 'F' (8/18)...\r"
     ]
    },
    {
     "data": {
      "application/vnd.jupyter.widget-view+json": {
       "model_id": "8f2234468d3e4fd9a795ac554215c90a",
       "version_major": 2,
       "version_minor": 0
      },
      "text/plain": [
       "Retrieving SummaryDoc documents:   0%|          | 0/10140 [00:00<?, ?it/s]"
      ]
     },
     "metadata": {},
     "output_type": "display_data"
    },
    {
     "data": {
      "application/vnd.jupyter.widget-view+json": {
       "model_id": "baab712874ef470ab2511202554ca1f6",
       "version_major": 2,
       "version_minor": 0
      },
      "text/plain": [
       "Retrieving InsertionElectrodeDoc documents:   0%|          | 0/555 [00:00<?, ?it/s]"
      ]
     },
     "metadata": {},
     "output_type": "display_data"
    },
    {
     "name": "stdout",
     "output_type": "stream",
     "text": [
      "  Processing 'Cl' (9/18)...\r"
     ]
    },
    {
     "data": {
      "application/vnd.jupyter.widget-view+json": {
       "model_id": "9ce407fd96794dc8b51f0ff9ae11bf25",
       "version_major": 2,
       "version_minor": 0
      },
      "text/plain": [
       "Retrieving SummaryDoc documents:   0%|          | 0/4888 [00:00<?, ?it/s]"
      ]
     },
     "metadata": {},
     "output_type": "display_data"
    },
    {
     "data": {
      "application/vnd.jupyter.widget-view+json": {
       "model_id": "e614b67253c541368ffb97b602713f9d",
       "version_major": 2,
       "version_minor": 0
      },
      "text/plain": [
       "Retrieving InsertionElectrodeDoc documents:   0%|          | 0/81 [00:00<?, ?it/s]"
      ]
     },
     "metadata": {},
     "output_type": "display_data"
    },
    {
     "name": "stdout",
     "output_type": "stream",
     "text": [
      "  Processing 'Co' (10/18)...\r"
     ]
    },
    {
     "data": {
      "application/vnd.jupyter.widget-view+json": {
       "model_id": "00147c6d32164fbeb61042cd870812e6",
       "version_major": 2,
       "version_minor": 0
      },
      "text/plain": [
       "Retrieving SummaryDoc documents:   0%|          | 0/9303 [00:00<?, ?it/s]"
      ]
     },
     "metadata": {},
     "output_type": "display_data"
    },
    {
     "data": {
      "application/vnd.jupyter.widget-view+json": {
       "model_id": "d5abfba748f94586a44ededf2829ac88",
       "version_major": 2,
       "version_minor": 0
      },
      "text/plain": [
       "Retrieving InsertionElectrodeDoc documents:   0%|          | 0/614 [00:00<?, ?it/s]"
      ]
     },
     "metadata": {},
     "output_type": "display_data"
    },
    {
     "name": "stdout",
     "output_type": "stream",
     "text": [
      "  Processing 'Ni' (11/18)...\r"
     ]
    },
    {
     "data": {
      "application/vnd.jupyter.widget-view+json": {
       "model_id": "e6c0f0c25c2d4e40a900378f0a60376f",
       "version_major": 2,
       "version_minor": 0
      },
      "text/plain": [
       "Retrieving SummaryDoc documents:   0%|          | 0/7023 [00:00<?, ?it/s]"
      ]
     },
     "metadata": {},
     "output_type": "display_data"
    },
    {
     "data": {
      "application/vnd.jupyter.widget-view+json": {
       "model_id": "dae2a50b930b49e8890c06156a70e9fe",
       "version_major": 2,
       "version_minor": 0
      },
      "text/plain": [
       "Retrieving InsertionElectrodeDoc documents:   0%|          | 0/490 [00:00<?, ?it/s]"
      ]
     },
     "metadata": {},
     "output_type": "display_data"
    },
    {
     "name": "stdout",
     "output_type": "stream",
     "text": [
      "  Processing 'Mn' (12/18)...\r"
     ]
    },
    {
     "data": {
      "application/vnd.jupyter.widget-view+json": {
       "model_id": "14ec13d18ad2420088568b36427f9009",
       "version_major": 2,
       "version_minor": 0
      },
      "text/plain": [
       "Retrieving SummaryDoc documents:   0%|          | 0/12212 [00:00<?, ?it/s]"
      ]
     },
     "metadata": {},
     "output_type": "display_data"
    },
    {
     "data": {
      "application/vnd.jupyter.widget-view+json": {
       "model_id": "72747b116b6a40d3ab057046ca01251c",
       "version_major": 2,
       "version_minor": 0
      },
      "text/plain": [
       "Retrieving InsertionElectrodeDoc documents:   0%|          | 0/982 [00:00<?, ?it/s]"
      ]
     },
     "metadata": {},
     "output_type": "display_data"
    },
    {
     "name": "stdout",
     "output_type": "stream",
     "text": [
      "  Processing 'Fe' (13/18)...\r"
     ]
    },
    {
     "data": {
      "application/vnd.jupyter.widget-view+json": {
       "model_id": "c95e6768f1d04f7b8719599b233ff6da",
       "version_major": 2,
       "version_minor": 0
      },
      "text/plain": [
       "Retrieving SummaryDoc documents:   0%|          | 0/10653 [00:00<?, ?it/s]"
      ]
     },
     "metadata": {},
     "output_type": "display_data"
    },
    {
     "data": {
      "application/vnd.jupyter.widget-view+json": {
       "model_id": "0f6cf6ee82454678812c6c3556c629c4",
       "version_major": 2,
       "version_minor": 0
      },
      "text/plain": [
       "Retrieving InsertionElectrodeDoc documents:   0%|          | 0/910 [00:00<?, ?it/s]"
      ]
     },
     "metadata": {},
     "output_type": "display_data"
    },
    {
     "name": "stdout",
     "output_type": "stream",
     "text": [
      "  Processing 'Cu' (14/18)...\r"
     ]
    },
    {
     "data": {
      "application/vnd.jupyter.widget-view+json": {
       "model_id": "a064bf613f8f459fa9a6b1b712bb767d",
       "version_major": 2,
       "version_minor": 0
      },
      "text/plain": [
       "Retrieving SummaryDoc documents:   0%|          | 0/8067 [00:00<?, ?it/s]"
      ]
     },
     "metadata": {},
     "output_type": "display_data"
    },
    {
     "data": {
      "application/vnd.jupyter.widget-view+json": {
       "model_id": "113ecf093f5748828ae8de209ba113ac",
       "version_major": 2,
       "version_minor": 0
      },
      "text/plain": [
       "Retrieving InsertionElectrodeDoc documents:   0%|          | 0/502 [00:00<?, ?it/s]"
      ]
     },
     "metadata": {},
     "output_type": "display_data"
    },
    {
     "name": "stdout",
     "output_type": "stream",
     "text": [
      "  Processing 'Zn' (15/18)...\r"
     ]
    },
    {
     "data": {
      "application/vnd.jupyter.widget-view+json": {
       "model_id": "07cf2d4a0c4043a3801b44c9f814f458",
       "version_major": 2,
       "version_minor": 0
      },
      "text/plain": [
       "Retrieving SummaryDoc documents:   0%|          | 0/5517 [00:00<?, ?it/s]"
      ]
     },
     "metadata": {},
     "output_type": "display_data"
    },
    {
     "data": {
      "application/vnd.jupyter.widget-view+json": {
       "model_id": "0b52dd89df8f49ce9a79ff870cc2179d",
       "version_major": 2,
       "version_minor": 0
      },
      "text/plain": [
       "Retrieving InsertionElectrodeDoc documents:   0%|          | 0/458 [00:00<?, ?it/s]"
      ]
     },
     "metadata": {},
     "output_type": "display_data"
    },
    {
     "name": "stdout",
     "output_type": "stream",
     "text": [
      "  Processing 'Si' (16/18)...\r"
     ]
    },
    {
     "data": {
      "application/vnd.jupyter.widget-view+json": {
       "model_id": "3ace036311d24ac6b2e64c5dde2a3f26",
       "version_major": 2,
       "version_minor": 0
      },
      "text/plain": [
       "Retrieving SummaryDoc documents:   0%|          | 0/10574 [00:00<?, ?it/s]"
      ]
     },
     "metadata": {},
     "output_type": "display_data"
    },
    {
     "data": {
      "application/vnd.jupyter.widget-view+json": {
       "model_id": "b5251b64b8d64bacaf995eb5527b152b",
       "version_major": 2,
       "version_minor": 0
      },
      "text/plain": [
       "Retrieving InsertionElectrodeDoc documents:   0%|          | 0/260 [00:00<?, ?it/s]"
      ]
     },
     "metadata": {},
     "output_type": "display_data"
    },
    {
     "name": "stdout",
     "output_type": "stream",
     "text": [
      "  Processing 'Ge' (17/18)...\r"
     ]
    },
    {
     "data": {
      "application/vnd.jupyter.widget-view+json": {
       "model_id": "291066b34a7344d8b01fe8d574ddec9a",
       "version_major": 2,
       "version_minor": 0
      },
      "text/plain": [
       "Retrieving SummaryDoc documents:   0%|          | 0/4811 [00:00<?, ?it/s]"
      ]
     },
     "metadata": {},
     "output_type": "display_data"
    },
    {
     "data": {
      "application/vnd.jupyter.widget-view+json": {
       "model_id": "d515f8b7b5e549a8a183366bdca7d31c",
       "version_major": 2,
       "version_minor": 0
      },
      "text/plain": [
       "Retrieving InsertionElectrodeDoc documents:   0%|          | 0/72 [00:00<?, ?it/s]"
      ]
     },
     "metadata": {},
     "output_type": "display_data"
    },
    {
     "name": "stdout",
     "output_type": "stream",
     "text": [
      "  Processing 'C' (18/18)...\r"
     ]
    },
    {
     "data": {
      "application/vnd.jupyter.widget-view+json": {
       "model_id": "2b00ff7bb980461298e5f98a9f868948",
       "version_major": 2,
       "version_minor": 0
      },
      "text/plain": [
       "Retrieving SummaryDoc documents:   0%|          | 0/5730 [00:00<?, ?it/s]"
      ]
     },
     "metadata": {},
     "output_type": "display_data"
    },
    {
     "data": {
      "application/vnd.jupyter.widget-view+json": {
       "model_id": "ba2dac94bdb141c5afbba253a8808ce8",
       "version_major": 2,
       "version_minor": 0
      },
      "text/plain": [
       "Retrieving InsertionElectrodeDoc documents:   0%|          | 0/244 [00:00<?, ?it/s]"
      ]
     },
     "metadata": {},
     "output_type": "display_data"
    },
    {
     "name": "stdout",
     "output_type": "stream",
     "text": [
      "\n",
      "Finished raw data retrieval. Total summary entries: 233087, Total electrodes entries: 16338\n"
     ]
    }
   ],
   "source": [
    "all_summary_docs = []\n",
    "all_electrodes_docs = []\n",
    "\n",
    "print(f\"Fetching summary fields: {', '.join(summary_fields_to_fetch)}\")\n",
    "print(f\"Fetching ALL electrodes fields (will filter later): {', '.join(desired_electrodes_fields)}\")\n",
    "\n",
    "try:\n",
    "    with MPRester(MP_API_KEY) as m:\n",
    "        for i, element in enumerate(all_battery_elements):\n",
    "            print(f\"  Processing '{element}' ({i+1}/{len(all_battery_elements)})...\", end='\\r')\n",
    "\n",
    "            # Fetch summary data\n",
    "            summary_data = fetch_summary_data(m, element, summary_fields_to_fetch)\n",
    "            all_summary_docs.extend(summary_data)\n",
    "\n",
    "            # Fetch electrodes data (without specifying fields)\n",
    "            electrodes_data = fetch_electrodes_data(m, element) # CRITICAL FIX: No fields parameter here\n",
    "            all_electrodes_docs.extend(electrodes_data)\n",
    "\n",
    "    print(f\"\\nFinished raw data retrieval. Total summary entries: {len(all_summary_docs)}, Total electrodes entries: {len(all_electrodes_docs)}\")\n",
    "\n",
    "except Exception as e:\n",
    "    print(f\"\\n--- CRITICAL ERROR during Data Retrieval ---\")\n",
    "    print(f\"Error details: {e}\")\n",
    "    print(\"Please check API key, network, and query parameters.\")\n",
    "    sys.exit(\"Exiting: Data retrieval failed.\")"
   ]
  },
  {
   "cell_type": "markdown",
   "metadata": {
    "id": "8UUzLtDsykSp"
   },
   "source": [
    "## Save and Load point"
   ]
  },
  {
   "cell_type": "code",
   "execution_count": null,
   "metadata": {
    "colab": {
     "base_uri": "https://localhost:8080/"
    },
    "id": "WBk0yTlWympW",
    "outputId": "df68473f-7e55-41e5-ed15-fa849ed2042d"
   },
   "outputs": [
    {
     "name": "stdout",
     "output_type": "stream",
     "text": [
      "Saving fetched data to '/content/drive/MyDrive/Colab Notebooks/Masters Research Project/Data/all_summary_docs.pkl' and '/content/drive/MyDrive/Colab Notebooks/Masters Research Project/Data/all_electrodes_docs.pkl'...\n",
      "Data saved successfully.\n"
     ]
    }
   ],
   "source": [
    "summary_data_filepath = os.path.join(data_folder_path, \"all_summary_docs.pkl\")\n",
    "electrodes_data_filepath = os.path.join(data_folder_path, \"all_electrodes_docs.pkl\")\n",
    "\n",
    "print(f\"Saving fetched data to '{summary_data_filepath}' and '{electrodes_data_filepath}'...\")\n",
    "try:\n",
    "    with open(summary_data_filepath, 'wb') as f:\n",
    "        pickle.dump(all_summary_docs, f)\n",
    "    with open(electrodes_data_filepath, 'wb') as f:\n",
    "        pickle.dump(all_electrodes_docs, f)\n",
    "    print(\"Data saved successfully.\")\n",
    "except Exception as e:\n",
    "    print(f\"Error saving data: {e}\")"
   ]
  },
  {
   "cell_type": "markdown",
   "metadata": {
    "id": "PX_6KZcdzjtI"
   },
   "source": [
    "## load data from here"
   ]
  },
  {
   "cell_type": "code",
   "execution_count": null,
   "metadata": {
    "colab": {
     "base_uri": "https://localhost:8080/"
    },
    "id": "BM2zeCGjy8WX",
    "outputId": "26505902-d00e-4238-f15f-59fb02b84b15"
   },
   "outputs": [
    {
     "name": "stdout",
     "output_type": "stream",
     "text": [
      "Loading data from '/content/drive/MyDrive/Colab Notebooks/Masters Research Project/Data/all_summary_docs.pkl' and '/content/drive/MyDrive/Colab Notebooks/Masters Research Project/Data/all_electrodes_docs.pkl'...\n",
      "Data loaded successfully. Total summary entries: 233087, Total electrodes entries: 16338\n"
     ]
    }
   ],
   "source": [
    "all_summary_docs = [] # Initialize as empty lists\n",
    "all_electrodes_docs = [] # Initialize as empty lists\n",
    "\n",
    "summary_data_filepath = os.path.join(data_folder_path, \"all_summary_docs.pkl\")\n",
    "electrodes_data_filepath = os.path.join(data_folder_path, \"all_electrodes_docs.pkl\")\n",
    "\n",
    "if os.path.exists(summary_data_filepath) and os.path.exists(electrodes_data_filepath):\n",
    "    print(f\"Loading data from '{summary_data_filepath}' and '{electrodes_data_filepath}'...\")\n",
    "    try:\n",
    "        with open(summary_data_filepath, 'rb') as f:\n",
    "            all_summary_docs = pickle.load(f)\n",
    "        with open(electrodes_data_filepath, 'rb') as f:\n",
    "            all_electrodes_docs = pickle.load(f)\n",
    "        print(f\"Data loaded successfully. Total summary entries: {len(all_summary_docs)}, Total electrodes entries: {len(all_electrodes_docs)}\")\n",
    "    except Exception as e:\n",
    "        print(f\"Error loading saved data: {e}. Will proceed without loaded data.\")\n",
    "        all_summary_docs = [] # Reset to empty lists if loading fails\n",
    "        all_electrodes_docs = []\n",
    "else:\n",
    "    print(\"Saved data files not found. Data lists are empty.\")"
   ]
  },
  {
   "cell_type": "markdown",
   "metadata": {
    "id": "27EiuE5eV6qc"
   },
   "source": [
    "## Process, Filter, and Combine Raw Data"
   ]
  },
  {
   "cell_type": "code",
   "execution_count": null,
   "metadata": {
    "colab": {
     "base_uri": "https://localhost:8080/"
    },
    "id": "09zqn5YMfGuD",
    "outputId": "767558c8-cd43-477c-f2a7-0fe6d1d4f350"
   },
   "outputs": [
    {
     "name": "stdout",
     "output_type": "stream",
     "text": [
      "Initial summary DataFrame has 233087 rows.\n"
     ]
    }
   ],
   "source": [
    "# Process Raw Summary Data\n",
    "\n",
    "if not all_summary_docs:\n",
    "    print(\"WARNING: 'all_summary_docs' is empty. Summary DataFrame will be empty.\")\n",
    "    df_summary = pd.DataFrame()\n",
    "else:\n",
    "    df_summary = pd.DataFrame(all_summary_docs)\n",
    "print(f\"Initial summary DataFrame has {len(df_summary)} rows.\")\n",
    "\n",
    "if not df_summary.empty:\n",
    "    # More explicit cleaning for material_id to ensure uniqueness before dropping duplicates\n",
    "    df_summary['material_id'] = df_summary['material_id'].apply(lambda x: str(x).strip() if pd.notna(x) else np.nan)\n",
    "    df_summary.dropna(subset=['material_id'], inplace=True) # Drop rows where material_id became NaN after cleaning\n",
    "\n",
    "    # Keep all desired summary columns here, before the merge\n",
    "    summary_cols_to_keep = [\n",
    "        'material_id', 'energy_above_hull', 'elements', 'density',\n",
    "        'formula_pretty', 'nelements', 'volume', 'band_gap', 'is_metal',\n",
    "        'total_magnetization', 'theoretical'\n",
    "    ]\n",
    "    df_summary_processed = df_summary[[col for col in summary_cols_to_keep if col in df_summary.columns]].copy()\n",
    "\n",
    "    # Deduplicate summary data. If a material_id appears multiple times in raw summary (e.g. from multiple element searches), keep one.\n",
    "    df_summary_unique = df_summary_processed.drop_duplicates(subset=['material_id']).copy()\n",
    "\n",
    "else:\n",
    "    df_summary_unique = df_summary.copy() # Remains empty if df_summary was empty\n"
   ]
  },
  {
   "cell_type": "code",
   "execution_count": null,
   "metadata": {
    "colab": {
     "base_uri": "https://localhost:8080/"
    },
    "id": "w-ch91Jdz60I",
    "outputId": "005e417c-8a0d-4875-93d2-9923c4e9a405"
   },
   "outputs": [
    {
     "name": "stdout",
     "output_type": "stream",
     "text": [
      "Summary data after initial processing and deduplication: 108699 rows.\n",
      "Number of UNIQUE material_ids in df_summary_unique: 108699 (Total rows: 108699)\n"
     ]
    }
   ],
   "source": [
    "# Check summary data post-deduplication\n",
    "\n",
    "print(f\"Summary data after initial processing and deduplication: {len(df_summary_unique)} rows.\")\n",
    "print(f\"Number of UNIQUE material_ids in df_summary_unique: {df_summary_unique['material_id'].nunique()} (Total rows: {len(df_summary_unique)})\")\n",
    "# Assert to double check - this will raise an error if not unique\n",
    "if not df_summary_unique.empty:\n",
    "    assert len(df_summary_unique) == df_summary_unique['material_id'].nunique(), \"df_summary_unique still has duplicate material_ids after drop_duplicates!\"\n"
   ]
  },
  {
   "cell_type": "code",
   "execution_count": null,
   "metadata": {
    "colab": {
     "base_uri": "https://localhost:8080/"
    },
    "id": "lWFnKgctz_9_PY",
    "outputId": "057a6616-8ad8-4e46-9290-9180e87a8ae9"
   },
   "outputs": [
    {
     "name": "stdout",
     "output_type": "stream",
     "text": [
      "Initial electrodes DataFrame has 16338 rows.\n"
     ]
    }
   ],
   "source": [
    "# Process Raw Electrodes Data\n",
    "\n",
    "if not all_electrodes_docs:\n",
    "    print(\"WARNING: 'all_electrodes_docs' is empty. Electrodes DataFrame will be empty.\")\n",
    "    df_electrodes = pd.DataFrame()\n",
    "else:\n",
    "    df_electrodes = pd.DataFrame(all_electrodes_docs)\n",
    "print(f\"Initial electrodes DataFrame has {len(df_electrodes)} rows.\")\n",
    "\n",
    "if not df_electrodes.empty:\n",
    "    # More concise function to extract a clean material_id for linking\n",
    "    def get_clean_material_id(row):\n",
    "        if 'adj_pairs' in row and isinstance(row['adj_pairs'], list) and len(row['adj_pairs']) > 0:\n",
    "            pair = row['adj_pairs'][0]\n",
    "            material_id_candidate = pair.get('id_charge') or pair.get('id_discharge')\n",
    "        elif 'material_id' in row and row['material_id']:\n",
    "            material_id_candidate = row['material_id']\n",
    "        elif 'material_ids' in row and isinstance(row['material_ids'], list) and len(row['material_ids']) > 0:\n",
    "            material_id_candidate = row['material_ids'][0]\n",
    "        else:\n",
    "            return None\n",
    "\n",
    "        if material_id_candidate and isinstance(material_id_candidate, str) and (material_id_candidate.startswith('mp-') or material_id_candidate.startswith('mvc-')):\n",
    "            return material_id_candidate.strip() # Apply strip here\n",
    "        return None\n",
    "\n",
    "    df_electrodes['material_id'] = df_electrodes.apply(get_clean_material_id, axis=1)\n",
    "\n",
    "    # Select desired columns and drop rows with missing material_id, then drop duplicates\n",
    "    electrode_columns_to_keep = [\n",
    "        \"material_id\", \"battery_type\", \"working_ion\", \"average_voltage\",\n",
    "        \"capacity_grav\", \"capacity_vol\", \"energy_grav\", \"energy_vol\",\n",
    "        \"num_steps\", \"max_voltage_step\", \"stability_charge\", \"stability_discharge\"\n",
    "    ]\n",
    "    # Chain operations for conciseness\n",
    "    df_electrodes_unique = df_electrodes[electrode_columns_to_keep].dropna(\n",
    "        subset=['material_id']\n",
    "    ).drop_duplicates(\n",
    "        subset=['material_id']\n",
    "    ).copy()\n",
    "\n",
    "\n",
    "else:\n",
    "    df_electrodes_unique = pd.DataFrame()"
   ]
  },
  {
   "cell_type": "code",
   "execution_count": null,
   "metadata": {
    "colab": {
     "base_uri": "https://localhost:8080/"
    },
    "id": "AydC1mV_0F9X",
    "outputId": "8a5966f4-6d45-455b-fbe1-ff9c08a9293c"
   },
   "outputs": [
    {
     "name": "stdout",
     "output_type": "stream",
     "text": [
      "Processed electrodes data (cleaned, selected fields, unique material IDs): 4213 rows.\n",
      "Number of UNIQUE material_ids in df_electrodes_unique: 4213 (Total rows: 4213)\n"
     ]
    }
   ],
   "source": [
    "# DIAGNOSTIC PRINT: Check electrodes data post-deduplication\n",
    "\n",
    "print(f\"Processed electrodes data (cleaned, selected fields, unique material IDs): {len(df_electrodes_unique)} rows.\")\n",
    "print(f\"Number of UNIQUE material_ids in df_electrodes_unique: {df_electrodes_unique['material_id'].nunique()} (Total rows: {len(df_electrodes_unique)})\")\n",
    "if not df_electrodes_unique.empty:\n",
    "    assert len(df_electrodes_unique) == df_electrodes_unique['material_id'].nunique(), \"df_electrodes_unique still has duplicate material_ids after drop_duplicates!\"\n"
   ]
  },
  {
   "cell_type": "code",
   "execution_count": null,
   "metadata": {
    "colab": {
     "base_uri": "https://localhost:8080/"
    },
    "id": "zjPBu3F00MDo",
    "outputId": "c721c600-9679-4a42-c108-86c96141563f"
   },
   "outputs": [
    {
     "name": "stdout",
     "output_type": "stream",
     "text": [
      "Post-Final-Strip Check: df_electrodes_unique has 4213 unique material_ids out of 4213 rows.\n",
      "Post-Final-Strip Check: df_summary_unique has 108699 unique material_ids out of 108699 rows.\n"
     ]
    }
   ],
   "source": [
    "# Merge the Processed Summary Data and Processed Electrodes Data using OUTER merge\n",
    "\n",
    "# FINAL CHECK AND STANDARDIZATION OF material_id JUST BEFORE MERGE (redundant but safe)\n",
    "if not df_electrodes_unique.empty:\n",
    "    df_electrodes_unique['material_id'] = df_electrodes_unique['material_id'].apply(lambda x: str(x).strip())\n",
    "if not df_summary_unique.empty:\n",
    "    df_summary_unique['material_id'] = df_summary_unique['material_id'].apply(lambda x: str(x).strip())\n",
    "\n",
    "# Re-verify uniqueness after final strip, just in case\n",
    "print(f\"Post-Final-Strip Check: df_electrodes_unique has {df_electrodes_unique['material_id'].nunique()} unique material_ids out of {len(df_electrodes_unique)} rows.\")\n",
    "print(f\"Post-Final-Strip Check: df_summary_unique has {df_summary_unique['material_id'].nunique()} unique material_ids out of {len(df_summary_unique)} rows.\")\n"
   ]
  },
  {
   "cell_type": "code",
   "execution_count": null,
   "metadata": {
    "colab": {
     "base_uri": "https://localhost:8080/"
    },
    "id": "RWPqQHsn0VSp",
    "outputId": "d0a2993e-d3d2-4881-fee9-0f202c3d8803"
   },
   "outputs": [
    {
     "name": "stdout",
     "output_type": "stream",
     "text": [
      "Combined data after OUTER merge: 109203 rows.\n",
      "Combined data after OUTER merge and final material_id deduplication: 109203 rows.\n",
      "Filtered for completeness of electrode data (e.g., 'battery_type' not null): 4213 rows retained (from 109203 rows).\n",
      "This should be close to the original count of electrode data (4213 rows).\n"
     ]
    }
   ],
   "source": [
    "if not df_electrodes_unique.empty or not df_summary_unique.empty:\n",
    "    df_combined = pd.merge(\n",
    "        df_summary_unique, # Use the already unique summary data\n",
    "        df_electrodes_unique, # Use the already unique electrodes data\n",
    "        on='material_id',\n",
    "        how='outer', # Keep all materials from both datasets\n",
    "        suffixes=('_summary', '_electrode') # Differentiate columns if names overlap\n",
    "    )\n",
    "    print(f\"Combined data after OUTER merge: {len(df_combined)} rows.\")\n",
    "\n",
    "    df_combined = df_combined.drop_duplicates(subset=['material_id']).copy()\n",
    "    print(f\"Combined data after OUTER merge and final material_id deduplication: {len(df_combined)} rows.\")\n",
    "\n",
    "    if 'battery_type' in df_combined.columns:\n",
    "        initial_rows_before_completeness_filter = len(df_combined)\n",
    "        df_final_data_filtered_hosts = df_combined[df_combined['battery_type'].notna()].copy()\n",
    "        print(f\"Filtered for completeness of electrode data (e.g., 'battery_type' not null): {len(df_final_data_filtered_hosts)} rows retained (from {initial_rows_before_completeness_filter} rows).\")\n",
    "        print(f\"This should be close to the original count of electrode data ({len(df_electrodes_unique)} rows).\")\n",
    "    else:\n",
    "        print(\"WARNING: 'battery_type' column not found in df_combined. Cannot filter for completeness of electrode data.\")\n",
    "        df_final_data_filtered_hosts = df_combined.copy() # If battery_type not found, just use df_combined\n",
    "\n",
    "else:\n",
    "    print(\"Both input DataFrames for merging are empty. Skipping merge.\")\n",
    "    df_final_data_filtered_hosts = pd.DataFrame()"
   ]
  },
  {
   "cell_type": "code",
   "execution_count": null,
   "metadata": {
    "colab": {
     "base_uri": "https://localhost:8080/"
    },
    "id": "R6RFYPVc5Hz8",
    "outputId": "ed66584f-49c3-4dfc-df27-bc64abfa1540"
   },
   "outputs": [
    {
     "name": "stdout",
     "output_type": "stream",
     "text": [
      "\n",
      "--- Inspection of df_final_data_filtered_hosts after merge, deduplication, and completeness filter ---\n",
      "Shape of df_final_data_filtered_hosts: (4213, 22)\n",
      "Columns in df_final_data_filtered_hosts: ['material_id', 'energy_above_hull', 'elements', 'density', 'formula_pretty', 'nelements', 'volume', 'band_gap', 'is_metal', 'total_magnetization', 'theoretical', 'battery_type', 'working_ion', 'average_voltage', 'capacity_grav', 'capacity_vol', 'energy_grav', 'energy_vol', 'num_steps', 'max_voltage_step', 'stability_charge', 'stability_discharge']\n",
      "\n",
      "Info on df_final_data_filtered_hosts (including non-null counts and dtypes):\n",
      "<class 'pandas.core.frame.DataFrame'>\n",
      "Index: 4213 entries, 34 to 109199\n",
      "Data columns (total 22 columns):\n",
      " #   Column               Non-Null Count  Dtype  \n",
      "---  ------               --------------  -----  \n",
      " 0   material_id          4213 non-null   object \n",
      " 1   energy_above_hull    3709 non-null   float64\n",
      " 2   elements             3709 non-null   object \n",
      " 3   density              3709 non-null   float64\n",
      " 4   formula_pretty       3709 non-null   object \n",
      " 5   nelements            3709 non-null   float64\n",
      " 6   volume               3709 non-null   float64\n",
      " 7   band_gap             3709 non-null   float64\n",
      " 8   is_metal             3709 non-null   object \n",
      " 9   total_magnetization  3709 non-null   float64\n",
      " 10  theoretical          3709 non-null   object \n",
      " 11  battery_type         4213 non-null   object \n",
      " 12  working_ion          4213 non-null   object \n",
      " 13  average_voltage      4213 non-null   float64\n",
      " 14  capacity_grav        4213 non-null   float64\n",
      " 15  capacity_vol         4213 non-null   float64\n",
      " 16  energy_grav          4213 non-null   float64\n",
      " 17  energy_vol           4213 non-null   float64\n",
      " 18  num_steps            4213 non-null   float64\n",
      " 19  max_voltage_step     4213 non-null   float64\n",
      " 20  stability_charge     4213 non-null   float64\n",
      " 21  stability_discharge  4213 non-null   float64\n",
      "dtypes: float64(15), object(7)\n",
      "memory usage: 757.0+ KB\n",
      "\n",
      "Number of nulls in 'elements': 504 out of 4213 rows.\n",
      "First 10 rows of df_final_data_filtered_hosts (material_id, elements):\n",
      "| material_id   | elements                      |\n",
      "|:--------------|:------------------------------|\n",
      "| mp-1001833    | nan                           |\n",
      "| mp-1001925    | nan                           |\n",
      "| mp-1002219    | nan                           |\n",
      "| mp-1002227    | nan                           |\n",
      "| mp-1002568    | ['Mg', 'Mn', 'O']             |\n",
      "| mp-10033      | ['Nb', 'S']                   |\n",
      "| mp-1003637    | ['Li', 'Mn', 'O']             |\n",
      "| mp-1003854    | ['K', 'Mn', 'O']              |\n",
      "| mp-1004375    | ['Mg', 'Mn', 'O']             |\n",
      "| mp-10062      | ['Ba', 'Cu', 'Nb', 'Nd', 'O'] |\n"
     ]
    }
   ],
   "source": [
    "# Inspection of df_final_data_filtered_hosts after merge, deduplication, and completeness filter\n",
    "\n",
    "print(\"\\n--- Inspection of df_final_data_filtered_hosts after merge, deduplication, and completeness filter ---\")\n",
    "print(f\"Shape of df_final_data_filtered_hosts: {df_final_data_filtered_hosts.shape}\")\n",
    "print(f\"Columns in df_final_data_filtered_hosts: {df_final_data_filtered_hosts.columns.tolist()}\")\n",
    "print(\"\\nInfo on df_final_data_filtered_hosts (including non-null counts and dtypes):\")\n",
    "df_final_data_filtered_hosts.info(verbose=True, show_counts=True) # show_counts will display non-nulls\n",
    "\n",
    "if 'elements' in df_final_data_filtered_hosts.columns:\n",
    "    print(f\"\\nNumber of nulls in 'elements': {df_final_data_filtered_hosts['elements'].isnull().sum()} out of {len(df_final_data_filtered_hosts)} rows.\")\n",
    "    print(\"First 10 rows of df_final_data_filtered_hosts (material_id, elements):\")\n",
    "    print(df_final_data_filtered_hosts[['material_id', 'elements']].head(10).to_markdown(index=False, numalign=\"left\", stralign=\"left\"))\n",
    "else:\n",
    "    print(\"\\n'elements' column does not exist in df_final_data_filtered_hosts.\")\n"
   ]
  },
  {
   "cell_type": "code",
   "execution_count": null,
   "metadata": {
    "colab": {
     "base_uri": "https://localhost:8080/"
    },
    "id": "9UZ1vvdq_gQy",
    "outputId": "58fbef3a-3c12-4e73-8f27-9bc3ceb65897"
   },
   "outputs": [
    {
     "name": "stdout",
     "output_type": "stream",
     "text": [
      "Renamed 'capacity_grav' to 'theoretical_capacity_grav' and 'capacity_vol' to 'theoretical_capacity_vol'.\n"
     ]
    }
   ],
   "source": [
    "#  Final Cleaning and Type Conversion\n",
    "\n",
    "# Rename Columns to Match Desired Features (from capacity_grav/vol to theoretical_capacity_grav/vol)\n",
    "df_final_data_filtered_hosts.rename(columns={\n",
    "    'capacity_grav': 'theoretical_capacity_grav',\n",
    "    'capacity_vol': 'theoretical_capacity_vol'\n",
    "}, inplace=True)\n",
    "print(\"Renamed 'capacity_grav' to 'theoretical_capacity_grav' and 'capacity_vol' to 'theoretical_capacity_vol'.\")\n",
    "\n",
    "\n",
    "# Convert Numeric Columns\n",
    "numeric_cols_for_conversion = [\n",
    "    'average_voltage', # CHANGED from 'average_voltage_electrode'\n",
    "    'theoretical_capacity_grav', # This is the NEW name after the rename\n",
    "    'theoretical_capacity_vol',  # This is the NEW name after the rename\n",
    "    'energy_grav',               # CHANGED from 'energy_grav_electrode'\n",
    "    'energy_vol',                # CHANGED from 'energy_vol_electrode'\n",
    "    'num_steps',                 # CHANGED from 'num_steps_electrode'\n",
    "    'max_voltage_step',          # CHANGED from 'max_voltage_step_electrode'\n",
    "    'stability_charge',          # CHANGED from 'stability_charge_electrode'\n",
    "    'stability_discharge',       # CHANGED from 'stability_discharge_electrode'\n",
    "    'energy_above_hull',         # CHANGED from 'energy_above_hull_summary'\n",
    "    'density',                   # CHANGED from 'density_summary'\n",
    "    'nelements',                 # CHANGED from 'nelements_summary'\n",
    "    'volume',                    # CHANGED from 'volume_summary'\n",
    "    'band_gap',                  # CHANGED from 'band_gap_summary'\n",
    "    'total_magnetization'        # CHANGED from 'total_magnetization_summary'\n",
    "]\n",
    "for col in numeric_cols_for_conversion:\n",
    "    if col in df_final_data_filtered_hosts.columns:\n",
    "        if not pd.api.types.is_numeric_dtype(df_final_data_filtered_hosts[col]):\n",
    "            df_final_data_filtered_hosts[col] = pd.to_numeric(df_final_data_filtered_hosts[col], errors='coerce')\n",
    "            if df_final_data_filtered_hosts[col].isnull().sum() > 0:\n",
    "                print(f\"  Warning: Coercing '{col}' to numeric introduced {df_final_data_filtered_hosts[col].isnull().sum()} NaNs.\")\n"
   ]
  },
  {
   "cell_type": "code",
   "execution_count": null,
   "metadata": {
    "id": "2oxj2oaI_mJk"
   },
   "outputs": [],
   "source": [
    "# Drop rows with NaN in ALL 22 features\n",
    "# Identify all 22 target features after renaming for the final dropna subset\n",
    "\n",
    "# These are the columns that MUST have non-null values for downstream modeling.\n",
    "\n",
    "critical_cols = [\n",
    "    'material_id',\n",
    "    'energy_above_hull',\n",
    "    'elements',\n",
    "    'density',\n",
    "    'formula_pretty',\n",
    "    'nelements',\n",
    "    'volume',\n",
    "    'band_gap',\n",
    "    'is_metal',\n",
    "    'total_magnetization',\n",
    "    'theoretical',\n",
    "    'battery_type',\n",
    "    'working_ion',\n",
    "    'average_voltage',\n",
    "    'theoretical_capacity_grav',\n",
    "    'theoretical_capacity_vol',\n",
    "    'energy_grav',\n",
    "    'energy_vol',\n",
    "    'num_steps',\n",
    "    'max_voltage_step',\n",
    "    'stability_charge',\n",
    "    'stability_discharge'\n",
    "]"
   ]
  },
  {
   "cell_type": "code",
   "execution_count": null,
   "metadata": {
    "colab": {
     "base_uri": "https://localhost:8080/"
    },
    "id": "eQumdy0X_rok",
    "outputId": "6a8f1f0a-a80a-46f4-d15c-1070f40b9852"
   },
   "outputs": [
    {
     "name": "stdout",
     "output_type": "stream",
     "text": [
      "Dropped 504 rows due to NaN values in critical columns.\n",
      "DataFrame now has 3709 rows.\n"
     ]
    }
   ],
   "source": [
    "# Ensure only drop NaNs for columns that are actually present in the DataFrame\n",
    "dropna_subset_present = [col for col in critical_cols if col in df_final_data_filtered_hosts.columns]\n",
    "\n",
    "initial_rows_before_dropna = len(df_final_data_filtered_hosts)\n",
    "df_final_data_filtered_hosts.dropna(subset=dropna_subset_present, inplace=True)\n",
    "rows_dropped = initial_rows_before_dropna - len(df_final_data_filtered_hosts)\n",
    "\n",
    "print(f\"Dropped {rows_dropped} rows due to NaN values in critical columns.\")\n",
    "print(f\"DataFrame now has {len(df_final_data_filtered_hosts)} rows.\")"
   ]
  },
  {
   "cell_type": "code",
   "execution_count": null,
   "metadata": {
    "colab": {
     "base_uri": "https://localhost:8080/"
    },
    "id": "N6lFBWSN0Oy6",
    "outputId": "77098aff-0662-4968-9215-07ad49ed0b6a"
   },
   "outputs": [
    {
     "name": "stdout",
     "output_type": "stream",
     "text": [
      "Final cleaned and processed DataFrame has 3709 rows.\n",
      "Final DataFrame columns: ['material_id', 'energy_above_hull', 'elements', 'density', 'formula_pretty', 'nelements', 'volume', 'band_gap', 'is_metal', 'total_magnetization', 'theoretical', 'battery_type', 'working_ion', 'average_voltage', 'theoretical_capacity_grav', 'theoretical_capacity_vol', 'energy_grav', 'energy_vol', 'num_steps', 'max_voltage_step', 'stability_charge', 'stability_discharge']\n",
      "Number of columns: 22\n"
     ]
    }
   ],
   "source": [
    "print(f\"Final cleaned and processed DataFrame has {len(df_final_data_filtered_hosts)} rows.\")\n",
    "print(f\"Final DataFrame columns: {df_final_data_filtered_hosts.columns.tolist()}\")\n",
    "print(f\"Number of columns: {len(df_final_data_filtered_hosts.columns)}\")\n"
   ]
  },
  {
   "cell_type": "code",
   "execution_count": null,
   "metadata": {
    "colab": {
     "base_uri": "https://localhost:8080/"
    },
    "id": "rcoWs-0p_9_q",
    "outputId": "257cefb8-3584-4ef3-8f21-c035973e27ef"
   },
   "outputs": [
    {
     "name": "stdout",
     "output_type": "stream",
     "text": [
      "\n",
      "--- First 5 rows of the final combined and processed DataFrame: ---\n",
      "| material_id   | energy_above_hull   | elements          | density   | formula_pretty   | nelements   | volume   | band_gap   | is_metal   | total_magnetization   | theoretical   | battery_type   | working_ion   | average_voltage   | theoretical_capacity_grav   | theoretical_capacity_vol   | energy_grav   | energy_vol   | num_steps   | max_voltage_step   | stability_charge   | stability_discharge   |\n",
      "|:--------------|:--------------------|:------------------|:----------|:-----------------|:------------|:---------|:-----------|:-----------|:----------------------|:--------------|:---------------|:--------------|:------------------|:----------------------------|:---------------------------|:--------------|:-------------|:------------|:-------------------|:-------------------|:----------------------|\n",
      "| mp-1002568    | 0.0715497           | ['Mg', 'Mn', 'O'] | 4.11204   | MgMn2O4          | 3           | 160.059  | 0.6493     | False      | 5.99778               | True          | insertion      | Na            | -0.275526         | 121.181                     | 515.367                    | -33.3886      | -141.997     | 1           | 0                  | 0.0715497          | 0.0549098             |\n",
      "| mp-10033      | 0                   | ['Nb', 'S']       | 4.20326   | NbS2             | 2           | 124.077  | 0          | True       | 1.72767               | False         | insertion      | Li            | 2.42625           | 163.446                     | 698.541                    | 396.562       | 1694.84      | 2           | 0.487941           | 0                  | 0                     |\n",
      "| mp-1003637    | 0.029379            | ['Li', 'Mn', 'O'] | 4.35004   | LiMn3O6          | 3           | 102.209  | 0.3371     | False      | 10.0006               | True          | insertion      | Li            | 2.34161           | 49.4087                     | 213.454                    | 115.696       | 499.827      | 1           | 0                  | 0.029379           | 0.0591053             |\n",
      "| mp-1003854    | 0.151309            | ['K', 'Mn', 'O']  | 3.78131   | KMnO2            | 3           | 221.39   | 1.3322     | False      | 16                    | True          | insertion      | Mg            | 0.0117187         | 101.435                     | 331.113                    | 1.18869       | 3.88022      | 1           | 0                  | 0.151309           | 0.158791              |\n",
      "| mp-1004375    | 0.0423908           | ['Mg', 'Mn', 'O'] | 4.09652   | MgMn4O8          | 3           | 150.813  | 0.2766     | False      | 14.0003               | True          | insertion      | Na            | -0.950239         | 231.042                     | 829.097                    | -219.545      | -787.841     | 1           | 0                  | 0.0423908          | 0.171669              |\n",
      "<class 'pandas.core.frame.DataFrame'>\n",
      "Index: 3709 entries, 48 to 108969\n",
      "Data columns (total 22 columns):\n",
      " #   Column                     Non-Null Count  Dtype  \n",
      "---  ------                     --------------  -----  \n",
      " 0   material_id                3709 non-null   object \n",
      " 1   energy_above_hull          3709 non-null   float64\n",
      " 2   elements                   3709 non-null   object \n",
      " 3   density                    3709 non-null   float64\n",
      " 4   formula_pretty             3709 non-null   object \n",
      " 5   nelements                  3709 non-null   float64\n",
      " 6   volume                     3709 non-null   float64\n",
      " 7   band_gap                   3709 non-null   float64\n",
      " 8   is_metal                   3709 non-null   object \n",
      " 9   total_magnetization        3709 non-null   float64\n",
      " 10  theoretical                3709 non-null   object \n",
      " 11  battery_type               3709 non-null   object \n",
      " 12  working_ion                3709 non-null   object \n",
      " 13  average_voltage            3709 non-null   float64\n",
      " 14  theoretical_capacity_grav  3709 non-null   float64\n",
      " 15  theoretical_capacity_vol   3709 non-null   float64\n",
      " 16  energy_grav                3709 non-null   float64\n",
      " 17  energy_vol                 3709 non-null   float64\n",
      " 18  num_steps                  3709 non-null   float64\n",
      " 19  max_voltage_step           3709 non-null   float64\n",
      " 20  stability_charge           3709 non-null   float64\n",
      " 21  stability_discharge        3709 non-null   float64\n",
      "dtypes: float64(15), object(7)\n",
      "memory usage: 666.5+ KB\n",
      "None\n"
     ]
    }
   ],
   "source": [
    "# Display the first few rows\n",
    "print(\"\\n--- First 5 rows of the final combined and processed DataFrame: ---\")\n",
    "if not df_final_data_filtered_hosts.empty:\n",
    "    print(df_final_data_filtered_hosts.head().to_markdown(index=False, numalign=\"left\", stralign=\"left\"))\n",
    "else:\n",
    "    print(\"DataFrame is empty, no data to display.\")\n",
    "\n",
    "print(df_final_data_filtered_hosts.info(verbose=True, show_counts=True)) # Check info here to see nulls\n"
   ]
  },
  {
   "cell_type": "code",
   "execution_count": null,
   "metadata": {
    "colab": {
     "base_uri": "https://localhost:8080/"
    },
    "id": "qw5GGMt18K4O",
    "outputId": "86dd2660-573a-4292-e35d-9780f0a67100"
   },
   "outputs": [
    {
     "name": "stdout",
     "output_type": "stream",
     "text": [
      "<class 'pandas.core.frame.DataFrame'>\n",
      "Index: 3709 entries, 48 to 108969\n",
      "Data columns (total 22 columns):\n",
      " #   Column                     Non-Null Count  Dtype  \n",
      "---  ------                     --------------  -----  \n",
      " 0   material_id                3709 non-null   object \n",
      " 1   energy_above_hull          3709 non-null   float64\n",
      " 2   elements                   3709 non-null   object \n",
      " 3   density                    3709 non-null   float64\n",
      " 4   formula_pretty             3709 non-null   object \n",
      " 5   nelements                  3709 non-null   float64\n",
      " 6   volume                     3709 non-null   float64\n",
      " 7   band_gap                   3709 non-null   float64\n",
      " 8   is_metal                   3709 non-null   object \n",
      " 9   total_magnetization        3709 non-null   float64\n",
      " 10  theoretical                3709 non-null   object \n",
      " 11  battery_type               3709 non-null   object \n",
      " 12  working_ion                3709 non-null   object \n",
      " 13  average_voltage            3709 non-null   float64\n",
      " 14  theoretical_capacity_grav  3709 non-null   float64\n",
      " 15  theoretical_capacity_vol   3709 non-null   float64\n",
      " 16  energy_grav                3709 non-null   float64\n",
      " 17  energy_vol                 3709 non-null   float64\n",
      " 18  num_steps                  3709 non-null   float64\n",
      " 19  max_voltage_step           3709 non-null   float64\n",
      " 20  stability_charge           3709 non-null   float64\n",
      " 21  stability_discharge        3709 non-null   float64\n",
      "dtypes: float64(15), object(7)\n",
      "memory usage: 666.5+ KB\n"
     ]
    }
   ],
   "source": [
    "df_final_data_filtered_hosts.info(verbose=True, show_counts=True)"
   ]
  },
  {
   "cell_type": "code",
   "execution_count": null,
   "metadata": {
    "colab": {
     "base_uri": "https://localhost:8080/",
     "height": 882
    },
    "id": "zAdfgZElDTa4",
    "outputId": "f5ba991d-c6bb-4b1c-b9b9-2409c6696d82"
   },
   "outputs": [
    {
     "data": {
      "application/vnd.google.colaboratory.intrinsic+json": {
       "type": "dataframe",
       "variable_name": "df_final_data_filtered_hosts"
      },
      "text/html": [
       "\n",
       "  <div id=\"df-48e0805d-b87e-4a76-96d1-284f234f761a\" class=\"colab-df-container\">\n",
       "    <div>\n",
       "<style scoped>\n",
       "    .dataframe tbody tr th:only-of-type {\n",
       "        vertical-align: middle;\n",
       "    }\n",
       "\n",
       "    .dataframe tbody tr th {\n",
       "        vertical-align: top;\n",
       "    }\n",
       "\n",
       "    .dataframe thead th {\n",
       "        text-align: right;\n",
       "    }\n",
       "</style>\n",
       "<table border=\"1\" class=\"dataframe\">\n",
       "  <thead>\n",
       "    <tr style=\"text-align: right;\">\n",
       "      <th></th>\n",
       "      <th>material_id</th>\n",
       "      <th>energy_above_hull</th>\n",
       "      <th>elements</th>\n",
       "      <th>density</th>\n",
       "      <th>formula_pretty</th>\n",
       "      <th>nelements</th>\n",
       "      <th>volume</th>\n",
       "      <th>band_gap</th>\n",
       "      <th>is_metal</th>\n",
       "      <th>total_magnetization</th>\n",
       "      <th>...</th>\n",
       "      <th>working_ion</th>\n",
       "      <th>average_voltage</th>\n",
       "      <th>theoretical_capacity_grav</th>\n",
       "      <th>theoretical_capacity_vol</th>\n",
       "      <th>energy_grav</th>\n",
       "      <th>energy_vol</th>\n",
       "      <th>num_steps</th>\n",
       "      <th>max_voltage_step</th>\n",
       "      <th>stability_charge</th>\n",
       "      <th>stability_discharge</th>\n",
       "    </tr>\n",
       "  </thead>\n",
       "  <tbody>\n",
       "    <tr>\n",
       "      <th>48</th>\n",
       "      <td>mp-1002568</td>\n",
       "      <td>0.071550</td>\n",
       "      <td>[Mg, Mn, O]</td>\n",
       "      <td>4.112037</td>\n",
       "      <td>MgMn2O4</td>\n",
       "      <td>3.0</td>\n",
       "      <td>160.058626</td>\n",
       "      <td>0.6493</td>\n",
       "      <td>False</td>\n",
       "      <td>5.997778e+00</td>\n",
       "      <td>...</td>\n",
       "      <td>Na</td>\n",
       "      <td>-0.275526</td>\n",
       "      <td>121.181299</td>\n",
       "      <td>515.367052</td>\n",
       "      <td>-33.388634</td>\n",
       "      <td>-141.997174</td>\n",
       "      <td>1.0</td>\n",
       "      <td>0.000000</td>\n",
       "      <td>0.071550</td>\n",
       "      <td>0.054910</td>\n",
       "    </tr>\n",
       "    <tr>\n",
       "      <th>57</th>\n",
       "      <td>mp-10033</td>\n",
       "      <td>0.000000</td>\n",
       "      <td>[Nb, S]</td>\n",
       "      <td>4.203264</td>\n",
       "      <td>NbS2</td>\n",
       "      <td>2.0</td>\n",
       "      <td>124.077397</td>\n",
       "      <td>0.0000</td>\n",
       "      <td>True</td>\n",
       "      <td>1.727667e+00</td>\n",
       "      <td>...</td>\n",
       "      <td>Li</td>\n",
       "      <td>2.426251</td>\n",
       "      <td>163.446209</td>\n",
       "      <td>698.540768</td>\n",
       "      <td>396.561540</td>\n",
       "      <td>1694.835288</td>\n",
       "      <td>2.0</td>\n",
       "      <td>0.487941</td>\n",
       "      <td>0.000000</td>\n",
       "      <td>0.000000</td>\n",
       "    </tr>\n",
       "    <tr>\n",
       "      <th>81</th>\n",
       "      <td>mp-1003637</td>\n",
       "      <td>0.029379</td>\n",
       "      <td>[Li, Mn, O]</td>\n",
       "      <td>4.350043</td>\n",
       "      <td>LiMn3O6</td>\n",
       "      <td>3.0</td>\n",
       "      <td>102.208625</td>\n",
       "      <td>0.3371</td>\n",
       "      <td>False</td>\n",
       "      <td>1.000059e+01</td>\n",
       "      <td>...</td>\n",
       "      <td>Li</td>\n",
       "      <td>2.341613</td>\n",
       "      <td>49.408746</td>\n",
       "      <td>213.454309</td>\n",
       "      <td>115.696156</td>\n",
       "      <td>499.827361</td>\n",
       "      <td>1.0</td>\n",
       "      <td>0.000000</td>\n",
       "      <td>0.029379</td>\n",
       "      <td>0.059105</td>\n",
       "    </tr>\n",
       "    <tr>\n",
       "      <th>95</th>\n",
       "      <td>mp-1003854</td>\n",
       "      <td>0.151309</td>\n",
       "      <td>[K, Mn, O]</td>\n",
       "      <td>3.781312</td>\n",
       "      <td>KMnO2</td>\n",
       "      <td>3.0</td>\n",
       "      <td>221.390103</td>\n",
       "      <td>1.3322</td>\n",
       "      <td>False</td>\n",
       "      <td>1.599997e+01</td>\n",
       "      <td>...</td>\n",
       "      <td>Mg</td>\n",
       "      <td>0.011719</td>\n",
       "      <td>101.435161</td>\n",
       "      <td>331.113426</td>\n",
       "      <td>1.188689</td>\n",
       "      <td>3.880221</td>\n",
       "      <td>1.0</td>\n",
       "      <td>0.000000</td>\n",
       "      <td>0.151309</td>\n",
       "      <td>0.158791</td>\n",
       "    </tr>\n",
       "    <tr>\n",
       "      <th>103</th>\n",
       "      <td>mp-1004375</td>\n",
       "      <td>0.042391</td>\n",
       "      <td>[Mg, Mn, O]</td>\n",
       "      <td>4.096519</td>\n",
       "      <td>MgMn4O8</td>\n",
       "      <td>3.0</td>\n",
       "      <td>150.812818</td>\n",
       "      <td>0.2766</td>\n",
       "      <td>False</td>\n",
       "      <td>1.400030e+01</td>\n",
       "      <td>...</td>\n",
       "      <td>Na</td>\n",
       "      <td>-0.950239</td>\n",
       "      <td>231.041546</td>\n",
       "      <td>829.097077</td>\n",
       "      <td>-219.544732</td>\n",
       "      <td>-787.840537</td>\n",
       "      <td>1.0</td>\n",
       "      <td>0.000000</td>\n",
       "      <td>0.042391</td>\n",
       "      <td>0.171669</td>\n",
       "    </tr>\n",
       "    <tr>\n",
       "      <th>134</th>\n",
       "      <td>mp-10062</td>\n",
       "      <td>0.004804</td>\n",
       "      <td>[Ba, Cu, Nb, Nd, O]</td>\n",
       "      <td>6.520796</td>\n",
       "      <td>Ba2NdNb(CuO4)2</td>\n",
       "      <td>5.0</td>\n",
       "      <td>195.290587</td>\n",
       "      <td>0.0000</td>\n",
       "      <td>True</td>\n",
       "      <td>1.346100e-03</td>\n",
       "      <td>...</td>\n",
       "      <td>Mg</td>\n",
       "      <td>-1.879517</td>\n",
       "      <td>67.749405</td>\n",
       "      <td>393.215155</td>\n",
       "      <td>-127.336128</td>\n",
       "      <td>-739.054386</td>\n",
       "      <td>1.0</td>\n",
       "      <td>0.000000</td>\n",
       "      <td>0.004804</td>\n",
       "      <td>0.385907</td>\n",
       "    </tr>\n",
       "    <tr>\n",
       "      <th>250</th>\n",
       "      <td>mp-1009555</td>\n",
       "      <td>0.192758</td>\n",
       "      <td>[Cr, O]</td>\n",
       "      <td>5.153050</td>\n",
       "      <td>CrO2</td>\n",
       "      <td>2.0</td>\n",
       "      <td>27.066847</td>\n",
       "      <td>0.0000</td>\n",
       "      <td>True</td>\n",
       "      <td>1.998703e+00</td>\n",
       "      <td>...</td>\n",
       "      <td>Li</td>\n",
       "      <td>-0.826595</td>\n",
       "      <td>294.729377</td>\n",
       "      <td>1423.429227</td>\n",
       "      <td>-243.621754</td>\n",
       "      <td>-1176.599117</td>\n",
       "      <td>1.0</td>\n",
       "      <td>0.000000</td>\n",
       "      <td>0.192758</td>\n",
       "      <td>1.104618</td>\n",
       "    </tr>\n",
       "    <tr>\n",
       "      <th>260</th>\n",
       "      <td>mp-1009813</td>\n",
       "      <td>0.191999</td>\n",
       "      <td>[Si, Sn]</td>\n",
       "      <td>4.361248</td>\n",
       "      <td>SiSn</td>\n",
       "      <td>2.0</td>\n",
       "      <td>55.892187</td>\n",
       "      <td>0.4292</td>\n",
       "      <td>False</td>\n",
       "      <td>5.500000e-06</td>\n",
       "      <td>...</td>\n",
       "      <td>Mg</td>\n",
       "      <td>-0.175472</td>\n",
       "      <td>878.681269</td>\n",
       "      <td>2730.970972</td>\n",
       "      <td>-154.184142</td>\n",
       "      <td>-479.209505</td>\n",
       "      <td>1.0</td>\n",
       "      <td>0.000000</td>\n",
       "      <td>0.191999</td>\n",
       "      <td>0.523977</td>\n",
       "    </tr>\n",
       "    <tr>\n",
       "      <th>300</th>\n",
       "      <td>mp-1013526</td>\n",
       "      <td>0.017861</td>\n",
       "      <td>[S, V]</td>\n",
       "      <td>3.362890</td>\n",
       "      <td>VS2</td>\n",
       "      <td>2.0</td>\n",
       "      <td>56.820383</td>\n",
       "      <td>0.0000</td>\n",
       "      <td>True</td>\n",
       "      <td>1.003633e+00</td>\n",
       "      <td>...</td>\n",
       "      <td>Na</td>\n",
       "      <td>2.258708</td>\n",
       "      <td>194.127443</td>\n",
       "      <td>614.194925</td>\n",
       "      <td>438.477218</td>\n",
       "      <td>1387.287022</td>\n",
       "      <td>1.0</td>\n",
       "      <td>0.000000</td>\n",
       "      <td>0.017861</td>\n",
       "      <td>0.000000</td>\n",
       "    </tr>\n",
       "    <tr>\n",
       "      <th>353</th>\n",
       "      <td>mp-1014230</td>\n",
       "      <td>0.000000</td>\n",
       "      <td>[Ti, Zn]</td>\n",
       "      <td>6.171052</td>\n",
       "      <td>TiZn</td>\n",
       "      <td>2.0</td>\n",
       "      <td>30.480901</td>\n",
       "      <td>0.0000</td>\n",
       "      <td>True</td>\n",
       "      <td>3.000000e-07</td>\n",
       "      <td>...</td>\n",
       "      <td>Zn</td>\n",
       "      <td>0.095410</td>\n",
       "      <td>439.199344</td>\n",
       "      <td>3045.740840</td>\n",
       "      <td>41.904223</td>\n",
       "      <td>290.595618</td>\n",
       "      <td>1.0</td>\n",
       "      <td>0.000000</td>\n",
       "      <td>0.007985</td>\n",
       "      <td>0.007891</td>\n",
       "    </tr>\n",
       "    <tr>\n",
       "      <th>380</th>\n",
       "      <td>mp-1016153</td>\n",
       "      <td>0.020614</td>\n",
       "      <td>[K, Mn, O]</td>\n",
       "      <td>4.141919</td>\n",
       "      <td>KMn8O16</td>\n",
       "      <td>3.0</td>\n",
       "      <td>589.012165</td>\n",
       "      <td>0.0000</td>\n",
       "      <td>True</td>\n",
       "      <td>4.357272e-01</td>\n",
       "      <td>...</td>\n",
       "      <td>K</td>\n",
       "      <td>-3.792466</td>\n",
       "      <td>94.383824</td>\n",
       "      <td>384.731795</td>\n",
       "      <td>-357.947470</td>\n",
       "      <td>-1459.082357</td>\n",
       "      <td>1.0</td>\n",
       "      <td>0.000000</td>\n",
       "      <td>0.020614</td>\n",
       "      <td>0.170262</td>\n",
       "    </tr>\n",
       "    <tr>\n",
       "      <th>383</th>\n",
       "      <td>mp-1016165</td>\n",
       "      <td>0.025848</td>\n",
       "      <td>[Li, Mn, O]</td>\n",
       "      <td>4.009096</td>\n",
       "      <td>LiMn8O16</td>\n",
       "      <td>3.0</td>\n",
       "      <td>581.887805</td>\n",
       "      <td>0.0000</td>\n",
       "      <td>True</td>\n",
       "      <td>5.000209e+01</td>\n",
       "      <td>...</td>\n",
       "      <td>Li</td>\n",
       "      <td>2.853897</td>\n",
       "      <td>37.781730</td>\n",
       "      <td>151.720811</td>\n",
       "      <td>107.825158</td>\n",
       "      <td>432.995534</td>\n",
       "      <td>1.0</td>\n",
       "      <td>0.000000</td>\n",
       "      <td>0.025848</td>\n",
       "      <td>0.034245</td>\n",
       "    </tr>\n",
       "    <tr>\n",
       "      <th>406</th>\n",
       "      <td>mp-1016253</td>\n",
       "      <td>0.031589</td>\n",
       "      <td>[Cd, Mg]</td>\n",
       "      <td>2.692782</td>\n",
       "      <td>Mg7Cd</td>\n",
       "      <td>2.0</td>\n",
       "      <td>174.235655</td>\n",
       "      <td>0.0000</td>\n",
       "      <td>True</td>\n",
       "      <td>0.000000e+00</td>\n",
       "      <td>...</td>\n",
       "      <td>Mg</td>\n",
       "      <td>-0.003843</td>\n",
       "      <td>2038.541563</td>\n",
       "      <td>3760.211510</td>\n",
       "      <td>-7.834115</td>\n",
       "      <td>-14.450493</td>\n",
       "      <td>1.0</td>\n",
       "      <td>0.000000</td>\n",
       "      <td>0.010342</td>\n",
       "      <td>0.007828</td>\n",
       "    </tr>\n",
       "    <tr>\n",
       "      <th>419</th>\n",
       "      <td>mp-1016282</td>\n",
       "      <td>0.141061</td>\n",
       "      <td>[Mg, Mn]</td>\n",
       "      <td>2.315786</td>\n",
       "      <td>Mg7Mn</td>\n",
       "      <td>2.0</td>\n",
       "      <td>161.389068</td>\n",
       "      <td>0.0000</td>\n",
       "      <td>True</td>\n",
       "      <td>3.533285e+00</td>\n",
       "      <td>...</td>\n",
       "      <td>Mg</td>\n",
       "      <td>-1.275031</td>\n",
       "      <td>2070.410116</td>\n",
       "      <td>3701.924923</td>\n",
       "      <td>-2639.837417</td>\n",
       "      <td>-4720.069639</td>\n",
       "      <td>1.0</td>\n",
       "      <td>0.000000</td>\n",
       "      <td>0.141061</td>\n",
       "      <td>0.018153</td>\n",
       "    </tr>\n",
       "    <tr>\n",
       "      <th>424</th>\n",
       "      <td>mp-1016298</td>\n",
       "      <td>0.183961</td>\n",
       "      <td>[Mg, V]</td>\n",
       "      <td>2.116679</td>\n",
       "      <td>Mg7V</td>\n",
       "      <td>2.0</td>\n",
       "      <td>173.434941</td>\n",
       "      <td>0.0000</td>\n",
       "      <td>True</td>\n",
       "      <td>3.242437e+00</td>\n",
       "      <td>...</td>\n",
       "      <td>Mg</td>\n",
       "      <td>-1.270314</td>\n",
       "      <td>2072.663279</td>\n",
       "      <td>3697.514294</td>\n",
       "      <td>-2632.934042</td>\n",
       "      <td>-4697.005710</td>\n",
       "      <td>1.0</td>\n",
       "      <td>0.000000</td>\n",
       "      <td>0.183961</td>\n",
       "      <td>0.011511</td>\n",
       "    </tr>\n",
       "    <tr>\n",
       "      <th>434</th>\n",
       "      <td>mp-1016326</td>\n",
       "      <td>0.163550</td>\n",
       "      <td>[Cr, Mg]</td>\n",
       "      <td>2.121757</td>\n",
       "      <td>Mg7Cr</td>\n",
       "      <td>2.0</td>\n",
       "      <td>173.845285</td>\n",
       "      <td>0.0000</td>\n",
       "      <td>True</td>\n",
       "      <td>4.272802e+00</td>\n",
       "      <td>...</td>\n",
       "      <td>Mg</td>\n",
       "      <td>-1.270438</td>\n",
       "      <td>2072.068243</td>\n",
       "      <td>3681.504764</td>\n",
       "      <td>-2632.433352</td>\n",
       "      <td>-4677.121982</td>\n",
       "      <td>1.0</td>\n",
       "      <td>0.000000</td>\n",
       "      <td>0.163550</td>\n",
       "      <td>0.010655</td>\n",
       "    </tr>\n",
       "    <tr>\n",
       "      <th>436</th>\n",
       "      <td>mp-1016331</td>\n",
       "      <td>0.181676</td>\n",
       "      <td>[Mg, Nb]</td>\n",
       "      <td>2.530843</td>\n",
       "      <td>Mg7Nb</td>\n",
       "      <td>2.0</td>\n",
       "      <td>172.586935</td>\n",
       "      <td>0.0000</td>\n",
       "      <td>True</td>\n",
       "      <td>1.582100e-03</td>\n",
       "      <td>...</td>\n",
       "      <td>Mg</td>\n",
       "      <td>-1.271449</td>\n",
       "      <td>2049.246252</td>\n",
       "      <td>3682.524991</td>\n",
       "      <td>-2605.512089</td>\n",
       "      <td>-4682.142700</td>\n",
       "      <td>1.0</td>\n",
       "      <td>0.000000</td>\n",
       "      <td>0.181676</td>\n",
       "      <td>0.013537</td>\n",
       "    </tr>\n",
       "    <tr>\n",
       "      <th>855</th>\n",
       "      <td>mp-1019601</td>\n",
       "      <td>0.045056</td>\n",
       "      <td>[Ce, O, Zr]</td>\n",
       "      <td>5.959606</td>\n",
       "      <td>CeZr7O16</td>\n",
       "      <td>3.0</td>\n",
       "      <td>288.293785</td>\n",
       "      <td>2.1576</td>\n",
       "      <td>False</td>\n",
       "      <td>2.253000e-03</td>\n",
       "      <td>...</td>\n",
       "      <td>Mg</td>\n",
       "      <td>-2.017102</td>\n",
       "      <td>50.617568</td>\n",
       "      <td>283.452220</td>\n",
       "      <td>-102.100774</td>\n",
       "      <td>-571.751900</td>\n",
       "      <td>1.0</td>\n",
       "      <td>0.000000</td>\n",
       "      <td>0.045056</td>\n",
       "      <td>0.143757</td>\n",
       "    </tr>\n",
       "    <tr>\n",
       "      <th>943</th>\n",
       "      <td>mp-102</td>\n",
       "      <td>0.000000</td>\n",
       "      <td>[Co]</td>\n",
       "      <td>9.026471</td>\n",
       "      <td>Co</td>\n",
       "      <td>1.0</td>\n",
       "      <td>10.841543</td>\n",
       "      <td>0.0000</td>\n",
       "      <td>True</td>\n",
       "      <td>1.838000e+00</td>\n",
       "      <td>...</td>\n",
       "      <td>Na</td>\n",
       "      <td>-0.881998</td>\n",
       "      <td>628.638546</td>\n",
       "      <td>1355.576422</td>\n",
       "      <td>-554.457883</td>\n",
       "      <td>-1195.615569</td>\n",
       "      <td>1.0</td>\n",
       "      <td>0.000000</td>\n",
       "      <td>0.000000</td>\n",
       "      <td>0.661498</td>\n",
       "    </tr>\n",
       "    <tr>\n",
       "      <th>1160</th>\n",
       "      <td>mp-1021489</td>\n",
       "      <td>0.114258</td>\n",
       "      <td>[Ir, O]</td>\n",
       "      <td>7.321747</td>\n",
       "      <td>IrO3</td>\n",
       "      <td>2.0</td>\n",
       "      <td>54.479723</td>\n",
       "      <td>0.0000</td>\n",
       "      <td>True</td>\n",
       "      <td>9.396000e-04</td>\n",
       "      <td>...</td>\n",
       "      <td>Ca</td>\n",
       "      <td>0.236265</td>\n",
       "      <td>191.238897</td>\n",
       "      <td>1440.458989</td>\n",
       "      <td>45.183109</td>\n",
       "      <td>340.330425</td>\n",
       "      <td>1.0</td>\n",
       "      <td>0.000000</td>\n",
       "      <td>0.114258</td>\n",
       "      <td>0.306553</td>\n",
       "    </tr>\n",
       "  </tbody>\n",
       "</table>\n",
       "<p>20 rows × 22 columns</p>\n",
       "</div>\n",
       "    <div class=\"colab-df-buttons\">\n",
       "\n",
       "  <div class=\"colab-df-container\">\n",
       "    <button class=\"colab-df-convert\" onclick=\"convertToInteractive('df-48e0805d-b87e-4a76-96d1-284f234f761a')\"\n",
       "            title=\"Convert this dataframe to an interactive table.\"\n",
       "            style=\"display:none;\">\n",
       "\n",
       "  <svg xmlns=\"http://www.w3.org/2000/svg\" height=\"24px\" viewBox=\"0 -960 960 960\">\n",
       "    <path d=\"M120-120v-720h720v720H120Zm60-500h600v-160H180v160Zm220 220h160v-160H400v160Zm0 220h160v-160H400v160ZM180-400h160v-160H180v160Zm440 0h160v-160H620v160ZM180-180h160v-160H180v160Zm440 0h160v-160H620v160Z\"/>\n",
       "  </svg>\n",
       "    </button>\n",
       "\n",
       "  <style>\n",
       "    .colab-df-container {\n",
       "      display:flex;\n",
       "      gap: 12px;\n",
       "    }\n",
       "\n",
       "    .colab-df-convert {\n",
       "      background-color: #E8F0FE;\n",
       "      border: none;\n",
       "      border-radius: 50%;\n",
       "      cursor: pointer;\n",
       "      display: none;\n",
       "      fill: #1967D2;\n",
       "      height: 32px;\n",
       "      padding: 0 0 0 0;\n",
       "      width: 32px;\n",
       "    }\n",
       "\n",
       "    .colab-df-convert:hover {\n",
       "      background-color: #E2EBFA;\n",
       "      box-shadow: 0px 1px 2px rgba(60, 64, 67, 0.3), 0px 1px 3px 1px rgba(60, 64, 67, 0.15);\n",
       "      fill: #174EA6;\n",
       "    }\n",
       "\n",
       "    .colab-df-buttons div {\n",
       "      margin-bottom: 4px;\n",
       "    }\n",
       "\n",
       "    [theme=dark] .colab-df-convert {\n",
       "      background-color: #3B4455;\n",
       "      fill: #D2E3FC;\n",
       "    }\n",
       "\n",
       "    [theme=dark] .colab-df-convert:hover {\n",
       "      background-color: #434B5C;\n",
       "      box-shadow: 0px 1px 3px 1px rgba(0, 0, 0, 0.15);\n",
       "      filter: drop-shadow(0px 1px 2px rgba(0, 0, 0, 0.3));\n",
       "      fill: #FFFFFF;\n",
       "    }\n",
       "  </style>\n",
       "\n",
       "    <script>\n",
       "      const buttonEl =\n",
       "        document.querySelector('#df-48e0805d-b87e-4a76-96d1-284f234f761a button.colab-df-convert');\n",
       "      buttonEl.style.display =\n",
       "        google.colab.kernel.accessAllowed ? 'block' : 'none';\n",
       "\n",
       "      async function convertToInteractive(key) {\n",
       "        const element = document.querySelector('#df-48e0805d-b87e-4a76-96d1-284f234f761a');\n",
       "        const dataTable =\n",
       "          await google.colab.kernel.invokeFunction('convertToInteractive',\n",
       "                                                    [key], {});\n",
       "        if (!dataTable) return;\n",
       "\n",
       "        const docLinkHtml = 'Like what you see? Visit the ' +\n",
       "          '<a target=\"_blank\" href=https://colab.research.google.com/notebooks/data_table.ipynb>data table notebook</a>'\n",
       "          + ' to learn more about interactive tables.';\n",
       "        element.innerHTML = '';\n",
       "        dataTable['output_type'] = 'display_data';\n",
       "        await google.colab.output.renderOutput(dataTable, element);\n",
       "        const docLink = document.createElement('div');\n",
       "        docLink.innerHTML = docLinkHtml;\n",
       "        element.appendChild(docLink);\n",
       "      }\n",
       "    </script>\n",
       "  </div>\n",
       "\n",
       "\n",
       "    <div id=\"df-5adb334c-c146-4ae0-9088-651fcad46e7f\">\n",
       "      <button class=\"colab-df-quickchart\" onclick=\"quickchart('df-5adb334c-c146-4ae0-9088-651fcad46e7f')\"\n",
       "                title=\"Suggest charts\"\n",
       "                style=\"display:none;\">\n",
       "\n",
       "<svg xmlns=\"http://www.w3.org/2000/svg\" height=\"24px\"viewBox=\"0 0 24 24\"\n",
       "     width=\"24px\">\n",
       "    <g>\n",
       "        <path d=\"M19 3H5c-1.1 0-2 .9-2 2v14c0 1.1.9 2 2 2h14c1.1 0 2-.9 2-2V5c0-1.1-.9-2-2-2zM9 17H7v-7h2v7zm4 0h-2V7h2v10zm4 0h-2v-4h2v4z\"/>\n",
       "    </g>\n",
       "</svg>\n",
       "      </button>\n",
       "\n",
       "<style>\n",
       "  .colab-df-quickchart {\n",
       "      --bg-color: #E8F0FE;\n",
       "      --fill-color: #1967D2;\n",
       "      --hover-bg-color: #E2EBFA;\n",
       "      --hover-fill-color: #174EA6;\n",
       "      --disabled-fill-color: #AAA;\n",
       "      --disabled-bg-color: #DDD;\n",
       "  }\n",
       "\n",
       "  [theme=dark] .colab-df-quickchart {\n",
       "      --bg-color: #3B4455;\n",
       "      --fill-color: #D2E3FC;\n",
       "      --hover-bg-color: #434B5C;\n",
       "      --hover-fill-color: #FFFFFF;\n",
       "      --disabled-bg-color: #3B4455;\n",
       "      --disabled-fill-color: #666;\n",
       "  }\n",
       "\n",
       "  .colab-df-quickchart {\n",
       "    background-color: var(--bg-color);\n",
       "    border: none;\n",
       "    border-radius: 50%;\n",
       "    cursor: pointer;\n",
       "    display: none;\n",
       "    fill: var(--fill-color);\n",
       "    height: 32px;\n",
       "    padding: 0;\n",
       "    width: 32px;\n",
       "  }\n",
       "\n",
       "  .colab-df-quickchart:hover {\n",
       "    background-color: var(--hover-bg-color);\n",
       "    box-shadow: 0 1px 2px rgba(60, 64, 67, 0.3), 0 1px 3px 1px rgba(60, 64, 67, 0.15);\n",
       "    fill: var(--button-hover-fill-color);\n",
       "  }\n",
       "\n",
       "  .colab-df-quickchart-complete:disabled,\n",
       "  .colab-df-quickchart-complete:disabled:hover {\n",
       "    background-color: var(--disabled-bg-color);\n",
       "    fill: var(--disabled-fill-color);\n",
       "    box-shadow: none;\n",
       "  }\n",
       "\n",
       "  .colab-df-spinner {\n",
       "    border: 2px solid var(--fill-color);\n",
       "    border-color: transparent;\n",
       "    border-bottom-color: var(--fill-color);\n",
       "    animation:\n",
       "      spin 1s steps(1) infinite;\n",
       "  }\n",
       "\n",
       "  @keyframes spin {\n",
       "    0% {\n",
       "      border-color: transparent;\n",
       "      border-bottom-color: var(--fill-color);\n",
       "      border-left-color: var(--fill-color);\n",
       "    }\n",
       "    20% {\n",
       "      border-color: transparent;\n",
       "      border-left-color: var(--fill-color);\n",
       "      border-top-color: var(--fill-color);\n",
       "    }\n",
       "    30% {\n",
       "      border-color: transparent;\n",
       "      border-left-color: var(--fill-color);\n",
       "      border-top-color: var(--fill-color);\n",
       "      border-right-color: var(--fill-color);\n",
       "    }\n",
       "    40% {\n",
       "      border-color: transparent;\n",
       "      border-right-color: var(--fill-color);\n",
       "      border-top-color: var(--fill-color);\n",
       "    }\n",
       "    60% {\n",
       "      border-color: transparent;\n",
       "      border-right-color: var(--fill-color);\n",
       "    }\n",
       "    80% {\n",
       "      border-color: transparent;\n",
       "      border-right-color: var(--fill-color);\n",
       "      border-bottom-color: var(--fill-color);\n",
       "    }\n",
       "    90% {\n",
       "      border-color: transparent;\n",
       "      border-bottom-color: var(--fill-color);\n",
       "    }\n",
       "  }\n",
       "</style>\n",
       "\n",
       "      <script>\n",
       "        async function quickchart(key) {\n",
       "          const quickchartButtonEl =\n",
       "            document.querySelector('#' + key + ' button');\n",
       "          quickchartButtonEl.disabled = true;  // To prevent multiple clicks.\n",
       "          quickchartButtonEl.classList.add('colab-df-spinner');\n",
       "          try {\n",
       "            const charts = await google.colab.kernel.invokeFunction(\n",
       "                'suggestCharts', [key], {});\n",
       "          } catch (error) {\n",
       "            console.error('Error during call to suggestCharts:', error);\n",
       "          }\n",
       "          quickchartButtonEl.classList.remove('colab-df-spinner');\n",
       "          quickchartButtonEl.classList.add('colab-df-quickchart-complete');\n",
       "        }\n",
       "        (() => {\n",
       "          let quickchartButtonEl =\n",
       "            document.querySelector('#df-5adb334c-c146-4ae0-9088-651fcad46e7f button');\n",
       "          quickchartButtonEl.style.display =\n",
       "            google.colab.kernel.accessAllowed ? 'block' : 'none';\n",
       "        })();\n",
       "      </script>\n",
       "    </div>\n",
       "\n",
       "    </div>\n",
       "  </div>\n"
      ],
      "text/plain": [
       "     material_id  energy_above_hull             elements   density  \\\n",
       "48    mp-1002568           0.071550          [Mg, Mn, O]  4.112037   \n",
       "57      mp-10033           0.000000              [Nb, S]  4.203264   \n",
       "81    mp-1003637           0.029379          [Li, Mn, O]  4.350043   \n",
       "95    mp-1003854           0.151309           [K, Mn, O]  3.781312   \n",
       "103   mp-1004375           0.042391          [Mg, Mn, O]  4.096519   \n",
       "134     mp-10062           0.004804  [Ba, Cu, Nb, Nd, O]  6.520796   \n",
       "250   mp-1009555           0.192758              [Cr, O]  5.153050   \n",
       "260   mp-1009813           0.191999             [Si, Sn]  4.361248   \n",
       "300   mp-1013526           0.017861               [S, V]  3.362890   \n",
       "353   mp-1014230           0.000000             [Ti, Zn]  6.171052   \n",
       "380   mp-1016153           0.020614           [K, Mn, O]  4.141919   \n",
       "383   mp-1016165           0.025848          [Li, Mn, O]  4.009096   \n",
       "406   mp-1016253           0.031589             [Cd, Mg]  2.692782   \n",
       "419   mp-1016282           0.141061             [Mg, Mn]  2.315786   \n",
       "424   mp-1016298           0.183961              [Mg, V]  2.116679   \n",
       "434   mp-1016326           0.163550             [Cr, Mg]  2.121757   \n",
       "436   mp-1016331           0.181676             [Mg, Nb]  2.530843   \n",
       "855   mp-1019601           0.045056          [Ce, O, Zr]  5.959606   \n",
       "943       mp-102           0.000000                 [Co]  9.026471   \n",
       "1160  mp-1021489           0.114258              [Ir, O]  7.321747   \n",
       "\n",
       "      formula_pretty  nelements      volume  band_gap is_metal  \\\n",
       "48           MgMn2O4        3.0  160.058626    0.6493    False   \n",
       "57              NbS2        2.0  124.077397    0.0000     True   \n",
       "81           LiMn3O6        3.0  102.208625    0.3371    False   \n",
       "95             KMnO2        3.0  221.390103    1.3322    False   \n",
       "103          MgMn4O8        3.0  150.812818    0.2766    False   \n",
       "134   Ba2NdNb(CuO4)2        5.0  195.290587    0.0000     True   \n",
       "250             CrO2        2.0   27.066847    0.0000     True   \n",
       "260             SiSn        2.0   55.892187    0.4292    False   \n",
       "300              VS2        2.0   56.820383    0.0000     True   \n",
       "353             TiZn        2.0   30.480901    0.0000     True   \n",
       "380          KMn8O16        3.0  589.012165    0.0000     True   \n",
       "383         LiMn8O16        3.0  581.887805    0.0000     True   \n",
       "406            Mg7Cd        2.0  174.235655    0.0000     True   \n",
       "419            Mg7Mn        2.0  161.389068    0.0000     True   \n",
       "424             Mg7V        2.0  173.434941    0.0000     True   \n",
       "434            Mg7Cr        2.0  173.845285    0.0000     True   \n",
       "436            Mg7Nb        2.0  172.586935    0.0000     True   \n",
       "855         CeZr7O16        3.0  288.293785    2.1576    False   \n",
       "943               Co        1.0   10.841543    0.0000     True   \n",
       "1160            IrO3        2.0   54.479723    0.0000     True   \n",
       "\n",
       "      total_magnetization  ... working_ion average_voltage  \\\n",
       "48           5.997778e+00  ...          Na       -0.275526   \n",
       "57           1.727667e+00  ...          Li        2.426251   \n",
       "81           1.000059e+01  ...          Li        2.341613   \n",
       "95           1.599997e+01  ...          Mg        0.011719   \n",
       "103          1.400030e+01  ...          Na       -0.950239   \n",
       "134          1.346100e-03  ...          Mg       -1.879517   \n",
       "250          1.998703e+00  ...          Li       -0.826595   \n",
       "260          5.500000e-06  ...          Mg       -0.175472   \n",
       "300          1.003633e+00  ...          Na        2.258708   \n",
       "353          3.000000e-07  ...          Zn        0.095410   \n",
       "380          4.357272e-01  ...           K       -3.792466   \n",
       "383          5.000209e+01  ...          Li        2.853897   \n",
       "406          0.000000e+00  ...          Mg       -0.003843   \n",
       "419          3.533285e+00  ...          Mg       -1.275031   \n",
       "424          3.242437e+00  ...          Mg       -1.270314   \n",
       "434          4.272802e+00  ...          Mg       -1.270438   \n",
       "436          1.582100e-03  ...          Mg       -1.271449   \n",
       "855          2.253000e-03  ...          Mg       -2.017102   \n",
       "943          1.838000e+00  ...          Na       -0.881998   \n",
       "1160         9.396000e-04  ...          Ca        0.236265   \n",
       "\n",
       "     theoretical_capacity_grav  theoretical_capacity_vol  energy_grav  \\\n",
       "48                  121.181299                515.367052   -33.388634   \n",
       "57                  163.446209                698.540768   396.561540   \n",
       "81                   49.408746                213.454309   115.696156   \n",
       "95                  101.435161                331.113426     1.188689   \n",
       "103                 231.041546                829.097077  -219.544732   \n",
       "134                  67.749405                393.215155  -127.336128   \n",
       "250                 294.729377               1423.429227  -243.621754   \n",
       "260                 878.681269               2730.970972  -154.184142   \n",
       "300                 194.127443                614.194925   438.477218   \n",
       "353                 439.199344               3045.740840    41.904223   \n",
       "380                  94.383824                384.731795  -357.947470   \n",
       "383                  37.781730                151.720811   107.825158   \n",
       "406                2038.541563               3760.211510    -7.834115   \n",
       "419                2070.410116               3701.924923 -2639.837417   \n",
       "424                2072.663279               3697.514294 -2632.934042   \n",
       "434                2072.068243               3681.504764 -2632.433352   \n",
       "436                2049.246252               3682.524991 -2605.512089   \n",
       "855                  50.617568                283.452220  -102.100774   \n",
       "943                 628.638546               1355.576422  -554.457883   \n",
       "1160                191.238897               1440.458989    45.183109   \n",
       "\n",
       "       energy_vol  num_steps  max_voltage_step  stability_charge  \\\n",
       "48    -141.997174        1.0          0.000000          0.071550   \n",
       "57    1694.835288        2.0          0.487941          0.000000   \n",
       "81     499.827361        1.0          0.000000          0.029379   \n",
       "95       3.880221        1.0          0.000000          0.151309   \n",
       "103   -787.840537        1.0          0.000000          0.042391   \n",
       "134   -739.054386        1.0          0.000000          0.004804   \n",
       "250  -1176.599117        1.0          0.000000          0.192758   \n",
       "260   -479.209505        1.0          0.000000          0.191999   \n",
       "300   1387.287022        1.0          0.000000          0.017861   \n",
       "353    290.595618        1.0          0.000000          0.007985   \n",
       "380  -1459.082357        1.0          0.000000          0.020614   \n",
       "383    432.995534        1.0          0.000000          0.025848   \n",
       "406    -14.450493        1.0          0.000000          0.010342   \n",
       "419  -4720.069639        1.0          0.000000          0.141061   \n",
       "424  -4697.005710        1.0          0.000000          0.183961   \n",
       "434  -4677.121982        1.0          0.000000          0.163550   \n",
       "436  -4682.142700        1.0          0.000000          0.181676   \n",
       "855   -571.751900        1.0          0.000000          0.045056   \n",
       "943  -1195.615569        1.0          0.000000          0.000000   \n",
       "1160   340.330425        1.0          0.000000          0.114258   \n",
       "\n",
       "      stability_discharge  \n",
       "48               0.054910  \n",
       "57               0.000000  \n",
       "81               0.059105  \n",
       "95               0.158791  \n",
       "103              0.171669  \n",
       "134              0.385907  \n",
       "250              1.104618  \n",
       "260              0.523977  \n",
       "300              0.000000  \n",
       "353              0.007891  \n",
       "380              0.170262  \n",
       "383              0.034245  \n",
       "406              0.007828  \n",
       "419              0.018153  \n",
       "424              0.011511  \n",
       "434              0.010655  \n",
       "436              0.013537  \n",
       "855              0.143757  \n",
       "943              0.661498  \n",
       "1160             0.306553  \n",
       "\n",
       "[20 rows x 22 columns]"
      ]
     },
     "execution_count": 61,
     "metadata": {},
     "output_type": "execute_result"
    }
   ],
   "source": [
    "df_final_data_filtered_hosts.head(20)"
   ]
  },
  {
   "cell_type": "code",
   "execution_count": null,
   "metadata": {
    "colab": {
     "base_uri": "https://localhost:8080/"
    },
    "id": "WJg0KetYDh6X",
    "outputId": "93a1c1ea-d99d-4c57-8178-2d0e899e886a"
   },
   "outputs": [
    {
     "name": "stdout",
     "output_type": "stream",
     "text": [
      "['Na' 'Li' 'Mg' 'Zn' 'K' 'Ca' 'Al' 'Y' 'Cs' 'Rb']\n"
     ]
    }
   ],
   "source": [
    "print(df_final_data_filtered_hosts['working_ion'].unique())"
   ]
  },
  {
   "cell_type": "code",
   "execution_count": null,
   "metadata": {
    "colab": {
     "base_uri": "https://localhost:8080/"
    },
    "id": "6MLYRboyD4Cj",
    "outputId": "a752fcf3-f1f7-40e3-a937-c94bc23acf03"
   },
   "outputs": [
    {
     "name": "stdout",
     "output_type": "stream",
     "text": [
      "\n",
      "Counts of unique values in 'working_ion':\n",
      "working_ion\n",
      "Li    2287\n",
      "Mg     994\n",
      "Na     164\n",
      "Ca     109\n",
      "Zn      44\n",
      "Al      38\n",
      "K       32\n",
      "Y       23\n",
      "Cs      16\n",
      "Rb       2\n",
      "Name: count, dtype: int64\n"
     ]
    }
   ],
   "source": [
    "# Get the value counts for the 'working_ion' column\n",
    "working_ion_counts = df_final_data_filtered_hosts['working_ion'].value_counts()\n",
    "\n",
    "# Print the counts\n",
    "print(\"\\nCounts of unique values in 'working_ion':\")\n",
    "print(working_ion_counts)"
   ]
  },
  {
   "cell_type": "code",
   "execution_count": null,
   "metadata": {
    "colab": {
     "base_uri": "https://localhost:8080/"
    },
    "id": "m4yCpkywCHtE",
    "outputId": "176835a7-102d-49f7-9637-af741f8a3dd8"
   },
   "outputs": [
    {
     "name": "stdout",
     "output_type": "stream",
     "text": [
      "Final cleaned and processed DataFrame has 3709 rows.\n",
      "Final DataFrame columns: ['material_id', 'energy_above_hull', 'elements', 'density', 'formula_pretty', 'nelements', 'volume', 'band_gap', 'is_metal', 'total_magnetization', 'theoretical', 'battery_type', 'working_ion', 'average_voltage', 'theoretical_capacity_grav', 'theoretical_capacity_vol', 'energy_grav', 'energy_vol', 'num_steps', 'max_voltage_step', 'stability_charge', 'stability_discharge']\n",
      "Number of columns: 22\n"
     ]
    }
   ],
   "source": [
    "print(f\"Final cleaned and processed DataFrame has {len(df_final_data_filtered_hosts)} rows.\")\n",
    "print(f\"Final DataFrame columns: {df_final_data_filtered_hosts.columns.tolist()}\")\n",
    "print(f\"Number of columns: {len(df_final_data_filtered_hosts.columns)}\")"
   ]
  },
  {
   "cell_type": "markdown",
   "metadata": {
    "id": "JPKWkRhACg0_"
   },
   "source": [
    "## Save the data for feature engineering"
   ]
  },
  {
   "cell_type": "code",
   "execution_count": null,
   "metadata": {
    "colab": {
     "base_uri": "https://localhost:8080/"
    },
    "id": "w_X9TAy-Cgb6",
    "outputId": "88179fe1-1b08-41c0-ac13-982e503d7acd"
   },
   "outputs": [
    {
     "name": "stdout",
     "output_type": "stream",
     "text": [
      "\n",
      "Final processed data saved to '/content/drive/MyDrive/Colab Notebooks/Masters Research Project/Data/battery_materials_processed.csv'\n"
     ]
    }
   ],
   "source": [
    "# Save to CSV\n",
    "\n",
    "if not df_final_data_filtered_hosts.empty:\n",
    "    output_filename = os.path.join(data_folder_path, \"battery_materials_processed.csv\")\n",
    "    df_final_data_filtered_hosts.to_csv(output_filename, index=False)\n",
    "    print(f\"\\nFinal processed data saved to '{output_filename}'\")\n",
    "else:\n",
    "    print(\"\\nDataFrame is empty, no data to save to CSV.\")\n",
    "\n",
    "global _df_final_battery_materials\n",
    "_df_final_battery_materials = df_final_data_filtered_hosts\n"
   ]
  },
  {
   "cell_type": "markdown",
   "metadata": {
    "id": "0pAZIV4WE2uS"
   },
   "source": [
    "This notebook focuses on collecting, cleaning, and preparing battery materials data from the Materials Project API for further analysis or machine learning.\n",
    "\n",
    "\n",
    "Here is a summary of the key steps:\n",
    "\n",
    "Setup: Installs necessary libraries (mp-api, pymatgen) and imports required modules. It also sets up the project path to Google Drive and prompts the user for their Materials Project API key.\n",
    "The core idea behind fetching both materials summary data and insertion electrodes data is to gather a comprehensive set of properties for potential battery materials.\n",
    "\n",
    "Materials Summary Data: This provides general, fundamental information about a material, such as its crystal structure details (volume, density), electronic properties (band gap, metallicity), thermodynamic stability (energy above hull), and magnetic properties. These are intrinsic properties of the material itself, regardless of its application in a battery.\n",
    "\n",
    "\n",
    "Insertion Electrodes Data: This dataset is specifically curated for battery applications. It contains properties directly relevant to a material's performance as an electrode, such as average voltage, theoretical capacity (gravimetric and volumetric), energy density, and stability during charge/discharge cycles. This data is derived from calculations simulating the insertion and removal of working ions (like Li, Na, Mg, etc.) into the host material structure.\n",
    "\n",
    "\n",
    "By fetching both, the notebook aims to create a dataset that combines the fundamental material characteristics from the summary data with the application-specific performance metrics from the electrodes data. This combined view is essential for understanding which material properties influence battery performance and for building predictive models.\n",
    "\n",
    "The reason for iterating through a list of battery-related elements (like Li, Na, Mg, Al, O, S, P, F, Cl, Co, Ni, Mn, Fe, Cu, Zn, Si, Ge, C) is a practical approach to query the Materials Project API. The API allows searching based on various criteria, and specifying elements is a common and effective way to narrow down the vast database to materials that are likely to be relevant for battery applications. The chosen elements represent common components of known battery materials (cathode, anode, and electrolyte components) and working ions.\n",
    "\n",
    "By querying for materials containing these elements, the notebook aims to retrieve a broad but targeted dataset of potential battery electrode materials and their properties. This ensures that the collected data covers a wide range of materials relevant to battery research.\n",
    "\n",
    "\n",
    "Save and Load: Saves the raw fetched data (summary and electrodes) as pickle files and includes a section to load this data, allowing the user to restart the notebook without refetching from the API.\n",
    "Process, Filter, and Combine: This is a crucial step where:\n",
    "The raw summary and electrodes data are converted into pandas DataFrames.\n",
    "Material IDs are cleaned and used to identify and remove duplicate entries within each dataset.\n",
    "The two DataFrames are merged using an outer merge based on material_id.\n",
    "The merged DataFrame is filtered to keep only entries that have complete battery-specific information (indicated by a non-null battery_type).\n",
    "Columns are renamed for clarity.\n",
    "Data types are converted for numeric columns.\n",
    "Rows with missing values in a specific subset of 22 features are removed to ensure a clean dataset for subsequent steps.\n",
    "\n",
    "\n",
    "Inspection: Provides print statements and displays the head and info of the final cleaned DataFrame, as well as the count of unique working_ion values, allowing the user to inspect the result of the data processing.\n",
    "Save Final Data: Saves the final cleaned and processed DataFrame to a CSV file in the specified data folder.\n",
    "In essence, the notebook takes raw data from the Materials Project API, processes and cleans it, and outputs a structured CSV file ready for feature engineering and model development.\n",
    "\n",
    "\n",
    "Save and Load: Saves the raw fetched data (summary and electrodes) as pickle files and includes a section to load this data, allowing the user to restart the notebook without refetching from the API.\n",
    "\n",
    "Process, Filter, and Combine: This is a crucial step where:\n",
    "The raw summary and electrodes data are converted into pandas DataFrames.\n",
    "Material IDs are cleaned and used to identify and remove duplicate entries within each dataset.\n",
    "The two DataFrames are merged using an outer merge based on material_id.\n",
    "\n",
    "The merged DataFrame is filtered to keep only entries that have complete battery-specific information (indicated by a non-null battery_type).\n",
    "Columns are renamed for clarity.\n",
    "Data types are converted for numeric columns.\n",
    "Rows with missing values in a specific subset of 22 features are removed to ensure a clean dataset for subsequent steps.\n",
    "\n",
    "Inspection: Provides print statements and displays the head and info of the final cleaned DataFrame, as well as the count of unique working_ion values, allowing the user to inspect the result of the data processing.\n",
    "Save Final Data: Saves the final cleaned and processed DataFrame to a CSV file in the specified data folder.\n",
    "In essence, the notebook takes raw data from the Materials Project API, processes and cleans it, and outputs a structured CSV file ready for feature engineering and model development."
   ]
  },
  {
   "cell_type": "markdown",
   "metadata": {
    "id": "x5VrGNz5c7Hs"
   },
   "source": [
    "# Section 2: New Section for additional data retrieval"
   ]
  },
  {
   "cell_type": "markdown",
   "metadata": {
    "id": "pTfJO_d3jla4"
   },
   "source": [
    "This new section was added to enrich the existing dataset (battery_materials_processed.csv) with additional material properties from the Materials Project API. Based on insights gained from preliminary model analysis (e.g., error patterns in Notebook 03), the following key features were identified as potentially beneficial for improving model performance:\n",
    "\n",
    "- efermi: Fermi energy, crucial for understanding metallic character.\n",
    "\n",
    "- nsites: The number of atoms in the primitive cell, providing structural scale information.\n",
    "\n",
    "- crystal_system: The crystal lattice system (e.g., cubic, hexagonal), offering fundamental structural classification.\n",
    "\n",
    "Instead of re-running the entire initial data collection, this section efficiently retrieves only these specific features for the existing materials, merges them into the DataFrame, and handles any resulting missing values. The enhanced dataset is then saved as battery_materials_processed_v2.csv, ready for use in subsequent notebooks."
   ]
  },
  {
   "cell_type": "code",
   "execution_count": null,
   "metadata": {
    "colab": {
     "base_uri": "https://localhost:8080/"
    },
    "id": "k1BQgXo4dBbx",
    "outputId": "5a87e60c-cd99-4319-9e7d-811abbca628f"
   },
   "outputs": [
    {
     "name": "stdout",
     "output_type": "stream",
     "text": [
      "Loaded 'battery_materials_processed.csv' from '/content/drive/MyDrive/Colab Notebooks/Masters Research Project/Data' (shape: (3709, 22)).\n"
     ]
    }
   ],
   "source": [
    "#  Load existing processed DataFrame from CSV\n",
    "\n",
    "INPUT_CSV_FILENAME = \"battery_materials_processed.csv\"\n",
    "OUTPUT_CSV_FILENAME = \"battery_materials_processed_v2.csv\"\n",
    "\n",
    "input_filepath = os.path.join(data_folder_path, INPUT_CSV_FILENAME)\n",
    "\n",
    "try:\n",
    "    df_to_enhance = pd.read_csv(input_filepath)\n",
    "    print(f\"Loaded '{INPUT_CSV_FILENAME}' from '{data_folder_path}' (shape: {df_to_enhance.shape}).\")\n",
    "except FileNotFoundError:\n",
    "    raise FileNotFoundError(f\"ERROR: '{input_filepath}' not found. Ensure previous Notebook 01 steps ran and saved this file.\")\n",
    "\n",
    "if 'material_id' not in df_to_enhance.columns:\n",
    "    raise ValueError(\"'material_id' column not found. It's required for MP API lookup.\")\n"
   ]
  },
  {
   "cell_type": "code",
   "execution_count": null,
   "metadata": {
    "colab": {
     "base_uri": "https://localhost:8080/"
    },
    "id": "65QqwABqdJCJ",
    "outputId": "3d2e4152-3076-4665-cc75-3c4e94d64bcf"
   },
   "outputs": [
    {
     "name": "stdout",
     "output_type": "stream",
     "text": [
      "Enter your Materials Project API Key: ··········\n"
     ]
    }
   ],
   "source": [
    "# Prompt for API Key using getpass\n",
    "MP_API_KEY = getpass.getpass(\"Enter your Materials Project API Key: \")"
   ]
  },
  {
   "cell_type": "code",
   "execution_count": null,
   "metadata": {
    "id": "Cfp4KSx6e4cP"
   },
   "outputs": [],
   "source": [
    "# Initialize MPRester\n",
    "try:\n",
    "    mpr = MPRester(MP_API_KEY)\n",
    "except Exception as e:\n",
    "    raise ConnectionError(f\"ERROR: Failed to initialize MPRester. Check API key and internet: {e}\")\n"
   ]
  },
  {
   "cell_type": "markdown",
   "metadata": {
    "id": "xS5Mdn1cfLPX"
   },
   "source": [
    "## further data retrieval"
   ]
  },
  {
   "cell_type": "code",
   "execution_count": null,
   "metadata": {
    "colab": {
     "base_uri": "https://localhost:8080/",
     "height": 180,
     "referenced_widgets": [
      "c32e4b71a07749cdbc89021f10d28785",
      "c1e01515c9f74d77bab6bebf14d779cf",
      "b47f15e523074163af84eb19ac384e32",
      "6dca81e211e34b4691f4e2f5646ace63",
      "7730ee9237ac42b5b85ab7c43923a82d",
      "ddbd12e7aa614620ac42078f02ab74c0",
      "aeb1e7e13b53477f90d5bd6a581ee2cc",
      "6fc3f6045d0b4ca19d5a7b0ae58ca750",
      "faf1c29d891e460086f25d68060df25f",
      "0967bcd177f144ed9a3268e72ee52114",
      "6eb9686c10c24b15a31d8daae5efdbe7",
      "8a1613ea7af64c7388cad15c84109995",
      "d26883d72d444d258dd6587f02d5972c",
      "eb95a494f36c4c37a891fdab835efd07",
      "e23a6e0709d24408b337d275f1c2d0e3",
      "36a1f7dcd3be44cd992ad333226c1a75",
      "90b3503f401948b1a7948d20b9d6c9b8",
      "24f6d260a1ca4b67805b080bdd8fa716",
      "0f09cd6db97f46ef9c2fc384d65b215c",
      "f41701bf7ccc48eaa67cec5ef19d8378",
      "a4f1dff9034d41e2b5af34eff62b0d65",
      "4b9cae4cb355494aa3e54383fe88c2ce",
      "b64e9984097d4d059b48621f8d534b33",
      "c67da89742fc4c6798b90bff8037afc2",
      "7987eda0f5ab49deb3818e14890e43ae",
      "396c1920725f4002b817b5878544a112",
      "fa6d1c9357f144e3aac7e581278c9edb",
      "ba4aa9f554d9440d92b4c37705652a49",
      "80cc4b5f4b4148e6b0fe0b0cbfaf2cf0",
      "e76ff5af1c1f47718c4e120c2b390ab3",
      "5e8fda949489452487dc58eda0328742",
      "6d5b9e246fdc405dafc6ee31c14f2034",
      "3f170e8c2bb8452d93ecd2128eafc2fc",
      "a221f51b726049feb96314cc16d65f18",
      "8d475afc681a4a4e8fda69fdd9188b64",
      "aa6b91a60f71439cb3ab2591a7ea1bb1",
      "429714a37d9e47be9833b4c179c2d105",
      "df7529c3fd894674bbdd62917efe994b",
      "2ab707f791784bd5b9a4fbce359df90f",
      "a3206574ee4b462688baf4b3ee4343ca",
      "3082a0a59fa545c589606e1962718468",
      "2cc101f56a984f61997126ba6c642db7",
      "4f5f8016d25743aabc436893a5006c17",
      "310849e6f057452aacd356e862f43ea0"
     ]
    },
    "id": "Zcy5ua7dfRIS",
    "outputId": "e89c3ca6-a1a2-47c9-df72-95f927913d1d"
   },
   "outputs": [
    {
     "name": "stdout",
     "output_type": "stream",
     "text": [
      "Fetching 3709 materials from MP in batches...\n"
     ]
    },
    {
     "data": {
      "application/vnd.jupyter.widget-view+json": {
       "model_id": "c32e4b71a07749cdbc89021f10d28785",
       "version_major": 2,
       "version_minor": 0
      },
      "text/plain": [
       "Retrieving SummaryDoc documents:   0%|          | 0/1000 [00:00<?, ?it/s]"
      ]
     },
     "metadata": {},
     "output_type": "display_data"
    },
    {
     "data": {
      "application/vnd.jupyter.widget-view+json": {
       "model_id": "8a1613ea7af64c7388cad15c84109995",
       "version_major": 2,
       "version_minor": 0
      },
      "text/plain": [
       "Retrieving SummaryDoc documents:   0%|          | 0/1000 [00:00<?, ?it/s]"
      ]
     },
     "metadata": {},
     "output_type": "display_data"
    },
    {
     "data": {
      "application/vnd.jupyter.widget-view+json": {
       "model_id": "b64e9984097d4d059b48621f8d534b33",
       "version_major": 2,
       "version_minor": 0
      },
      "text/plain": [
       "Retrieving SummaryDoc documents:   0%|          | 0/1000 [00:00<?, ?it/s]"
      ]
     },
     "metadata": {},
     "output_type": "display_data"
    },
    {
     "data": {
      "application/vnd.jupyter.widget-view+json": {
       "model_id": "a221f51b726049feb96314cc16d65f18",
       "version_major": 2,
       "version_minor": 0
      },
      "text/plain": [
       "Retrieving SummaryDoc documents:   0%|          | 0/709 [00:00<?, ?it/s]"
      ]
     },
     "metadata": {},
     "output_type": "display_data"
    },
    {
     "name": "stdout",
     "output_type": "stream",
     "text": [
      "Retrieved data for 3709 materials.\n"
     ]
    }
   ],
   "source": [
    "# Define Fields and Retrieve Data in Batches\n",
    "\n",
    "mp_fields = [\"material_id\", \"efermi\", \"nsites\", \"symmetry.crystal_system\"]\n",
    "mp_ids = df_to_enhance['material_id'].unique().tolist()\n",
    "retrieved_data = []\n",
    "\n",
    "print(f\"Fetching {len(mp_ids)} materials from MP in batches...\")\n",
    "batch_size = 1000\n",
    "for i in range(0, len(mp_ids), batch_size):\n",
    "    batch = mp_ids[i : i + batch_size]\n",
    "    try:\n",
    "        docs = mpr.materials.summary.search(material_ids=batch, fields=mp_fields)\n",
    "        for doc in docs:\n",
    "            d = doc.dict()\n",
    "            retrieved_data.append({\n",
    "                'material_id': d.get('material_id'),\n",
    "                'e_fermi': d.get('efermi'),\n",
    "                'nsites': d.get('nsites'),\n",
    "                'crystal_system': d.get('symmetry', {}).get('crystal_system', np.nan)\n",
    "            })\n",
    "    except Exception as e:\n",
    "        print(f\"WARNING: Batch error for IDs {batch[0]}...{batch[-1]}: {e}\")\n",
    "    time.sleep(0.1)\n",
    "\n",
    "mp_features_df = pd.DataFrame(retrieved_data)\n",
    "print(f\"Retrieved data for {len(mp_features_df)} materials.\")"
   ]
  },
  {
   "cell_type": "code",
   "execution_count": null,
   "metadata": {
    "colab": {
     "base_uri": "https://localhost:8080/"
    },
    "id": "Cz-wmwnkg0Mk",
    "outputId": "fb8a7197-ac8b-41cc-d9fd-ad2dbb3a88e1"
   },
   "outputs": [
    {
     "name": "stdout",
     "output_type": "stream",
     "text": [
      "DataFrame shape after merge: (3709, 25)\n"
     ]
    }
   ],
   "source": [
    "# Merge New Data with Existing DataFrame\n",
    "\n",
    "df_enhanced = pd.merge(df_to_enhance, mp_features_df, on='material_id', how='left')\n",
    "print(f\"DataFrame shape after merge: {df_enhanced.shape}\")"
   ]
  },
  {
   "cell_type": "code",
   "execution_count": null,
   "metadata": {
    "colab": {
     "base_uri": "https://localhost:8080/"
    },
    "id": "O2dzypTEg6uP",
    "outputId": "e3f21dc4-054a-4aec-ddda-f07733284341"
   },
   "outputs": [
    {
     "name": "stdout",
     "output_type": "stream",
     "text": [
      "\n",
      "Handling missing values in new MP features:\n",
      "Before imputation:\n",
      "e_fermi           2\n",
      "nsites            0\n",
      "crystal_system    0\n",
      "dtype: int64\n"
     ]
    }
   ],
   "source": [
    "# Handle Missing Values in New Features\n",
    "print(\"\\nHandling missing values in new MP features:\")\n",
    "print(f\"Before imputation:\\n{df_enhanced[['e_fermi', 'nsites', 'crystal_system']].isnull().sum()}\")\n"
   ]
  },
  {
   "cell_type": "code",
   "execution_count": null,
   "metadata": {
    "colab": {
     "base_uri": "https://localhost:8080/"
    },
    "id": "JvqmfjJOhAeX",
    "outputId": "0aaf2678-f4b4-4970-804a-1b34a4bbc521"
   },
   "outputs": [
    {
     "name": "stdout",
     "output_type": "stream",
     "text": [
      " - 'e_fermi' imputed with median.\n",
      "After imputation:\n",
      "e_fermi           0\n",
      "nsites            0\n",
      "crystal_system    0\n",
      "dtype: int64\n"
     ]
    }
   ],
   "source": [
    "# Impute e_fermi (Numerical)\n",
    "if df_enhanced['e_fermi'].isnull().any():\n",
    "    df_enhanced['e_fermi'] = df_enhanced['e_fermi'].fillna(df_enhanced['e_fermi'].median())\n",
    "    print(\" - 'e_fermi' imputed with median.\")\n",
    "\n",
    "# Impute nsites (Numerical, Integer)\n",
    "if df_enhanced['nsites'].isnull().any():\n",
    "    df_enhanced['nsites'] = df_enhanced['nsites'].fillna(df_enhanced['nsites'].median())\n",
    "    df_enhanced['nsites'] = df_enhanced['nsites'].astype(int)\n",
    "    print(\" - 'nsites' imputed with median and converted to int.\")\n",
    "\n",
    "# Impute crystal_system (Categorical)\n",
    "if df_enhanced['crystal_system'].isnull().any():\n",
    "    df_enhanced['crystal_system'] = df_enhanced['crystal_system'].fillna(df_enhanced['crystal_system'].mode()[0])\n",
    "    print(\" - 'crystal_system' imputed with mode.\")\n",
    "\n",
    "print(f\"After imputation:\\n{df_enhanced[['e_fermi', 'nsites', 'crystal_system']].isnull().sum()}\")"
   ]
  },
  {
   "cell_type": "code",
   "execution_count": null,
   "metadata": {
    "colab": {
     "base_uri": "https://localhost:8080/"
    },
    "id": "DOpMUGtrjtZR",
    "outputId": "a0e98201-c034-4cd6-feb4-5caca44651d1"
   },
   "outputs": [
    {
     "name": "stdout",
     "output_type": "stream",
     "text": [
      "<class 'pandas.core.frame.DataFrame'>\n",
      "RangeIndex: 3709 entries, 0 to 3708\n",
      "Data columns (total 25 columns):\n",
      " #   Column                     Non-Null Count  Dtype  \n",
      "---  ------                     --------------  -----  \n",
      " 0   material_id                3709 non-null   object \n",
      " 1   energy_above_hull          3709 non-null   float64\n",
      " 2   elements                   3709 non-null   object \n",
      " 3   density                    3709 non-null   float64\n",
      " 4   formula_pretty             3709 non-null   object \n",
      " 5   nelements                  3709 non-null   float64\n",
      " 6   volume                     3709 non-null   float64\n",
      " 7   band_gap                   3709 non-null   float64\n",
      " 8   is_metal                   3709 non-null   bool   \n",
      " 9   total_magnetization        3709 non-null   float64\n",
      " 10  theoretical                3709 non-null   bool   \n",
      " 11  battery_type               3709 non-null   object \n",
      " 12  working_ion                3709 non-null   object \n",
      " 13  average_voltage            3709 non-null   float64\n",
      " 14  theoretical_capacity_grav  3709 non-null   float64\n",
      " 15  theoretical_capacity_vol   3709 non-null   float64\n",
      " 16  energy_grav                3709 non-null   float64\n",
      " 17  energy_vol                 3709 non-null   float64\n",
      " 18  num_steps                  3709 non-null   float64\n",
      " 19  max_voltage_step           3709 non-null   float64\n",
      " 20  stability_charge           3709 non-null   float64\n",
      " 21  stability_discharge        3709 non-null   float64\n",
      " 22  e_fermi                    3709 non-null   float64\n",
      " 23  nsites                     3709 non-null   int64  \n",
      " 24  crystal_system             3709 non-null   object \n",
      "dtypes: bool(2), float64(16), int64(1), object(6)\n",
      "memory usage: 673.8+ KB\n"
     ]
    }
   ],
   "source": [
    "df_enhanced.info(verbose=True, show_counts=True)"
   ]
  },
  {
   "cell_type": "markdown",
   "metadata": {
    "id": "mOh-bOWYiUM5"
   },
   "source": [
    "## Save updated dataset"
   ]
  },
  {
   "cell_type": "code",
   "execution_count": null,
   "metadata": {
    "colab": {
     "base_uri": "https://localhost:8080/"
    },
    "id": "zFvevxehiFmg",
    "outputId": "3df89c91-5881-43be-8ab9-cc631db2a7d1"
   },
   "outputs": [
    {
     "name": "stdout",
     "output_type": "stream",
     "text": [
      "\n",
      "Enhanced DataFrame saved to '/content/drive/MyDrive/Colab Notebooks/Masters Research Project/Data/battery_materials_processed_v2.csv'.\n"
     ]
    }
   ],
   "source": [
    "# Save the Enhanced DataFrame\n",
    "\n",
    "output_filepath = os.path.join(data_folder_path, OUTPUT_CSV_FILENAME)\n",
    "if not df_enhanced.empty:\n",
    "    df_enhanced.to_csv(output_filepath, index=False)\n",
    "    print(f\"\\nEnhanced DataFrame saved to '{output_filepath}'.\")\n",
    "else:\n",
    "    print(\"DataFrame is empty, no data to save.\")"
   ]
  },
  {
   "cell_type": "markdown",
   "metadata": {
    "id": "2a42ad17"
   },
   "source": [
    "## Appendix: Data Retrieval and Processing\n",
    "\n",
    "This appendix details the steps taken to retrieve, process, and clean the battery materials data from the Materials Project API (using `mp-api`) for use in this study.\n",
    "\n",
    "### Data Sources\n",
    "\n",
    "Data was primarily retrieved from two key endpoints of the Materials Project API:\n",
    "\n",
    "1.  **Materials Summary (`mpr.materials.summary`):** This endpoint provides general, fundamental properties of materials.\n",
    "2.  **Insertion Electrodes (`mpr.materials.insertion_electrodes`):** This endpoint provides properties specifically calculated for materials acting as insertion electrodes in battery applications.\n",
    "\n",
    "### Data Retrieval Process\n",
    "\n",
    "The data was retrieved using the `MPRester` client from the `mp-api` library. A list of battery-relevant elements (`all_battery_elements`) was defined to filter the search space to materials likely to be of interest for battery applications.\n",
    "\n",
    "The following fields were initially targeted from the Materials Summary endpoint:\n",
    "\n",
    "- `material_id`: Unique identifier for the material.\n",
    "- `formula_pretty`: The conventional formula string.\n",
    "- `elements`: List of elements in the material.\n",
    "- `nelements`: Number of unique elements.\n",
    "- `volume`: Unit cell volume.\n",
    "- `density`: Density of the material.\n",
    "- `energy_above_hull`: Energy above the convex hull, indicating thermodynamic stability.\n",
    "- `band_gap`: Electronic band gap.\n",
    "- `is_metal`: Boolean indicating if the material is metallic.\n",
    "- `total_magnetization`: Total magnetic moment.\n",
    "- `theoretical`: Boolean indicating if the material is theoretical.\n",
    "\n",
    "From the Insertion Electrodes endpoint, all available fields were initially fetched, and a subset (`desired_electrodes_fields`) was later selected based on relevance:\n",
    "\n",
    "- `material_id`: Unique identifier for the material (linked via constituent materials).\n",
    "- `battery_type`: Type of battery (e.g., insertion).\n",
    "- `working_ion`: The ion inserted/extracted (e.g., Li, Na, Mg).\n",
    "- `average_voltage`: Average voltage during insertion/extraction.\n",
    "- `capacity_grav`: Gravimetric theoretical capacity.\n",
    "- `capacity_vol`: Volumetric theoretical capacity.\n",
    "- `energy_grav`: Gravimetric energy density.\n",
    "- `energy_vol`: Volumetric energy density.\n",
    "- `num_steps`: Number of voltage steps in the insertion/extraction curve.\n",
    "- `max_voltage_step`: Maximum voltage step.\n",
    "- `stability_charge`: Stability during charging.\n",
    "- `stability_discharge`: Stability during discharging.\n",
    "\n",
    "Data for each element in `all_battery_elements` was fetched iteratively using the `fetch_summary_data` and `fetch_electrodes_data` helper functions. The retrieved data was stored as lists of dictionaries: `all_summary_docs` and `all_electrodes_docs`.\n",
    "\n",
    "### Data Persistence\n",
    "\n",
    "To avoid repeated API calls, the raw retrieved data (`all_summary_docs` and `all_electrodes_docs`) was saved to pickle files (`all_summary_docs.pkl` and `all_electrodes_docs.pkl`) in the designated data folder (`/content/drive/MyDrive/Colab Notebooks/Masters Research Project/Data`). A loading mechanism was also implemented to load the data from these files if they exist, allowing the user to restart the notebook without refetching.\n",
    "\n",
    "### Data Processing and Cleaning\n",
    "\n",
    "The raw data lists were converted into pandas DataFrames (`df_summary` and `df_electrodes`).\n",
    "\n",
    "1.  **Material ID Cleaning and Deduplication:** Material IDs were standardized by stripping whitespace, and duplicate entries within each DataFrame were removed using `drop_duplicates` based on the `material_id`. This resulted in `df_summary_unique` and `df_electrodes_unique`, ensuring each material was represented only once in each source.\n",
    "\n",
    "2.  **Data Merging:** The unique summary and electrodes DataFrames were merged using an outer join (`how='outer'`) on the `material_id`. This step aimed to combine properties from both sources for materials present in either dataset. The resulting DataFrame was named `df_combined`. A final `drop_duplicates` on `material_id` was applied to `df_combined` as a safeguard.\n",
    "\n",
    "3.  **Completeness Filtering:** The merged DataFrame was filtered to retain only rows where the `battery_type` column was not null. This step was crucial for ensuring the final dataset contained only materials with calculated battery insertion properties, resulting in `df_final_data_filtered_hosts`.\n",
    "\n",
    "4.  **Column Renaming and Type Conversion:** Several columns were renamed for clarity, specifically:\n",
    "    - `capacity_grav` to `theoretical_capacity_grav`\n",
    "    - `capacity_vol` to `theoretical_capacity_vol`\n",
    "    Relevant columns were converted to numeric data types using `pd.to_numeric` with `errors='coerce'` to handle potential non-numeric values gracefully.\n",
    "\n",
    "5.  **Handling Missing Values:** Rows with missing values in a predefined list of 22 critical features (including the newly renamed and numeric columns) were removed using `dropna(subset=...)`. This ensured that the final dataset was complete for the features intended for use in downstream analysis and modeling.\n",
    "\n",
    "### Additional Feature Retrieval\n",
    "\n",
    "In a subsequent step (Section 2 of the notebook), additional potentially relevant features were retrieved for the materials already present in the processed dataset (`battery_materials_processed.csv`). These features, identified based on preliminary analysis, include:\n",
    "\n",
    "- `efermi`: Fermi energy.\n",
    "- `nsites`: Number of sites in the primitive cell.\n",
    "- `symmetry.crystal_system`: The crystal system.\n",
    "\n",
    "These features were fetched in batches using `mpr.materials.summary.search` with the `material_ids` from the existing DataFrame and the specified `fields`. The retrieved data was merged with the existing DataFrame (`df_to_enhance`) using a left merge on `material_id`, resulting in `df_enhanced`. Missing values in these new columns (`e_fermi`, `nsites`, `crystal_system`) were imputed using the median for numeric columns (`e_fermi`, `nsites`) and the mode for the categorical column (`crystal_system`).\n",
    "\n",
    "### Final Dataset\n",
    "\n",
    "The final cleaned and processed DataFrame (`df_enhanced`, saved as `battery_materials_processed_v2.csv`) contains {{len(df_enhanced)}} entries and {{len(df_enhanced.columns)}} features. This dataset represents materials from the Materials Project with both fundamental and battery-specific properties, cleaned and prepared for feature engineering and machine learning model development.\n",
    "\n",
    "An overview of the distribution of `working_ion` in the final dataset is provided below:\n",
    "\n",
    "{{df_enhanced['working_ion'].value_counts().to_markdown(numalign=\"left\", stralign=\"left\")}}"
   ]
  }
 ],
 "metadata": {
  "colab": {
   "collapsed_sections": [
    "8UUzLtDsykSp",
    "PX_6KZcdzjtI"
   ],
   "provenance": [],
   "toc_visible": true
  },
  "kernelspec": {
   "display_name": "Python 3",
   "name": "python3"
  },
  "language_info": {
   "name": "python"
  }
 },
 "nbformat": 4,
 "nbformat_minor": 0
}
