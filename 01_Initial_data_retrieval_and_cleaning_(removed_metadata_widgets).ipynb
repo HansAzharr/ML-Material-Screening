{
  "cells": [
    {
      "cell_type": "markdown",
      "metadata": {
        "id": "view-in-github",
        "colab_type": "text"
      },
      "source": [
        "<a href=\"https://colab.research.google.com/github/HansAzharr/ML-Material-Screening/blob/main/01_Initial_data_retrieval_and_cleaning_(removed_metadata_widgets).ipynb\" target=\"_parent\"><img src=\"https://colab.research.google.com/assets/colab-badge.svg\" alt=\"Open In Colab\"/></a>"
      ]
    },
    {
      "cell_type": "code",
      "execution_count": null,
      "metadata": {
        "colab": {
          "base_uri": "https://localhost:8080/"
        },
        "collapsed": true,
        "id": "Ukfp979kAmut",
        "outputId": "c61826b1-5689-4972-85f7-a0cea7c90ae7"
      },
      "outputs": [
        {
          "name": "stdout",
          "output_type": "stream",
          "text": [
            "Collecting mp-api\n",
            "  Downloading mp_api-0.45.8-py3-none-any.whl.metadata (2.4 kB)\n",
            "Collecting pymatgen\n",
            "  Downloading pymatgen-2025.6.14-cp312-cp312-manylinux_2_17_x86_64.manylinux2014_x86_64.whl.metadata (13 kB)\n",
            "Requirement already satisfied: setuptools in /usr/local/lib/python3.12/dist-packages (from mp-api) (75.2.0)\n",
            "Requirement already satisfied: msgpack in /usr/local/lib/python3.12/dist-packages (from mp-api) (1.1.1)\n",
            "Collecting maggma>=0.57.1 (from mp-api)\n",
            "  Downloading maggma-0.72.0-py3-none-any.whl.metadata (11 kB)\n",
            "Requirement already satisfied: typing-extensions>=3.7.4.1 in /usr/local/lib/python3.12/dist-packages (from mp-api) (4.15.0)\n",
            "Requirement already satisfied: requests>=2.23.0 in /usr/local/lib/python3.12/dist-packages (from mp-api) (2.32.4)\n",
            "Collecting monty>=2024.12.10 (from mp-api)\n",
            "  Downloading monty-2025.3.3-py3-none-any.whl.metadata (3.6 kB)\n",
            "Collecting emmet-core>=0.84.3rc6 (from mp-api)\n",
            "  Downloading emmet_core-0.84.10rc2-py3-none-any.whl.metadata (2.9 kB)\n",
            "Requirement already satisfied: smart_open in /usr/local/lib/python3.12/dist-packages (from mp-api) (7.3.0.post1)\n",
            "Collecting bibtexparser>=1.4.0 (from pymatgen)\n",
            "  Downloading bibtexparser-1.4.3.tar.gz (55 kB)\n",
            "\u001b[2K     \u001b[90m━━━━━━━━━━━━━━━━━━━━━━━━━━━━━━━━━━━━━━━━\u001b[0m \u001b[32m55.6/55.6 kB\u001b[0m \u001b[31m2.1 MB/s\u001b[0m eta \u001b[36m0:00:00\u001b[0m\n",
            "\u001b[?25h  Preparing metadata (setup.py) ... \u001b[?25l\u001b[?25hdone\n",
            "Requirement already satisfied: joblib>=1 in /usr/local/lib/python3.12/dist-packages (from pymatgen) (1.5.2)\n",
            "Requirement already satisfied: matplotlib>=3.8 in /usr/local/lib/python3.12/dist-packages (from pymatgen) (3.10.0)\n",
            "Requirement already satisfied: networkx>=2.7 in /usr/local/lib/python3.12/dist-packages (from pymatgen) (3.5)\n",
            "Requirement already satisfied: numpy<3,>=1.25.0 in /usr/local/lib/python3.12/dist-packages (from pymatgen) (2.0.2)\n",
            "Requirement already satisfied: orjson<4,>=3.10 in /usr/local/lib/python3.12/dist-packages (from pymatgen) (3.11.3)\n",
            "Collecting palettable>=3.3.3 (from pymatgen)\n",
            "  Downloading palettable-3.3.3-py2.py3-none-any.whl.metadata (3.3 kB)\n",
            "Requirement already satisfied: pandas>=2 in /usr/local/lib/python3.12/dist-packages (from pymatgen) (2.2.2)\n",
            "Requirement already satisfied: plotly>=5.0.0 in /usr/local/lib/python3.12/dist-packages (from pymatgen) (5.24.1)\n",
            "Collecting ruamel.yaml>=0.17.0 (from pymatgen)\n",
            "  Downloading ruamel.yaml-0.18.15-py3-none-any.whl.metadata (25 kB)\n",
            "Requirement already satisfied: scipy>=1.13.0 in /usr/local/lib/python3.12/dist-packages (from pymatgen) (1.16.1)\n",
            "Collecting spglib>=2.5 (from pymatgen)\n",
            "  Downloading spglib-2.6.0-cp312-cp312-manylinux_2_17_x86_64.manylinux2014_x86_64.whl.metadata (4.2 kB)\n",
            "Requirement already satisfied: sympy>=1.3 in /usr/local/lib/python3.12/dist-packages (from pymatgen) (1.13.3)\n",
            "Requirement already satisfied: tabulate>=0.9 in /usr/local/lib/python3.12/dist-packages (from pymatgen) (0.9.0)\n",
            "Requirement already satisfied: tqdm>=4.60 in /usr/local/lib/python3.12/dist-packages (from pymatgen) (4.67.1)\n",
            "Collecting uncertainties>=3.1.4 (from pymatgen)\n",
            "  Downloading uncertainties-3.2.3-py3-none-any.whl.metadata (7.0 kB)\n",
            "Requirement already satisfied: pyparsing>=2.0.3 in /usr/local/lib/python3.12/dist-packages (from bibtexparser>=1.4.0->pymatgen) (3.2.3)\n",
            "Requirement already satisfied: pydantic>=2.0 in /usr/local/lib/python3.12/dist-packages (from emmet-core>=0.84.3rc6->mp-api) (2.11.7)\n",
            "Requirement already satisfied: pydantic-settings>=2.0 in /usr/local/lib/python3.12/dist-packages (from emmet-core>=0.84.3rc6->mp-api) (2.10.1)\n",
            "Collecting pymatgen-io-validation>=0.1.0 (from emmet-core>=0.84.3rc6->mp-api)\n",
            "  Downloading pymatgen_io_validation-0.1.1-py3-none-any.whl.metadata (15 kB)\n",
            "Collecting pybtex~=0.24 (from emmet-core>=0.84.3rc6->mp-api)\n",
            "  Downloading pybtex-0.25.1-py2.py3-none-any.whl.metadata (2.2 kB)\n",
            "Collecting pymongo<4.11,>=4.2.0 (from maggma>=0.57.1->mp-api)\n",
            "  Downloading pymongo-4.10.1-cp312-cp312-manylinux_2_17_x86_64.manylinux2014_x86_64.whl.metadata (22 kB)\n",
            "Collecting mongomock>=3.10.0 (from maggma>=0.57.1->mp-api)\n",
            "  Downloading mongomock-4.3.0-py2.py3-none-any.whl.metadata (12 kB)\n",
            "Collecting pydash>=4.1.0 (from maggma>=0.57.1->mp-api)\n",
            "  Downloading pydash-8.0.5-py3-none-any.whl.metadata (4.5 kB)\n",
            "Requirement already satisfied: jsonschema>=3.1.1 in /usr/local/lib/python3.12/dist-packages (from maggma>=0.57.1->mp-api) (4.25.1)\n",
            "Collecting jsonlines>=4.0.0 (from maggma>=0.57.1->mp-api)\n",
            "  Downloading jsonlines-4.0.0-py3-none-any.whl.metadata (1.6 kB)\n",
            "Collecting aioitertools>=0.5.1 (from maggma>=0.57.1->mp-api)\n",
            "  Downloading aioitertools-0.12.0-py3-none-any.whl.metadata (3.8 kB)\n",
            "Requirement already satisfied: pyzmq>=25.1.1 in /usr/local/lib/python3.12/dist-packages (from maggma>=0.57.1->mp-api) (26.2.1)\n",
            "Collecting dnspython>=1.16.0 (from maggma>=0.57.1->mp-api)\n",
            "  Downloading dnspython-2.8.0-py3-none-any.whl.metadata (5.7 kB)\n",
            "Collecting sshtunnel>=0.1.5 (from maggma>=0.57.1->mp-api)\n",
            "  Downloading sshtunnel-0.4.0-py2.py3-none-any.whl.metadata (19 kB)\n",
            "Collecting boto3>=1.20.41 (from maggma>=0.57.1->mp-api)\n",
            "  Downloading boto3-1.40.26-py3-none-any.whl.metadata (6.7 kB)\n",
            "Requirement already satisfied: python-dateutil>=2.8.2 in /usr/local/lib/python3.12/dist-packages (from maggma>=0.57.1->mp-api) (2.9.0.post0)\n",
            "Requirement already satisfied: contourpy>=1.0.1 in /usr/local/lib/python3.12/dist-packages (from matplotlib>=3.8->pymatgen) (1.3.3)\n",
            "Requirement already satisfied: cycler>=0.10 in /usr/local/lib/python3.12/dist-packages (from matplotlib>=3.8->pymatgen) (0.12.1)\n",
            "Requirement already satisfied: fonttools>=4.22.0 in /usr/local/lib/python3.12/dist-packages (from matplotlib>=3.8->pymatgen) (4.59.2)\n",
            "Requirement already satisfied: kiwisolver>=1.3.1 in /usr/local/lib/python3.12/dist-packages (from matplotlib>=3.8->pymatgen) (1.4.9)\n",
            "Requirement already satisfied: packaging>=20.0 in /usr/local/lib/python3.12/dist-packages (from matplotlib>=3.8->pymatgen) (25.0)\n",
            "Requirement already satisfied: pillow>=8 in /usr/local/lib/python3.12/dist-packages (from matplotlib>=3.8->pymatgen) (11.3.0)\n",
            "Requirement already satisfied: pytz>=2020.1 in /usr/local/lib/python3.12/dist-packages (from pandas>=2->pymatgen) (2025.2)\n",
            "Requirement already satisfied: tzdata>=2022.7 in /usr/local/lib/python3.12/dist-packages (from pandas>=2->pymatgen) (2025.2)\n",
            "Requirement already satisfied: tenacity>=6.2.0 in /usr/local/lib/python3.12/dist-packages (from plotly>=5.0.0->pymatgen) (8.5.0)\n",
            "Requirement already satisfied: charset_normalizer<4,>=2 in /usr/local/lib/python3.12/dist-packages (from requests>=2.23.0->mp-api) (3.4.3)\n",
            "Requirement already satisfied: idna<4,>=2.5 in /usr/local/lib/python3.12/dist-packages (from requests>=2.23.0->mp-api) (3.10)\n",
            "Requirement already satisfied: urllib3<3,>=1.21.1 in /usr/local/lib/python3.12/dist-packages (from requests>=2.23.0->mp-api) (2.5.0)\n",
            "Requirement already satisfied: certifi>=2017.4.17 in /usr/local/lib/python3.12/dist-packages (from requests>=2.23.0->mp-api) (2025.8.3)\n",
            "Collecting ruamel.yaml.clib>=0.2.7 (from ruamel.yaml>=0.17.0->pymatgen)\n",
            "  Downloading ruamel.yaml.clib-0.2.12-cp312-cp312-manylinux_2_17_x86_64.manylinux2014_x86_64.whl.metadata (2.7 kB)\n",
            "Requirement already satisfied: mpmath<1.4,>=1.1.0 in /usr/local/lib/python3.12/dist-packages (from sympy>=1.3->pymatgen) (1.3.0)\n",
            "Requirement already satisfied: wrapt in /usr/local/lib/python3.12/dist-packages (from smart_open->mp-api) (1.17.3)\n",
            "Collecting botocore<1.41.0,>=1.40.26 (from boto3>=1.20.41->maggma>=0.57.1->mp-api)\n",
            "  Downloading botocore-1.40.26-py3-none-any.whl.metadata (5.7 kB)\n",
            "Collecting jmespath<2.0.0,>=0.7.1 (from boto3>=1.20.41->maggma>=0.57.1->mp-api)\n",
            "  Downloading jmespath-1.0.1-py3-none-any.whl.metadata (7.6 kB)\n",
            "Collecting s3transfer<0.14.0,>=0.13.0 (from boto3>=1.20.41->maggma>=0.57.1->mp-api)\n",
            "  Downloading s3transfer-0.13.1-py3-none-any.whl.metadata (1.7 kB)\n",
            "Requirement already satisfied: attrs>=19.2.0 in /usr/local/lib/python3.12/dist-packages (from jsonlines>=4.0.0->maggma>=0.57.1->mp-api) (25.3.0)\n",
            "Requirement already satisfied: jsonschema-specifications>=2023.03.6 in /usr/local/lib/python3.12/dist-packages (from jsonschema>=3.1.1->maggma>=0.57.1->mp-api) (2025.4.1)\n",
            "Requirement already satisfied: referencing>=0.28.4 in /usr/local/lib/python3.12/dist-packages (from jsonschema>=3.1.1->maggma>=0.57.1->mp-api) (0.36.2)\n",
            "Requirement already satisfied: rpds-py>=0.7.1 in /usr/local/lib/python3.12/dist-packages (from jsonschema>=3.1.1->maggma>=0.57.1->mp-api) (0.27.1)\n",
            "Collecting sentinels (from mongomock>=3.10.0->maggma>=0.57.1->mp-api)\n",
            "  Downloading sentinels-1.1.1-py3-none-any.whl.metadata (3.0 kB)\n",
            "Requirement already satisfied: PyYAML>=3.01 in /usr/local/lib/python3.12/dist-packages (from pybtex~=0.24->emmet-core>=0.84.3rc6->mp-api) (6.0.2)\n",
            "Collecting latexcodec>=1.0.4 (from pybtex~=0.24->emmet-core>=0.84.3rc6->mp-api)\n",
            "  Downloading latexcodec-3.0.1-py3-none-any.whl.metadata (5.2 kB)\n",
            "Requirement already satisfied: annotated-types>=0.6.0 in /usr/local/lib/python3.12/dist-packages (from pydantic>=2.0->emmet-core>=0.84.3rc6->mp-api) (0.7.0)\n",
            "Requirement already satisfied: pydantic-core==2.33.2 in /usr/local/lib/python3.12/dist-packages (from pydantic>=2.0->emmet-core>=0.84.3rc6->mp-api) (2.33.2)\n",
            "Requirement already satisfied: typing-inspection>=0.4.0 in /usr/local/lib/python3.12/dist-packages (from pydantic>=2.0->emmet-core>=0.84.3rc6->mp-api) (0.4.1)\n",
            "Requirement already satisfied: python-dotenv>=0.21.0 in /usr/local/lib/python3.12/dist-packages (from pydantic-settings>=2.0->emmet-core>=0.84.3rc6->mp-api) (1.1.1)\n",
            "Requirement already satisfied: six>=1.5 in /usr/local/lib/python3.12/dist-packages (from python-dateutil>=2.8.2->maggma>=0.57.1->mp-api) (1.17.0)\n",
            "Collecting paramiko>=2.7.2 (from sshtunnel>=0.1.5->maggma>=0.57.1->mp-api)\n",
            "  Downloading paramiko-4.0.0-py3-none-any.whl.metadata (3.9 kB)\n",
            "Collecting bcrypt>=3.2 (from paramiko>=2.7.2->sshtunnel>=0.1.5->maggma>=0.57.1->mp-api)\n",
            "  Downloading bcrypt-4.3.0-cp39-abi3-manylinux_2_34_x86_64.whl.metadata (10 kB)\n",
            "Requirement already satisfied: cryptography>=3.3 in /usr/local/lib/python3.12/dist-packages (from paramiko>=2.7.2->sshtunnel>=0.1.5->maggma>=0.57.1->mp-api) (43.0.3)\n",
            "Collecting invoke>=2.0 (from paramiko>=2.7.2->sshtunnel>=0.1.5->maggma>=0.57.1->mp-api)\n",
            "  Downloading invoke-2.2.0-py3-none-any.whl.metadata (3.3 kB)\n",
            "Collecting pynacl>=1.5 (from paramiko>=2.7.2->sshtunnel>=0.1.5->maggma>=0.57.1->mp-api)\n",
            "  Downloading PyNaCl-1.5.0-cp36-abi3-manylinux_2_17_x86_64.manylinux2014_x86_64.manylinux_2_24_x86_64.whl.metadata (8.6 kB)\n",
            "Requirement already satisfied: cffi>=1.12 in /usr/local/lib/python3.12/dist-packages (from cryptography>=3.3->paramiko>=2.7.2->sshtunnel>=0.1.5->maggma>=0.57.1->mp-api) (1.17.1)\n",
            "Requirement already satisfied: pycparser in /usr/local/lib/python3.12/dist-packages (from cffi>=1.12->cryptography>=3.3->paramiko>=2.7.2->sshtunnel>=0.1.5->maggma>=0.57.1->mp-api) (2.22)\n",
            "Downloading mp_api-0.45.8-py3-none-any.whl (101 kB)\n",
            "\u001b[2K   \u001b[90m━━━━━━━━━━━━━━━━━━━━━━━━━━━━━━━━━━━━━━━━\u001b[0m \u001b[32m101.2/101.2 kB\u001b[0m \u001b[31m4.5 MB/s\u001b[0m eta \u001b[36m0:00:00\u001b[0m\n",
            "\u001b[?25hDownloading pymatgen-2025.6.14-cp312-cp312-manylinux_2_17_x86_64.manylinux2014_x86_64.whl (5.1 MB)\n",
            "\u001b[2K   \u001b[90m━━━━━━━━━━━━━━━━━━━━━━━━━━━━━━━━━━━━━━━━\u001b[0m \u001b[32m5.1/5.1 MB\u001b[0m \u001b[31m59.4 MB/s\u001b[0m eta \u001b[36m0:00:00\u001b[0m\n",
            "\u001b[?25hDownloading emmet_core-0.84.10rc2-py3-none-any.whl (264 kB)\n",
            "\u001b[2K   \u001b[90m━━━━━━━━━━━━━━━━━━━━━━━━━━━━━━━━━━━━━━━━\u001b[0m \u001b[32m264.5/264.5 kB\u001b[0m \u001b[31m20.5 MB/s\u001b[0m eta \u001b[36m0:00:00\u001b[0m\n",
            "\u001b[?25hDownloading maggma-0.72.0-py3-none-any.whl (123 kB)\n",
            "\u001b[2K   \u001b[90m━━━━━━━━━━━━━━━━━━━━━━━━━━━━━━━━━━━━━━━━\u001b[0m \u001b[32m123.7/123.7 kB\u001b[0m \u001b[31m9.9 MB/s\u001b[0m eta \u001b[36m0:00:00\u001b[0m\n",
            "\u001b[?25hDownloading monty-2025.3.3-py3-none-any.whl (51 kB)\n",
            "\u001b[2K   \u001b[90m━━━━━━━━━━━━━━━━━━━━━━━━━━━━━━━━━━━━━━━━\u001b[0m \u001b[32m51.9/51.9 kB\u001b[0m \u001b[31m3.8 MB/s\u001b[0m eta \u001b[36m0:00:00\u001b[0m\n",
            "\u001b[?25hDownloading palettable-3.3.3-py2.py3-none-any.whl (332 kB)\n",
            "\u001b[2K   \u001b[90m━━━━━━━━━━━━━━━━━━━━━━━━━━━━━━━━━━━━━━━━\u001b[0m \u001b[32m332.3/332.3 kB\u001b[0m \u001b[31m23.0 MB/s\u001b[0m eta \u001b[36m0:00:00\u001b[0m\n",
            "\u001b[?25hDownloading ruamel.yaml-0.18.15-py3-none-any.whl (119 kB)\n",
            "\u001b[2K   \u001b[90m━━━━━━━━━━━━━━━━━━━━━━━━━━━━━━━━━━━━━━━━\u001b[0m \u001b[32m119.7/119.7 kB\u001b[0m \u001b[31m9.7 MB/s\u001b[0m eta \u001b[36m0:00:00\u001b[0m\n",
            "\u001b[?25hDownloading spglib-2.6.0-cp312-cp312-manylinux_2_17_x86_64.manylinux2014_x86_64.whl (809 kB)\n",
            "\u001b[2K   \u001b[90m━━━━━━━━━━━━━━━━━━━━━━━━━━━━━━━━━━━━━━━━\u001b[0m \u001b[32m809.1/809.1 kB\u001b[0m \u001b[31m48.1 MB/s\u001b[0m eta \u001b[36m0:00:00\u001b[0m\n",
            "\u001b[?25hDownloading uncertainties-3.2.3-py3-none-any.whl (60 kB)\n",
            "\u001b[2K   \u001b[90m━━━━━━━━━━━━━━━━━━━━━━━━━━━━━━━━━━━━━━━━\u001b[0m \u001b[32m60.1/60.1 kB\u001b[0m \u001b[31m4.7 MB/s\u001b[0m eta \u001b[36m0:00:00\u001b[0m\n",
            "\u001b[?25hDownloading aioitertools-0.12.0-py3-none-any.whl (24 kB)\n",
            "Downloading boto3-1.40.26-py3-none-any.whl (139 kB)\n",
            "\u001b[2K   \u001b[90m━━━━━━━━━━━━━━━━━━━━━━━━━━━━━━━━━━━━━━━━\u001b[0m \u001b[32m139.3/139.3 kB\u001b[0m \u001b[31m11.0 MB/s\u001b[0m eta \u001b[36m0:00:00\u001b[0m\n",
            "\u001b[?25hDownloading dnspython-2.8.0-py3-none-any.whl (331 kB)\n",
            "\u001b[2K   \u001b[90m━━━━━━━━━━━━━━━━━━━━━━━━━━━━━━━━━━━━━━━━\u001b[0m \u001b[32m331.1/331.1 kB\u001b[0m \u001b[31m25.6 MB/s\u001b[0m eta \u001b[36m0:00:00\u001b[0m\n",
            "\u001b[?25hDownloading jsonlines-4.0.0-py3-none-any.whl (8.7 kB)\n",
            "Downloading mongomock-4.3.0-py2.py3-none-any.whl (64 kB)\n",
            "\u001b[2K   \u001b[90m━━━━━━━━━━━━━━━━━━━━━━━━━━━━━━━━━━━━━━━━\u001b[0m \u001b[32m64.9/64.9 kB\u001b[0m \u001b[31m5.7 MB/s\u001b[0m eta \u001b[36m0:00:00\u001b[0m\n",
            "\u001b[?25hDownloading pybtex-0.25.1-py2.py3-none-any.whl (127 kB)\n",
            "\u001b[2K   \u001b[90m━━━━━━━━━━━━━━━━━━━━━━━━━━━━━━━━━━━━━━━━\u001b[0m \u001b[32m127.4/127.4 kB\u001b[0m \u001b[31m11.1 MB/s\u001b[0m eta \u001b[36m0:00:00\u001b[0m\n",
            "\u001b[?25hDownloading pydash-8.0.5-py3-none-any.whl (102 kB)\n",
            "\u001b[2K   \u001b[90m━━━━━━━━━━━━━━━━━━━━━━━━━━━━━━━━━━━━━━━━\u001b[0m \u001b[32m102.1/102.1 kB\u001b[0m \u001b[31m8.6 MB/s\u001b[0m eta \u001b[36m0:00:00\u001b[0m\n",
            "\u001b[?25hDownloading pymatgen_io_validation-0.1.1-py3-none-any.whl (46 kB)\n",
            "\u001b[2K   \u001b[90m━━━━━━━━━━━━━━━━━━━━━━━━━━━━━━━━━━━━━━━━\u001b[0m \u001b[32m46.4/46.4 kB\u001b[0m \u001b[31m3.6 MB/s\u001b[0m eta \u001b[36m0:00:00\u001b[0m\n",
            "\u001b[?25hDownloading pymongo-4.10.1-cp312-cp312-manylinux_2_17_x86_64.manylinux2014_x86_64.whl (1.9 MB)\n",
            "\u001b[2K   \u001b[90m━━━━━━━━━━━━━━━━━━━━━━━━━━━━━━━━━━━━━━━━\u001b[0m \u001b[32m1.9/1.9 MB\u001b[0m \u001b[31m71.3 MB/s\u001b[0m eta \u001b[36m0:00:00\u001b[0m\n",
            "\u001b[?25hDownloading ruamel.yaml.clib-0.2.12-cp312-cp312-manylinux_2_17_x86_64.manylinux2014_x86_64.whl (754 kB)\n",
            "\u001b[2K   \u001b[90m━━━━━━━━━━━━━━━━━━━━━━━━━━━━━━━━━━━━━━━━\u001b[0m \u001b[32m754.1/754.1 kB\u001b[0m \u001b[31m42.6 MB/s\u001b[0m eta \u001b[36m0:00:00\u001b[0m\n",
            "\u001b[?25hDownloading sshtunnel-0.4.0-py2.py3-none-any.whl (24 kB)\n",
            "Downloading botocore-1.40.26-py3-none-any.whl (14.0 MB)\n",
            "\u001b[2K   \u001b[90m━━━━━━━━━━━━━━━━━━━━━━━━━━━━━━━━━━━━━━━━\u001b[0m \u001b[32m14.0/14.0 MB\u001b[0m \u001b[31m87.4 MB/s\u001b[0m eta \u001b[36m0:00:00\u001b[0m\n",
            "\u001b[?25hDownloading jmespath-1.0.1-py3-none-any.whl (20 kB)\n",
            "Downloading latexcodec-3.0.1-py3-none-any.whl (18 kB)\n",
            "Downloading paramiko-4.0.0-py3-none-any.whl (223 kB)\n",
            "\u001b[2K   \u001b[90m━━━━━━━━━━━━━━━━━━━━━━━━━━━━━━━━━━━━━━━━\u001b[0m \u001b[32m223.9/223.9 kB\u001b[0m \u001b[31m19.5 MB/s\u001b[0m eta \u001b[36m0:00:00\u001b[0m\n",
            "\u001b[?25hDownloading s3transfer-0.13.1-py3-none-any.whl (85 kB)\n",
            "\u001b[2K   \u001b[90m━━━━━━━━━━━━━━━━━━━━━━━━━━━━━━━━━━━━━━━━\u001b[0m \u001b[32m85.3/85.3 kB\u001b[0m \u001b[31m7.1 MB/s\u001b[0m eta \u001b[36m0:00:00\u001b[0m\n",
            "\u001b[?25hDownloading sentinels-1.1.1-py3-none-any.whl (3.7 kB)\n",
            "Downloading bcrypt-4.3.0-cp39-abi3-manylinux_2_34_x86_64.whl (284 kB)\n",
            "\u001b[2K   \u001b[90m━━━━━━━━━━━━━━━━━━━━━━━━━━━━━━━━━━━━━━━━\u001b[0m \u001b[32m284.2/284.2 kB\u001b[0m \u001b[31m23.2 MB/s\u001b[0m eta \u001b[36m0:00:00\u001b[0m\n",
            "\u001b[?25hDownloading invoke-2.2.0-py3-none-any.whl (160 kB)\n",
            "\u001b[2K   \u001b[90m━━━━━━━━━━━━━━━━━━━━━━━━━━━━━━━━━━━━━━━━\u001b[0m \u001b[32m160.3/160.3 kB\u001b[0m \u001b[31m14.2 MB/s\u001b[0m eta \u001b[36m0:00:00\u001b[0m\n",
            "\u001b[?25hDownloading PyNaCl-1.5.0-cp36-abi3-manylinux_2_17_x86_64.manylinux2014_x86_64.manylinux_2_24_x86_64.whl (856 kB)\n",
            "\u001b[2K   \u001b[90m━━━━━━━━━━━━━━━━━━━━━━━━━━━━━━━━━━━━━━━━\u001b[0m \u001b[32m856.7/856.7 kB\u001b[0m \u001b[31m47.6 MB/s\u001b[0m eta \u001b[36m0:00:00\u001b[0m\n",
            "\u001b[?25hBuilding wheels for collected packages: bibtexparser\n",
            "  Building wheel for bibtexparser (setup.py) ... \u001b[?25l\u001b[?25hdone\n",
            "  Created wheel for bibtexparser: filename=bibtexparser-1.4.3-py3-none-any.whl size=43549 sha256=cd917dccb9d08a38792f7b710227884bb7984d06d16487635c1c304e77af11da\n",
            "  Stored in directory: /root/.cache/pip/wheels/1f/7d/e9/1ff2509f13767a55df1279744adfb757f4ab94b2cbe761f56a\n",
            "Successfully built bibtexparser\n",
            "Installing collected packages: uncertainties, spglib, sentinels, ruamel.yaml.clib, pydash, palettable, latexcodec, jsonlines, jmespath, invoke, dnspython, bibtexparser, bcrypt, aioitertools, ruamel.yaml, pynacl, pymongo, pybtex, mongomock, botocore, s3transfer, paramiko, monty, sshtunnel, pymatgen, boto3, pymatgen-io-validation, maggma, emmet-core, mp-api\n",
            "Successfully installed aioitertools-0.12.0 bcrypt-4.3.0 bibtexparser-1.4.3 boto3-1.40.26 botocore-1.40.26 dnspython-2.8.0 emmet-core-0.84.10rc2 invoke-2.2.0 jmespath-1.0.1 jsonlines-4.0.0 latexcodec-3.0.1 maggma-0.72.0 mongomock-4.3.0 monty-2025.3.3 mp-api-0.45.8 palettable-3.3.3 paramiko-4.0.0 pybtex-0.25.1 pydash-8.0.5 pymatgen-2025.6.14 pymatgen-io-validation-0.1.1 pymongo-4.10.1 pynacl-1.5.0 ruamel.yaml-0.18.15 ruamel.yaml.clib-0.2.12 s3transfer-0.13.1 sentinels-1.1.1 spglib-2.6.0 sshtunnel-0.4.0 uncertainties-3.2.3\n"
          ]
        }
      ],
      "source": [
        "!pip install mp-api pymatgen"
      ]
    },
    {
      "cell_type": "code",
      "execution_count": null,
      "metadata": {
        "id": "gcgw9AWfBt4j"
      },
      "outputs": [],
      "source": [
        "import os\n",
        "import sys\n",
        "import pandas as pd\n",
        "import numpy as np\n",
        "import json\n",
        "from google.colab import drive\n",
        "from mp_api.client import MPRester # Materials Project API client\n",
        "import getpass\n",
        "import warnings\n",
        "import pickle\n",
        "import time"
      ]
    },
    {
      "cell_type": "markdown",
      "metadata": {
        "id": "kByYNDKmB3_P"
      },
      "source": [
        "## Define project paths"
      ]
    },
    {
      "cell_type": "code",
      "execution_count": null,
      "metadata": {
        "id": "YQvoWAMoB3cF"
      },
      "outputs": [],
      "source": [
        "base_project_path = \"/content/drive/MyDrive/Colab Notebooks/Masters Research Project\"\n",
        "data_folder_path = os.path.join(base_project_path, \"Data\")\n",
        "# Ensure the Data folder exists\n",
        "os.makedirs(data_folder_path, exist_ok=True)"
      ]
    },
    {
      "cell_type": "code",
      "execution_count": null,
      "metadata": {
        "colab": {
          "base_uri": "https://localhost:8080/"
        },
        "id": "0Y6aKzzeB8vl",
        "outputId": "8b4bcb37-a841-487f-a470-84f7397122b3"
      },
      "outputs": [
        {
          "name": "stdout",
          "output_type": "stream",
          "text": [
            "Enter your Materials Project API Key: ··········\n"
          ]
        }
      ],
      "source": [
        "# Prompt for API Key using getpass\n",
        "MP_API_KEY = getpass.getpass(\"Enter your Materials Project API Key: \")"
      ]
    },
    {
      "cell_type": "code",
      "execution_count": null,
      "metadata": {
        "id": "Axi7mJt3PL5m"
      },
      "outputs": [],
      "source": [
        "# Ensure MP_API_KEY and project_root/data_path are available from the previous cell\n",
        "if 'MP_API_KEY' not in locals() or 'base_project_path' not in locals():\n",
        "    print(\"Error: Required variables (MP_API_KEY, base_project_path) not found. Please run the previous cell first.\")\n",
        "    sys.exit(\"Exiting: Environment not set up.\")"
      ]
    },
    {
      "cell_type": "markdown",
      "metadata": {
        "id": "Z9eyhzljhUgt"
      },
      "source": [
        "# Section 1"
      ]
    },
    {
      "cell_type": "markdown",
      "metadata": {
        "id": "pgYs4NqeCAb-"
      },
      "source": [
        "## Data retrieval"
      ]
    },
    {
      "cell_type": "code",
      "execution_count": null,
      "metadata": {
        "id": "RkS1lp6RRS3X"
      },
      "outputs": [],
      "source": [
        "def fetch_summary_data(mpr_client, element, fields_to_fetch, energy_hull_filter=(None, 0.2)):\n",
        "    \"\"\"Fetches summary data for a given element with specified filters and fields.\"\"\"\n",
        "    try:\n",
        "        docs = mpr_client.materials.summary.search(\n",
        "            elements=[element],\n",
        "            energy_above_hull=energy_hull_filter,\n",
        "            fields=fields_to_fetch\n",
        "        )\n",
        "        return [doc.dict() for doc in docs]\n",
        "    except Exception as e:\n",
        "        print(f\"\\n  Error fetching summary data for '{element}': {e}.\")\n",
        "        return []"
      ]
    },
    {
      "cell_type": "code",
      "execution_count": null,
      "metadata": {
        "id": "aJ8CYPQdRUMc"
      },
      "outputs": [],
      "source": [
        "def fetch_electrodes_data(mpr_client, element):\n",
        "    \"\"\"Fetches electrodes data for a given element (returns all available fields).\"\"\"\n",
        "    try:\n",
        "        docs = mpr_client.materials.insertion_electrodes.search(\n",
        "            elements=[element]\n",
        "        )\n",
        "        return [doc.dict() if hasattr(doc, 'dict') else doc for doc in docs]\n",
        "    except Exception as e:\n",
        "        print(f\"\\n  Error fetching electrodes data for '{element}': {e}.\")\n",
        "        return []\n"
      ]
    },
    {
      "cell_type": "code",
      "execution_count": null,
      "metadata": {
        "id": "bDMHrM5NRxvo"
      },
      "outputs": [],
      "source": [
        "# Define elements for query (full list)\n",
        "all_battery_elements = [\"Li\", \"Na\", \"Mg\", \"Al\", \"O\", \"S\", \"P\", \"F\", \"Cl\", \"Co\", \"Ni\", \"Mn\", \"Fe\", \"Cu\", \"Zn\", \"Si\", \"Ge\", \"C\"]\n",
        "\n",
        "# Define fields for the general materials summary endpoint\n",
        "summary_fields_to_fetch = [\n",
        "    \"material_id\", \"formula_pretty\", \"elements\", \"nelements\", \"volume\", \"density\",\n",
        "    \"energy_above_hull\", \"band_gap\", \"is_metal\", \"total_magnetization\", \"theoretical\"\n",
        "]\n",
        "\n",
        "# Define fields for the insertion electrodes endpoint\n",
        "desired_electrodes_fields = [\n",
        "    \"material_id\", \"battery_type\", \"working_ion\", \"average_voltage\",\n",
        "    \"capacity_grav\", \"capacity_vol\", \"energy_grav\", \"energy_vol\",\n",
        "    \"num_steps\", \"max_voltage_step\", \"stability_charge\", \"stability_discharge\"\n",
        "]"
      ]
    },
    {
      "cell_type": "code",
      "execution_count": null,
      "metadata": {
        "id": "TZoZTO2JX6cg"
      },
      "outputs": [],
      "source": [
        "warnings.filterwarnings(\n",
        "    \"ignore\",\n",
        "    message=\"Using UFloat objects with std_dev==0 may give unexpected results.\",\n",
        "    category=UserWarning,\n",
        "    module='uncertainties.core'\n",
        ")"
      ]
    },
    {
      "cell_type": "code",
      "execution_count": null,
      "metadata": {
        "colab": {
          "base_uri": "https://localhost:8080/",
          "height": 1000,
          "referenced_widgets": [
            "6825a7b0ea154e29b022222ceb4cb21d",
            "ed0c02003e7d45ceb23f561460d25419",
            "9699b44be10d45e5bec19bf14a7052d8",
            "da28632c9cdb49729e08c5a21506e3bb",
            "81dbb10d4c104a0ab43893fc9230b719",
            "d683421794304778a9cede52b51a8ec1",
            "2eb4e55d49454c6a91205838bddc1b23",
            "4b47331a1f9d49a48486af7a511ecc98",
            "af2a5f2b59f245ee9bb0baf3521fe920",
            "914dfe609bc6410bab256ea46e4a91c6",
            "3e204e9fde774f5bbbe4050acc45129f",
            "c4a3eee6aa80407988f5edcf51fbf3ed",
            "acd3678d7d374d24824d36c6fc8b16bd",
            "539fa71db80c447387168a418618fcb9",
            "7c91c3f739654e21aa62e84d6ad27a8e",
            "472e29ff16284c4a84f01553199baad2",
            "e32327ce374a4107aa359d834baa31a6",
            "981c3e2dfb7b4e938fb1dd3dec119e45",
            "f71cbf5b7e46450bbc22f2efa9c30bfa",
            "22cb4ef99e704e29a8861b1e70bb0a64",
            "e599f3d238434018b2e74b7a38062c97",
            "fe2820a1b35f48519a8e0668d7a17929",
            "8bdaa775b06f4ad697d355663ff1824a",
            "2766ce667147430298f3a61e3aee9ecf",
            "9e6505f529f84bf1a7622bd4e63e8378",
            "2e9f61ea84d14644a79df8192cdcc362",
            "dfd18fe5cbad4a96bdaef618fb61ff05",
            "45c2ba1993674e6f98619089fd7f488d",
            "c54de0be70034d448d7f91b4e4e9efb2",
            "d264c9d787044addb6494d571b5a3615",
            "90082d8d4956497ea98de1d1ce5d7843",
            "22e79e3b26364dbba557e80cb442d5e8",
            "bd8ee14913f74c40b0e45b73c01d8457",
            "1d532fe7899d4f548159520e50dd4aaa",
            "55f3ce351a474442a5969c0c4647e1b7",
            "156af58b23954b48be98b437a2e96fa0",
            "93b87b42871d4314952776bbbe533633",
            "6467c461a8074e8b8e3d1d2c444babd3",
            "555d6ee5fd984e6195f85db0c730c8bd",
            "6dc3298f7d69454cbb312edd1d8e2a20",
            "f0905a1d6f7f4ac19a680f0a66b5e907",
            "076755861fef4938b504b5e3fd9d709a",
            "3a5f49439c8d491a898d6f0e59407ecb",
            "763c7d0fbd624862ac028df0ebcdbaf9",
            "5ebd56f294814b5eb239039296908fbf",
            "ee637f3ab40a4a0eb9bc3800a0c5d039",
            "e92d1cbb84c44911bffe65e96b824408",
            "ee8a6c0b85964789b226bd4d5a65cbbc",
            "6cb15b967f364392953dbb07b6fe99ff",
            "4f5eba80e02746e89e960f7f3d3a8939",
            "71e8176b9a3a4abaafcc4a20b0c2a48d",
            "c26f1f972ec242798fa7b34d86024883",
            "12ac41bd8f3347058f52367a72b0467a",
            "d12fae419075460dbbc28491790bf910",
            "4e733aec8e4b402597d2c29df1b65a2c",
            "c4d83e40c8ff462fbbb63b69c8111ccf",
            "dcbf56e6dc5d47d581cdf6a01d06d96f",
            "70a114ca1a304c92bf38a53046f1200b",
            "0df66681937b4aacb14ee28584074123",
            "345ba58a143e42819a572528807e7463",
            "7fff457cddbd4dc4a03f75f71c8f5078",
            "a6a23f69a5194dbf9d7cc055847c33da",
            "f558309e2e9c4c3cb92682935b21c0ca",
            "9fb65060bf5c439aa568232408e5d9dd",
            "f9f92eb522ea423096701590a26b1631",
            "9ac8644dbf5a4365937a1b4c918e3f6d",
            "1d1d2320999249eda55c66b29e2403b4",
            "d19a9d40082e44d3b8c2d4ac7110bb77",
            "8cae71dab2ca4af5bb033c03aa1e2c56",
            "2804099bdc0d4172b9df37421b534b14",
            "2ef08b38e73044a0b8fc024e2c7bda3e",
            "de680ab02d1d4af086a797b7bb782fd5",
            "cfbe00bb35144b0e9b1389ef83a43e90",
            "adaa8f588b4440a994383e8de0184ea0",
            "e17fcbe76517477694b1f98e41a65de1",
            "54101fcb8fee4992888a58b4a184354b",
            "25044e8b65f642239b0617e0a4b87e37",
            "7bf7e48c3440440cb5cc7dacbca9e3b8",
            "aa1c407af5a04f39bdcb8947391637c7",
            "87f320dc1fe545ffbbc8a6bf02a014c6",
            "2810ff26339f40edaf7ddbe860a366ae",
            "946231b11e6d4d55bf2d648142a713ed",
            "f172a3c4933343fdbd3cf11ebd238758",
            "b52d428df59c457d82452dff240d8192",
            "927f6334793d4719891547d199e8fb03",
            "17a7ce8a81a349fcab7b73a7b3ecf336",
            "511d9d14b94a4f168e790e589be091ab",
            "b2a73533664544cb8a8ae5c01e5a3311",
            "77ce549e1cef4828a5f7977478eeb9e1",
            "5790eedae6b64ebab458f90c3c9efb85",
            "5b85c13903794719a1a287833bb10e7d",
            "49ae687423f244e48fde0323bcb49b6d",
            "c046e120ab3e408fa5a92ff9a14ea3ac",
            "d12ec64393c94a68b4bc22fa0eea28c2",
            "952e4163185a4c8cb2c954788d4e0390",
            "f2235c91541848cbbd88574f714d6c44",
            "32c4ce790a154b7e81c7ffeef21e3075",
            "fe7a2c73bdd342a0969e4a5d9351f424",
            "58c431cf697d498fbf689fc6dbc21e90",
            "730c6e7c3f0c444c824d3372209ad9c6",
            "a74252deff484dada384df34c0ef51e2",
            "85079c6b80be455dbe1cc838a7a5d15c",
            "28de0d5f02034dc2bc238da2947a680a",
            "deeb8c2846c24d8788898febd017105d",
            "565f98b6cf0344a3a920ac50b873b38c",
            "7c9381c0730343bd8c2780394ce9dcda",
            "9fe265e8fd794a9f916ef4f62c6fe9d4",
            "4672d643d12748a5b1a6dd2183bc1ed2",
            "270e96edb37047e9afda062df44a5eb4",
            "f9cba009a71e414d911c00e3ab9b9386",
            "224b8c3712ae47748ae11e868fb15bd5",
            "95cba6f1fc334cdb89ece0054ba88975",
            "28e134aba88a4a908a0698102df6d35a",
            "d0143d30b48c42bdb69a18984d07902d",
            "4a29c0d481b84af99d936502c10a5615",
            "4f0bf7928c0d4255ae417d20fcb9dd1c",
            "11e0515a2537403a908775f53b925973",
            "c87a2d87596746508fdec154d28e10eb",
            "52940f118499416a93fa3dbf33541f03",
            "ba2007cd0b054acc948a48362738f0f6",
            "1c4e3c9ac3d3420caba3a3d94b463b2e",
            "8fee13dd3fb34f60b29a86f780791394",
            "f37bb8c9371a4f76b8dae27a2c8361c3",
            "ae89aa24718d48059017e077e8d4352f",
            "76dcedda53af4b5c8004f03d594224b2",
            "a6c4f21df1014f60b99112eac00f075a",
            "3d6a35bd4d174a99a1741759633fc90c",
            "57bb1ff4be0a4e68a900694e85ca8c43",
            "da439ced4ea14a1abd8b0828baafc454",
            "e303b23eed9746d9b5bdd2c2d0f99b84",
            "aca4a765b7bf46fdbfbab9ec0c3da3f7",
            "c8981eb7f9c24845991355db9664ffde",
            "0bf442e9185140ebb0827d9b4c5ecbda",
            "bf552e05a2cf4dff81557a4a14c27dae",
            "7fac1e9fe9a642418508dd6e22fbba57",
            "d70b6e99f9ab46e2a7067afe6f2f64a1",
            "a03509bb437f4c1085816c8c96dbd9e7",
            "5a5eba96a0854cd5b55cbdc8f6a8fa4a",
            "9552346d45444f0a82ef4490eaa11a97",
            "19a9c7a3e73c45e2b1d7c926367861db",
            "cf5896079812412dbca5beaff187d05c",
            "ac8da865f9774713889d5bbc406ccc08",
            "2e7b71fc5f3140878175c2b3685f478f",
            "8d00df78ffc140dfad7008221f38b2de",
            "02a8858f769b4f6aab85dcacc8b6d3c6",
            "bdac1fa1dd3343d58b5120e8adfc882e",
            "cc218b2435d94c0782a8f4aa8966eb67",
            "41a7f41ab9e140a194e821b408f40f53",
            "0f9e3e3981dc4569a719c4b51c3ab106",
            "c94d7c6d956140f6beaa2b3f6814b92b",
            "67f9226193784d7ebf45c48c92387a53",
            "f2a2b6bbc9bc440b86e499c7c7ca77d2",
            "f60b52a821244ef383db581095e16d9a",
            "d9f1a0a68ac840089d3cf7163cc07e62",
            "041c0ae2923c4bedb71021961023e56e",
            "91f961e002f349509f94b9896f55456b",
            "348dd15b1c6842b8ad6a69587f440eb8",
            "c8f62375bd924df3af745a5c2b53247c",
            "d6373f8b76fc4d8eb23ee7faaaddec4c",
            "a1f7519c977f4c7cac809c4d9435b72a",
            "c0538fca9fbe44d4afbc99d1082873d2",
            "efc21a131fc548ceb99b6046b5e1213d",
            "d973f56cd59f4329973c3dfb8b988af0",
            "f9a164ba944d4cbe955d5f602a37eb73",
            "cb7cc43b99bd4985ae20ee000df01636",
            "2d35db9c332f4c9ba75299487d6258e2",
            "8b0c6fe90b674b089e85e86597fca503",
            "3a7fe8a97b2447f780e27bcf63963f8e",
            "ebc7c3d4dca844ab92862b9fdc9cc37c",
            "72639c6e783645c999663fd58fb72dd5",
            "7c661b3a37b3411d96e3ee3c9e415ae1",
            "b0e1951ad9784188ba3a6908a63acf8c",
            "5cee45434ae5459fb2ae0fc3f7384495",
            "d72285e914df4e158a447d68690816f2",
            "5450b0cb6ce4416eb322c325505cce46",
            "9a1001e9eed6446895874fdd17b57ac6",
            "4e76a87567e2496bb914f6cbe2b6fe0b",
            "b5c86a2b7e08448facb0dcd44f88d3bf",
            "9cb32df31676460d9686ac45e930420f",
            "71f5d4176ce140f7937b01d1b52deaef",
            "6dec2df9a2564a72909e5afd258e3ae1",
            "f731716807ea44c687e1df6088c5077e",
            "e128e4f3cdb24fe3aa93789ff0d6228c",
            "c730aade1a6b40798aa4cdaa0eda73a7",
            "bb2d488bd9254ff99dc70685ce22200a",
            "40abbe828c264e32a1e42e2ec0f4cac3",
            "3db0628df8c94dd395c4958d2e40ad8e",
            "56dfe91a62984a429303ba683e481f16",
            "b5fd7040c116497c9091b942f94913d3",
            "5687749ea45941e3b0b0ef4bff71ac01",
            "553bc61d413f48ccaaff60bd20381335",
            "41ea907459ae4cd980a9ab3112d5437e",
            "bdb63f326a474971b2a181627540310f",
            "5903220da69d4c0a94de5555dc206e6d",
            "67be7a563e4e49fb8403f798d8eda336",
            "2a9fadabf16a433782f610900d609855",
            "5aa8a25f53584d588102c58eca4a4bd2",
            "fd2cf7b3507b4d999d6b21835595de1a",
            "1e15a940ec36438eb70c072fcad737c7",
            "ce5144ec327f4eb8bc8ebfe657c11019",
            "5f8a360fca4b4db78ebec8e2456ad277",
            "8b74a9a8e9854acb9cbd82659cec1177",
            "e94692c2d2c34954b298661bbd912ed6",
            "aaef3ca2e85e4ec78dc041a5f07382b4",
            "cb2fd84069e44003a4f10eff00a63449",
            "3b716adbb022417bb50f476fd4f198ce",
            "f25515cfe6ee4223b958249d7acd9fab",
            "08ee040730e94960bf5808af283ce190",
            "471767e4c37b4bce809f765419f2a008",
            "f2d15a57d3604f3c9def81cbfa2dd70e",
            "c67cced39a494af6a6059393103c42a4",
            "55dfda635e4d445f9be1776fdf996263",
            "a68b898cbb384577911e2d82d95ee774",
            "9a65ce5c7be34d55a296a9f036e07e16",
            "fb60300480be4a6aa4e3b13731272a24",
            "30c39e5572bf458097c30c188399f573",
            "393a7d94de6e4b31a80ff7cfe4fa8f99",
            "073608709b864d6e89e83b20023cbc9b",
            "49caf207d2b6450795c90442074810ba",
            "f8e8490cbfb94791a8b97e77d21407ec",
            "6501d523db6a4f8a958fdcae7cae2267",
            "e528239963a9464f906c377704f79660",
            "01524d2fd76448bd89d2aff0977617cc",
            "f57cc516547b419ab23c68d169b18d15",
            "ee4212183ab64b50b7ba63ef2d7a70ba",
            "d546f9d5b41e4517b46faff4ff50100d",
            "28ccba0377f34e128ef3b95f684d1fe2",
            "af14eaa5cc994a8899e855d88632e108",
            "64b240cfcf6248e9ba9769966cbafe65",
            "b1757c4075ed49c09dfddcda1eba75f5",
            "2cc4665c044f4ae780f9d93c9f2ddd41",
            "ac62fdfb4b20459595ba2a3379e7cf2e",
            "d907da155a9c48fba4b9cbe1358a025e",
            "0643040b62fd4f42a9b6509db1612190",
            "f7491f045c45463fb1a4af91a620bf0e",
            "44adf9cd11c442f5a52ec52d9c52fb8c",
            "e9357837fc8b4ef8bcc3fcec1bafa92e",
            "aa45c83a73764d3caf7f3c5bd60d02fa",
            "ec3c7ba747d448c59f0b2c507ef2ff19",
            "13f45bc8ec614639ab3a7478a7e4f9b9",
            "b9ffb63be93240529d9a229ca58bba38",
            "a922d7651fe6418fa7995a6b56800818",
            "0d4f52381ce4467c8cf56f35e86977d1",
            "fd690c331e644579990c5cbd63a3b41f",
            "d1645d79168a4218ba60a4e70da46cac",
            "525e3347357a444da6df6eeacd8d6fdc",
            "caad644052ea4370ae0f26879dba4bd0",
            "944ec08bf59d4078936400aa6e11ccb4",
            "de2d21fba82c4775ae25aa25cae25ad2",
            "0f7c57a290f841d099180495b06a7489",
            "809c220ef280412e8e528cda9e487696",
            "5137b8f5c5eb445eb87320f84eb74251",
            "f8c3e8ae64a14d02aa5b2cb3a5cb7abf",
            "ee6a7417fdb34a5ea704745e505dfc51",
            "65bec59e71134777815eec5320cac836",
            "7f44ab31d42943958ec464682250d6e1",
            "be9e4494735742729b25ced370102626",
            "f97647a20d29467296082cee48a37284",
            "1bca1f17c2b8441c82b9c7a9fd3a5f18",
            "8e3bf83cd7ca41b0bebb6b88a31c2b15",
            "3854b194470b4dd2befcfdf7b67874bd",
            "39b15a2b0b044b158dac6eca6b9d0257",
            "a94dfab007444fa8a9861c28b3342f32",
            "e34a085e76d54473aa8b594133679c87",
            "7bd9be88b7d94bae9eca975c48f600c5",
            "868688a947ac48e39d25e05d41d159ea",
            "f8c98fdc7ae248a1b7a64f118960883f",
            "829ea46b0ae348198109856f9901fda9",
            "d8e59fb3857e46aea41c1e20026b67f0",
            "1c5f7fdc913c4bbe93f6ad670fcce2bf",
            "67c67fb8a9694050930d503e3e452fd3",
            "f0a4ddb70602446cbbe93ddae729bc47",
            "3fa175dd60ac4db981ef925b7631e3ac",
            "7db760cd3dfd4eac980cda6fcb1ffb5f",
            "59fa0b2b0fbc45b7aca670d76645b23b",
            "0c7feb9133c94880a55ea6a928c50d06",
            "eacd92edd8a14576b7a35d3e6882db79",
            "f03e636d24de4eadba04b941e0a185e9",
            "5516e70a616744d087e2e734f25c3c47",
            "e6664224e9d04bb7b00d7c72fd891e91",
            "47eb10b43d9b489d9527a9978ca33dac",
            "7d5e5bf7c55241069e611b2d5c6f8e57",
            "1ccee26591ea487d8131551f6e39adba",
            "04eea1f443d541fd9873bbab61648380",
            "8ab8073868194bdeb6c70543f14c4aad",
            "f9a047a990004436b010239046c15c3a",
            "32fbf06410454fbcb8dea3aba4fec229",
            "7469c081e0304d1da8f0203f3a75bcf3",
            "0bee63e203fb452aa244dfedcd4370e5",
            "2457d8937818483fa0ed6f687c9a32ad",
            "15e2140453c24917afc0c314743e610e",
            "1ed8fcb9dde146c7a9520906d1d66b22",
            "ee0e372f03ea4366a4da5627e1fb8411",
            "615a99b4d84b499eb1ddde7f3499f89a",
            "4aafb5148627430b94540fafccd4c631",
            "b012c30646f44cacb01d9a60e663f9ef",
            "f7d9e9bb6d9945b5baf8d696ec1e416e",
            "1ee929c5d936441badb76ff293e8b993",
            "673e7ac3bbe741e0ade1b095f139a602",
            "6fdf44276712402e8315ba93949a2439",
            "1e1f524abc3646439f1018068df18f4c",
            "f6d66bec649d4feeb3f2392a74e26d74",
            "bbd5c37707ba48d0910db6d41a9ccb5d",
            "f0f1f86349854c878095eb0f5264ab72",
            "d0857b388bb3481eb6ec86b0fe4071e5",
            "2bd9d2d2d7b842b8ad21daa42481bcaa",
            "59158f32efb64906a77554731ae37854",
            "83987d7ddd354468b75a93af7da3b10f",
            "b7fa9efa67a44925ac701051378d0098",
            "47bd9eaae4e1409595a8990d7c9eeb6a",
            "3f265fb2efa7451cb05ea9b8794c4b59",
            "3e02c4ed48014dd8a7634cc411741c5a",
            "e5549b8cfc0a4d129ed895182429f25e",
            "dd026e6772f5429189f2da0977a0f865",
            "8265a23ad76940c2863fdb54af8798b2",
            "14b8516b3ce24d808a194db07993d715",
            "af586303d21f435e82a27a98703adbd8",
            "428c178674414015b58fc352722855a2",
            "0c284ab468c34dd39d0f83cc56eef59a",
            "164e35c161974224b38cb6dc4a7b8289",
            "caccf14693ae4f268e6904d9cacd8089",
            "387b2ec923454e5381f30df45b630d3d",
            "f19de92ee7934c3cb729a132d5e41af2",
            "87f9f81e9765409187d1a59b4d9d4007",
            "c530477d3be24168ade8cfd465b0a7bf",
            "89c56daba50e4e7ebea95255c6abc704",
            "587986eb7d05446cbb912aeca6f259a6",
            "92d2056651de4d0fbb0e09a01f743ac9",
            "c7bd38f0c5c144edb4296c2bd6a8a4a9",
            "80fa53f98e2c4e3baf21370e1398f246",
            "8617c6e2de6044af86fd284f71825d07",
            "0091c984479a4dd78daed749c49578ed",
            "8a7bc866bf314949aed4ed495671aaeb",
            "8abd1d49179246fd98251f2daefd8bb6",
            "961594714a0c4894b91909f7668c0cfb",
            "3b7a89ae771f4c5296f8afd76d848a76",
            "978a3d504269411da237818db232a828",
            "a4f0d61e62d04c9e8414f68f6bf9d49d",
            "e17e606a47574d2a9e9b547db432b1c7",
            "20f72d12e39d47babde1d72cfa3140bd",
            "a4ca4fff2603410bb799561fdde77291",
            "1f31d822e19048a8a704ffb8ccd7e906",
            "001ab3d5f9924012a9ed9d75ed421b51",
            "d08de5edfb194692a150174f5b17d28f",
            "be660eef95a441f687fecc5fcad97249",
            "b48e3b228a904fdb879ce16749328abb",
            "9f094c660b674f5a86381a43d8eda4b3",
            "dd0637957fac47f29a772aa5e0f49c19",
            "4f8a53a988a141be8360d21aef1549b9",
            "e314687a22194d9fa290147430cecd8e",
            "389f065cdff34f8cb56fc42b65c72325",
            "bb6f598e75fe49e7a1e44a5f8d02ad81",
            "651e76f6ef264be89992156c23f93cd3",
            "d8bc88597fff4717acee6008d5cf28d6",
            "7abeb1230b574e088d5d058add7b2e5c",
            "6642996093304d5a8737572f89a998ed",
            "2810646e9fa040ee8b4c0ea958b3fe11",
            "99c1d7b26c2f4a3aa8fc302a24a5e3cf",
            "a10948299db946b1b18973858b6af496",
            "da64c8a6f6234933a62f2cc9d4d73759",
            "6574afefca0c4c61b21c055daa61e8c4",
            "03f77e90b0c649499f780295c2e47f71",
            "b4de155bbb674bae9029437be5c83505",
            "85e2afb89757465eb321d114d37e20b8",
            "4c3fe53b2fd441ad8e312de8b8eac407",
            "787f2f40f0a949f887f63dc037cb4617",
            "8c9780d4cac24b81abb6876945ea2895",
            "1c729caaae5045fba457a6fe85851f0f",
            "c8c6870b6b744800b6dfb43af4dbe78d",
            "86add80f691447dfa611364a51e685f2",
            "b962e9a6622240a0a5b63a1bfb892783",
            "c5781918dc8b481b9a4157d7a6a256dc",
            "12cb6be77885490595df339737cf69b3",
            "09e67b2301914ce3be7d5735eeca1cab",
            "002d661ef3e346a5adcbd6306db2ccc0",
            "9ff17ac1b9094638b01d57bd5f744629",
            "a06f30c62ed94fe6946c4c267df2b244",
            "dd093a4e559e4ccab0d91a53310ca4ad",
            "0f01fe53b78c4b0085952ee79d0731ca",
            "7d135023edba475b9f400976624eba0f",
            "aebf17778ccc4836a6f94b7a7217b2a7",
            "ef42a1dcdb8a4efd8c9ee8092a45a466",
            "07ad7df358d64ac1a53cd9607336e4d9",
            "ee2f1895b9f04d12af9bfdeef7a44786",
            "49ecbd25d063405790fdd7f84b4879e4",
            "766dabc247f9424082910fd1b90cee40",
            "85ff78b2292d48659229e264e974df4f",
            "d3555df119784793a065faeb5c5e0f39",
            "7bdc5917ad0b443f942a59763acf642f",
            "a7d529d7b9994734998e6105ca9433dc",
            "f4b3c5c530d147d9957a99082991b8be",
            "242ef91dfcc24d45a7387b0154f254a8",
            "dc890e0f62d94e1cb9f0e99a8397a42b",
            "26c9c56ba0de4c1e8d4de45395618fb4",
            "98e63f8afee04706b1ff968039c04bc6",
            "18485115d80c4efd83a1eb42a3e7c2ed"
          ]
        },
        "id": "vkHxjmYjRW3E",
        "outputId": "4c8a09a1-c7c5-4756-a9b3-d9f624bec56b"
      },
      "outputs": [
        {
          "name": "stdout",
          "output_type": "stream",
          "text": [
            "Fetching summary fields: material_id, formula_pretty, elements, nelements, volume, density, energy_above_hull, band_gap, is_metal, total_magnetization, theoretical\n",
            "Fetching ALL electrodes fields (will filter later): material_id, battery_type, working_ion, average_voltage, capacity_grav, capacity_vol, energy_grav, energy_vol, num_steps, max_voltage_step, stability_charge, stability_discharge\n"
          ]
        },
        {
          "data": {
            "application/vnd.jupyter.widget-view+json": {
              "model_id": "6825a7b0ea154e29b022222ceb4cb21d",
              "version_major": 2,
              "version_minor": 0
            },
            "text/plain": [
              "Retrieving SummaryDoc documents:   0%|          | 0/19926 [00:00<?, ?it/s]"
            ]
          },
          "metadata": {},
          "output_type": "display_data"
        },
        {
          "data": {
            "application/vnd.jupyter.widget-view+json": {
              "model_id": "c4a3eee6aa80407988f5edcf51fbf3ed",
              "version_major": 2,
              "version_minor": 0
            },
            "text/plain": [
              "Retrieving InsertionElectrodeDoc documents:   0%|          | 0/2453 [00:00<?, ?it/s]"
            ]
          },
          "metadata": {},
          "output_type": "display_data"
        },
        {
          "name": "stdout",
          "output_type": "stream",
          "text": [
            "  Processing 'Na' (2/18)...\r"
          ]
        },
        {
          "data": {
            "application/vnd.jupyter.widget-view+json": {
              "model_id": "8bdaa775b06f4ad697d355663ff1824a",
              "version_major": 2,
              "version_minor": 0
            },
            "text/plain": [
              "Retrieving SummaryDoc documents:   0%|          | 0/11245 [00:00<?, ?it/s]"
            ]
          },
          "metadata": {},
          "output_type": "display_data"
        },
        {
          "data": {
            "application/vnd.jupyter.widget-view+json": {
              "model_id": "1d532fe7899d4f548159520e50dd4aaa",
              "version_major": 2,
              "version_minor": 0
            },
            "text/plain": [
              "Retrieving InsertionElectrodeDoc documents:   0%|          | 0/414 [00:00<?, ?it/s]"
            ]
          },
          "metadata": {},
          "output_type": "display_data"
        },
        {
          "name": "stdout",
          "output_type": "stream",
          "text": [
            "  Processing 'Mg' (3/18)...\r"
          ]
        },
        {
          "data": {
            "application/vnd.jupyter.widget-view+json": {
              "model_id": "5ebd56f294814b5eb239039296908fbf",
              "version_major": 2,
              "version_minor": 0
            },
            "text/plain": [
              "Retrieving SummaryDoc documents:   0%|          | 0/12529 [00:00<?, ?it/s]"
            ]
          },
          "metadata": {},
          "output_type": "display_data"
        },
        {
          "data": {
            "application/vnd.jupyter.widget-view+json": {
              "model_id": "c4d83e40c8ff462fbbb63b69c8111ccf",
              "version_major": 2,
              "version_minor": 0
            },
            "text/plain": [
              "Retrieving InsertionElectrodeDoc documents:   0%|          | 0/1507 [00:00<?, ?it/s]"
            ]
          },
          "metadata": {},
          "output_type": "display_data"
        },
        {
          "name": "stdout",
          "output_type": "stream",
          "text": [
            "  Processing 'Al' (4/18)...\r"
          ]
        },
        {
          "data": {
            "application/vnd.jupyter.widget-view+json": {
              "model_id": "1d1d2320999249eda55c66b29e2403b4",
              "version_major": 2,
              "version_minor": 0
            },
            "text/plain": [
              "Retrieving SummaryDoc documents:   0%|          | 0/6368 [00:00<?, ?it/s]"
            ]
          },
          "metadata": {},
          "output_type": "display_data"
        },
        {
          "data": {
            "application/vnd.jupyter.widget-view+json": {
              "model_id": "7bf7e48c3440440cb5cc7dacbca9e3b8",
              "version_major": 2,
              "version_minor": 0
            },
            "text/plain": [
              "Retrieving InsertionElectrodeDoc documents:   0%|          | 0/162 [00:00<?, ?it/s]"
            ]
          },
          "metadata": {},
          "output_type": "display_data"
        },
        {
          "name": "stdout",
          "output_type": "stream",
          "text": [
            "  Processing 'O' (5/18)...\r"
          ]
        },
        {
          "data": {
            "application/vnd.jupyter.widget-view+json": {
              "model_id": "77ce549e1cef4828a5f7977478eeb9e1",
              "version_major": 2,
              "version_minor": 0
            },
            "text/plain": [
              "Retrieving SummaryDoc documents:   0%|          | 0/66340 [00:00<?, ?it/s]"
            ]
          },
          "metadata": {},
          "output_type": "display_data"
        },
        {
          "data": {
            "application/vnd.jupyter.widget-view+json": {
              "model_id": "730c6e7c3f0c444c824d3372209ad9c6",
              "version_major": 2,
              "version_minor": 0
            },
            "text/plain": [
              "Retrieving InsertionElectrodeDoc documents:   0%|          | 0/4945 [00:00<?, ?it/s]"
            ]
          },
          "metadata": {},
          "output_type": "display_data"
        },
        {
          "name": "stdout",
          "output_type": "stream",
          "text": [
            "  Processing 'S' (6/18)...\r"
          ]
        },
        {
          "data": {
            "application/vnd.jupyter.widget-view+json": {
              "model_id": "224b8c3712ae47748ae11e868fb15bd5",
              "version_major": 2,
              "version_minor": 0
            },
            "text/plain": [
              "Retrieving SummaryDoc documents:   0%|          | 0/12487 [00:00<?, ?it/s]"
            ]
          },
          "metadata": {},
          "output_type": "display_data"
        },
        {
          "data": {
            "application/vnd.jupyter.widget-view+json": {
              "model_id": "8fee13dd3fb34f60b29a86f780791394",
              "version_major": 2,
              "version_minor": 0
            },
            "text/plain": [
              "Retrieving InsertionElectrodeDoc documents:   0%|          | 0/294 [00:00<?, ?it/s]"
            ]
          },
          "metadata": {},
          "output_type": "display_data"
        },
        {
          "name": "stdout",
          "output_type": "stream",
          "text": [
            "  Processing 'P' (7/18)...\r"
          ]
        },
        {
          "data": {
            "application/vnd.jupyter.widget-view+json": {
              "model_id": "0bf442e9185140ebb0827d9b4c5ecbda",
              "version_major": 2,
              "version_minor": 0
            },
            "text/plain": [
              "Retrieving SummaryDoc documents:   0%|          | 0/15274 [00:00<?, ?it/s]"
            ]
          },
          "metadata": {},
          "output_type": "display_data"
        },
        {
          "data": {
            "application/vnd.jupyter.widget-view+json": {
              "model_id": "8d00df78ffc140dfad7008221f38b2de",
              "version_major": 2,
              "version_minor": 0
            },
            "text/plain": [
              "Retrieving InsertionElectrodeDoc documents:   0%|          | 0/1395 [00:00<?, ?it/s]"
            ]
          },
          "metadata": {},
          "output_type": "display_data"
        },
        {
          "name": "stdout",
          "output_type": "stream",
          "text": [
            "  Processing 'F' (8/18)...\r"
          ]
        },
        {
          "data": {
            "application/vnd.jupyter.widget-view+json": {
              "model_id": "041c0ae2923c4bedb71021961023e56e",
              "version_major": 2,
              "version_minor": 0
            },
            "text/plain": [
              "Retrieving SummaryDoc documents:   0%|          | 0/10140 [00:00<?, ?it/s]"
            ]
          },
          "metadata": {},
          "output_type": "display_data"
        },
        {
          "data": {
            "application/vnd.jupyter.widget-view+json": {
              "model_id": "2d35db9c332f4c9ba75299487d6258e2",
              "version_major": 2,
              "version_minor": 0
            },
            "text/plain": [
              "Retrieving InsertionElectrodeDoc documents:   0%|          | 0/555 [00:00<?, ?it/s]"
            ]
          },
          "metadata": {},
          "output_type": "display_data"
        },
        {
          "name": "stdout",
          "output_type": "stream",
          "text": [
            "  Processing 'Cl' (9/18)...\r"
          ]
        },
        {
          "data": {
            "application/vnd.jupyter.widget-view+json": {
              "model_id": "4e76a87567e2496bb914f6cbe2b6fe0b",
              "version_major": 2,
              "version_minor": 0
            },
            "text/plain": [
              "Retrieving SummaryDoc documents:   0%|          | 0/4888 [00:00<?, ?it/s]"
            ]
          },
          "metadata": {},
          "output_type": "display_data"
        },
        {
          "data": {
            "application/vnd.jupyter.widget-view+json": {
              "model_id": "56dfe91a62984a429303ba683e481f16",
              "version_major": 2,
              "version_minor": 0
            },
            "text/plain": [
              "Retrieving InsertionElectrodeDoc documents:   0%|          | 0/81 [00:00<?, ?it/s]"
            ]
          },
          "metadata": {},
          "output_type": "display_data"
        },
        {
          "name": "stdout",
          "output_type": "stream",
          "text": [
            "  Processing 'Co' (10/18)...\r"
          ]
        },
        {
          "data": {
            "application/vnd.jupyter.widget-view+json": {
              "model_id": "1e15a940ec36438eb70c072fcad737c7",
              "version_major": 2,
              "version_minor": 0
            },
            "text/plain": [
              "Retrieving SummaryDoc documents:   0%|          | 0/9303 [00:00<?, ?it/s]"
            ]
          },
          "metadata": {},
          "output_type": "display_data"
        },
        {
          "data": {
            "application/vnd.jupyter.widget-view+json": {
              "model_id": "f2d15a57d3604f3c9def81cbfa2dd70e",
              "version_major": 2,
              "version_minor": 0
            },
            "text/plain": [
              "Retrieving InsertionElectrodeDoc documents:   0%|          | 0/614 [00:00<?, ?it/s]"
            ]
          },
          "metadata": {},
          "output_type": "display_data"
        },
        {
          "name": "stdout",
          "output_type": "stream",
          "text": [
            "  Processing 'Ni' (11/18)...\r"
          ]
        },
        {
          "data": {
            "application/vnd.jupyter.widget-view+json": {
              "model_id": "6501d523db6a4f8a958fdcae7cae2267",
              "version_major": 2,
              "version_minor": 0
            },
            "text/plain": [
              "Retrieving SummaryDoc documents:   0%|          | 0/7023 [00:00<?, ?it/s]"
            ]
          },
          "metadata": {},
          "output_type": "display_data"
        },
        {
          "data": {
            "application/vnd.jupyter.widget-view+json": {
              "model_id": "ac62fdfb4b20459595ba2a3379e7cf2e",
              "version_major": 2,
              "version_minor": 0
            },
            "text/plain": [
              "Retrieving InsertionElectrodeDoc documents:   0%|          | 0/490 [00:00<?, ?it/s]"
            ]
          },
          "metadata": {},
          "output_type": "display_data"
        },
        {
          "name": "stdout",
          "output_type": "stream",
          "text": [
            "  Processing 'Mn' (12/18)...\r"
          ]
        },
        {
          "data": {
            "application/vnd.jupyter.widget-view+json": {
              "model_id": "0d4f52381ce4467c8cf56f35e86977d1",
              "version_major": 2,
              "version_minor": 0
            },
            "text/plain": [
              "Retrieving SummaryDoc documents:   0%|          | 0/12212 [00:00<?, ?it/s]"
            ]
          },
          "metadata": {},
          "output_type": "display_data"
        },
        {
          "data": {
            "application/vnd.jupyter.widget-view+json": {
              "model_id": "ee6a7417fdb34a5ea704745e505dfc51",
              "version_major": 2,
              "version_minor": 0
            },
            "text/plain": [
              "Retrieving InsertionElectrodeDoc documents:   0%|          | 0/982 [00:00<?, ?it/s]"
            ]
          },
          "metadata": {},
          "output_type": "display_data"
        },
        {
          "name": "stdout",
          "output_type": "stream",
          "text": [
            "  Processing 'Fe' (13/18)...\r"
          ]
        },
        {
          "data": {
            "application/vnd.jupyter.widget-view+json": {
              "model_id": "7bd9be88b7d94bae9eca975c48f600c5",
              "version_major": 2,
              "version_minor": 0
            },
            "text/plain": [
              "Retrieving SummaryDoc documents:   0%|          | 0/10653 [00:00<?, ?it/s]"
            ]
          },
          "metadata": {},
          "output_type": "display_data"
        },
        {
          "data": {
            "application/vnd.jupyter.widget-view+json": {
              "model_id": "0c7feb9133c94880a55ea6a928c50d06",
              "version_major": 2,
              "version_minor": 0
            },
            "text/plain": [
              "Retrieving InsertionElectrodeDoc documents:   0%|          | 0/910 [00:00<?, ?it/s]"
            ]
          },
          "metadata": {},
          "output_type": "display_data"
        },
        {
          "name": "stdout",
          "output_type": "stream",
          "text": [
            "  Processing 'Cu' (14/18)...\r"
          ]
        },
        {
          "data": {
            "application/vnd.jupyter.widget-view+json": {
              "model_id": "32fbf06410454fbcb8dea3aba4fec229",
              "version_major": 2,
              "version_minor": 0
            },
            "text/plain": [
              "Retrieving SummaryDoc documents:   0%|          | 0/8067 [00:00<?, ?it/s]"
            ]
          },
          "metadata": {},
          "output_type": "display_data"
        },
        {
          "data": {
            "application/vnd.jupyter.widget-view+json": {
              "model_id": "1ee929c5d936441badb76ff293e8b993",
              "version_major": 2,
              "version_minor": 0
            },
            "text/plain": [
              "Retrieving InsertionElectrodeDoc documents:   0%|          | 0/502 [00:00<?, ?it/s]"
            ]
          },
          "metadata": {},
          "output_type": "display_data"
        },
        {
          "name": "stdout",
          "output_type": "stream",
          "text": [
            "  Processing 'Zn' (15/18)...\r"
          ]
        },
        {
          "data": {
            "application/vnd.jupyter.widget-view+json": {
              "model_id": "b7fa9efa67a44925ac701051378d0098",
              "version_major": 2,
              "version_minor": 0
            },
            "text/plain": [
              "Retrieving SummaryDoc documents:   0%|          | 0/5517 [00:00<?, ?it/s]"
            ]
          },
          "metadata": {},
          "output_type": "display_data"
        },
        {
          "data": {
            "application/vnd.jupyter.widget-view+json": {
              "model_id": "164e35c161974224b38cb6dc4a7b8289",
              "version_major": 2,
              "version_minor": 0
            },
            "text/plain": [
              "Retrieving InsertionElectrodeDoc documents:   0%|          | 0/458 [00:00<?, ?it/s]"
            ]
          },
          "metadata": {},
          "output_type": "display_data"
        },
        {
          "name": "stdout",
          "output_type": "stream",
          "text": [
            "  Processing 'Si' (16/18)...\r"
          ]
        },
        {
          "data": {
            "application/vnd.jupyter.widget-view+json": {
              "model_id": "8617c6e2de6044af86fd284f71825d07",
              "version_major": 2,
              "version_minor": 0
            },
            "text/plain": [
              "Retrieving SummaryDoc documents:   0%|          | 0/10574 [00:00<?, ?it/s]"
            ]
          },
          "metadata": {},
          "output_type": "display_data"
        },
        {
          "data": {
            "application/vnd.jupyter.widget-view+json": {
              "model_id": "1f31d822e19048a8a704ffb8ccd7e906",
              "version_major": 2,
              "version_minor": 0
            },
            "text/plain": [
              "Retrieving InsertionElectrodeDoc documents:   0%|          | 0/260 [00:00<?, ?it/s]"
            ]
          },
          "metadata": {},
          "output_type": "display_data"
        },
        {
          "name": "stdout",
          "output_type": "stream",
          "text": [
            "  Processing 'Ge' (17/18)...\r"
          ]
        },
        {
          "data": {
            "application/vnd.jupyter.widget-view+json": {
              "model_id": "651e76f6ef264be89992156c23f93cd3",
              "version_major": 2,
              "version_minor": 0
            },
            "text/plain": [
              "Retrieving SummaryDoc documents:   0%|          | 0/4811 [00:00<?, ?it/s]"
            ]
          },
          "metadata": {},
          "output_type": "display_data"
        },
        {
          "data": {
            "application/vnd.jupyter.widget-view+json": {
              "model_id": "85e2afb89757465eb321d114d37e20b8",
              "version_major": 2,
              "version_minor": 0
            },
            "text/plain": [
              "Retrieving InsertionElectrodeDoc documents:   0%|          | 0/72 [00:00<?, ?it/s]"
            ]
          },
          "metadata": {},
          "output_type": "display_data"
        },
        {
          "name": "stdout",
          "output_type": "stream",
          "text": [
            "  Processing 'C' (18/18)...\r"
          ]
        },
        {
          "data": {
            "application/vnd.jupyter.widget-view+json": {
              "model_id": "002d661ef3e346a5adcbd6306db2ccc0",
              "version_major": 2,
              "version_minor": 0
            },
            "text/plain": [
              "Retrieving SummaryDoc documents:   0%|          | 0/5730 [00:00<?, ?it/s]"
            ]
          },
          "metadata": {},
          "output_type": "display_data"
        },
        {
          "data": {
            "application/vnd.jupyter.widget-view+json": {
              "model_id": "766dabc247f9424082910fd1b90cee40",
              "version_major": 2,
              "version_minor": 0
            },
            "text/plain": [
              "Retrieving InsertionElectrodeDoc documents:   0%|          | 0/244 [00:00<?, ?it/s]"
            ]
          },
          "metadata": {},
          "output_type": "display_data"
        },
        {
          "name": "stdout",
          "output_type": "stream",
          "text": [
            "\n",
            "Finished raw data retrieval. Total summary entries: 233087, Total electrodes entries: 16338\n"
          ]
        }
      ],
      "source": [
        "all_summary_docs = []\n",
        "all_electrodes_docs = []\n",
        "\n",
        "print(f\"Fetching summary fields: {', '.join(summary_fields_to_fetch)}\")\n",
        "print(f\"Fetching ALL electrodes fields (will filter later): {', '.join(desired_electrodes_fields)}\")\n",
        "\n",
        "try:\n",
        "    with MPRester(MP_API_KEY) as m:\n",
        "        for i, element in enumerate(all_battery_elements):\n",
        "            print(f\"  Processing '{element}' ({i+1}/{len(all_battery_elements)})...\", end='\\r')\n",
        "\n",
        "            # Fetch summary data\n",
        "            summary_data = fetch_summary_data(m, element, summary_fields_to_fetch)\n",
        "            all_summary_docs.extend(summary_data)\n",
        "\n",
        "            # Fetch electrodes data (without specifying fields)\n",
        "            electrodes_data = fetch_electrodes_data(m, element) # CRITICAL FIX: No fields parameter here\n",
        "            all_electrodes_docs.extend(electrodes_data)\n",
        "\n",
        "    print(f\"\\nFinished raw data retrieval. Total summary entries: {len(all_summary_docs)}, Total electrodes entries: {len(all_electrodes_docs)}\")\n",
        "\n",
        "except Exception as e:\n",
        "    print(f\"\\n--- CRITICAL ERROR during Data Retrieval ---\")\n",
        "    print(f\"Error details: {e}\")\n",
        "    print(\"Please check API key, network, and query parameters.\")\n",
        "    sys.exit(\"Exiting: Data retrieval failed.\")"
      ]
    },
    {
      "cell_type": "markdown",
      "metadata": {
        "id": "8UUzLtDsykSp"
      },
      "source": [
        "## Save and Load point"
      ]
    },
    {
      "cell_type": "code",
      "execution_count": null,
      "metadata": {
        "colab": {
          "base_uri": "https://localhost:8080/"
        },
        "id": "WBk0yTlWympW",
        "outputId": "09f0826a-6812-495f-b5c1-a347d4312d8f"
      },
      "outputs": [
        {
          "name": "stdout",
          "output_type": "stream",
          "text": [
            "Saving fetched data to '/content/drive/MyDrive/Colab Notebooks/Masters Research Project/Data/all_summary_docs.pkl' and '/content/drive/MyDrive/Colab Notebooks/Masters Research Project/Data/all_electrodes_docs.pkl'...\n",
            "Data saved successfully.\n"
          ]
        }
      ],
      "source": [
        "summary_data_filepath = os.path.join(data_folder_path, \"all_summary_docs.pkl\")\n",
        "electrodes_data_filepath = os.path.join(data_folder_path, \"all_electrodes_docs.pkl\")\n",
        "\n",
        "print(f\"Saving fetched data to '{summary_data_filepath}' and '{electrodes_data_filepath}'...\")\n",
        "try:\n",
        "    with open(summary_data_filepath, 'wb') as f:\n",
        "        pickle.dump(all_summary_docs, f)\n",
        "    with open(electrodes_data_filepath, 'wb') as f:\n",
        "        pickle.dump(all_electrodes_docs, f)\n",
        "    print(\"Data saved successfully.\")\n",
        "except Exception as e:\n",
        "    print(f\"Error saving data: {e}\")"
      ]
    },
    {
      "cell_type": "markdown",
      "metadata": {
        "id": "PX_6KZcdzjtI"
      },
      "source": [
        "## load data from here"
      ]
    },
    {
      "cell_type": "code",
      "execution_count": null,
      "metadata": {
        "colab": {
          "base_uri": "https://localhost:8080/"
        },
        "id": "BM2zeCGjy8WX",
        "outputId": "0a56b9fc-815b-42d5-b4c7-6422534396da"
      },
      "outputs": [
        {
          "name": "stdout",
          "output_type": "stream",
          "text": [
            "Loading data from '/content/drive/MyDrive/Colab Notebooks/Masters Research Project/Data/all_summary_docs.pkl' and '/content/drive/MyDrive/Colab Notebooks/Masters Research Project/Data/all_electrodes_docs.pkl'...\n",
            "Data loaded successfully. Total summary entries: 233087, Total electrodes entries: 16338\n"
          ]
        }
      ],
      "source": [
        "all_summary_docs = [] # Initialize as empty lists\n",
        "all_electrodes_docs = [] # Initialize as empty lists\n",
        "\n",
        "summary_data_filepath = os.path.join(data_folder_path, \"all_summary_docs.pkl\")\n",
        "electrodes_data_filepath = os.path.join(data_folder_path, \"all_electrodes_docs.pkl\")\n",
        "\n",
        "if os.path.exists(summary_data_filepath) and os.path.exists(electrodes_data_filepath):\n",
        "    print(f\"Loading data from '{summary_data_filepath}' and '{electrodes_data_filepath}'...\")\n",
        "    try:\n",
        "        with open(summary_data_filepath, 'rb') as f:\n",
        "            all_summary_docs = pickle.load(f)\n",
        "        with open(electrodes_data_filepath, 'rb') as f:\n",
        "            all_electrodes_docs = pickle.load(f)\n",
        "        print(f\"Data loaded successfully. Total summary entries: {len(all_summary_docs)}, Total electrodes entries: {len(all_electrodes_docs)}\")\n",
        "    except Exception as e:\n",
        "        print(f\"Error loading saved data: {e}. Will proceed without loaded data.\")\n",
        "        all_summary_docs = [] # Reset to empty lists if loading fails\n",
        "        all_electrodes_docs = []\n",
        "else:\n",
        "    print(\"Saved data files not found. Data lists are empty.\")"
      ]
    },
    {
      "cell_type": "markdown",
      "metadata": {
        "id": "27EiuE5eV6qc"
      },
      "source": [
        "## Process, Filter, and Combine Raw Data"
      ]
    },
    {
      "cell_type": "code",
      "execution_count": null,
      "metadata": {
        "colab": {
          "base_uri": "https://localhost:8080/"
        },
        "id": "09zqn5YMfGuD",
        "outputId": "45fee006-5820-4906-9e4d-98f8da97a9e5"
      },
      "outputs": [
        {
          "name": "stdout",
          "output_type": "stream",
          "text": [
            "Initial summary DataFrame has 233087 rows.\n"
          ]
        }
      ],
      "source": [
        "# Process Raw Summary Data\n",
        "\n",
        "if not all_summary_docs:\n",
        "    print(\"WARNING: 'all_summary_docs' is empty. Summary DataFrame will be empty.\")\n",
        "    df_summary = pd.DataFrame()\n",
        "else:\n",
        "    df_summary = pd.DataFrame(all_summary_docs)\n",
        "print(f\"Initial summary DataFrame has {len(df_summary)} rows.\")\n",
        "\n",
        "if not df_summary.empty:\n",
        "    # More explicit cleaning for material_id to ensure uniqueness before dropping duplicates\n",
        "    df_summary['material_id'] = df_summary['material_id'].apply(lambda x: str(x).strip() if pd.notna(x) else np.nan)\n",
        "    df_summary.dropna(subset=['material_id'], inplace=True) # Drop rows where material_id became NaN after cleaning\n",
        "\n",
        "    # Keep all desired summary columns here, before the merge\n",
        "    summary_cols_to_keep = [\n",
        "        'material_id', 'energy_above_hull', 'elements', 'density',\n",
        "        'formula_pretty', 'nelements', 'volume', 'band_gap', 'is_metal',\n",
        "        'total_magnetization', 'theoretical'\n",
        "    ]\n",
        "    df_summary_processed = df_summary[[col for col in summary_cols_to_keep if col in df_summary.columns]].copy()\n",
        "\n",
        "    # Deduplicate summary data. If a material_id appears multiple times in raw summary (e.g. from multiple element searches), keep one.\n",
        "    df_summary_unique = df_summary_processed.drop_duplicates(subset=['material_id']).copy()\n",
        "\n",
        "else:\n",
        "    df_summary_unique = df_summary.copy() # Remains empty if df_summary was empty\n"
      ]
    },
    {
      "cell_type": "code",
      "execution_count": null,
      "metadata": {
        "colab": {
          "base_uri": "https://localhost:8080/"
        },
        "id": "w-ch91Jdz60I",
        "outputId": "85316837-d77e-4ad0-85b5-e0283c34e42d"
      },
      "outputs": [
        {
          "name": "stdout",
          "output_type": "stream",
          "text": [
            "Summary data after initial processing and deduplication: 108699 rows.\n",
            "Number of UNIQUE material_ids in df_summary_unique: 108699 (Total rows: 108699)\n"
          ]
        }
      ],
      "source": [
        "# Check summary data post-deduplication\n",
        "\n",
        "print(f\"Summary data after initial processing and deduplication: {len(df_summary_unique)} rows.\")\n",
        "print(f\"Number of UNIQUE material_ids in df_summary_unique: {df_summary_unique['material_id'].nunique()} (Total rows: {len(df_summary_unique)})\")\n",
        "# Assert to double check - this will raise an error if not unique\n",
        "if not df_summary_unique.empty:\n",
        "    assert len(df_summary_unique) == df_summary_unique['material_id'].nunique(), \"df_summary_unique still has duplicate material_ids after drop_duplicates!\"\n"
      ]
    },
    {
      "cell_type": "code",
      "execution_count": null,
      "metadata": {
        "colab": {
          "base_uri": "https://localhost:8080/"
        },
        "id": "lWFnKgctz_9_PY",
        "outputId": "c486bec6-0f9d-488e-d847-06af19fbf9ff"
      },
      "outputs": [
        {
          "name": "stdout",
          "output_type": "stream",
          "text": [
            "Initial electrodes DataFrame has 16338 rows.\n"
          ]
        }
      ],
      "source": [
        "# Process Raw Electrodes Data\n",
        "\n",
        "if not all_electrodes_docs:\n",
        "    print(\"WARNING: 'all_electrodes_docs' is empty. Electrodes DataFrame will be empty.\")\n",
        "    df_electrodes = pd.DataFrame()\n",
        "else:\n",
        "    df_electrodes = pd.DataFrame(all_electrodes_docs)\n",
        "print(f\"Initial electrodes DataFrame has {len(df_electrodes)} rows.\")\n",
        "\n",
        "if not df_electrodes.empty:\n",
        "    # More concise function to extract a clean material_id for linking\n",
        "    def get_clean_material_id(row):\n",
        "        if 'adj_pairs' in row and isinstance(row['adj_pairs'], list) and len(row['adj_pairs']) > 0:\n",
        "            pair = row['adj_pairs'][0]\n",
        "            material_id_candidate = pair.get('id_charge') or pair.get('id_discharge')\n",
        "        elif 'material_id' in row and row['material_id']:\n",
        "            material_id_candidate = row['material_id']\n",
        "        elif 'material_ids' in row and isinstance(row['material_ids'], list) and len(row['material_ids']) > 0:\n",
        "            material_id_candidate = row['material_ids'][0]\n",
        "        else:\n",
        "            return None\n",
        "\n",
        "        if material_id_candidate and isinstance(material_id_candidate, str) and (material_id_candidate.startswith('mp-') or material_id_candidate.startswith('mvc-')):\n",
        "            return material_id_candidate.strip() # Apply strip here\n",
        "        return None\n",
        "\n",
        "    df_electrodes['material_id'] = df_electrodes.apply(get_clean_material_id, axis=1)\n",
        "\n",
        "    # Select desired columns and drop rows with missing material_id, then drop duplicates\n",
        "    electrode_columns_to_keep = [\n",
        "        \"material_id\", \"battery_type\", \"working_ion\", \"average_voltage\",\n",
        "        \"capacity_grav\", \"capacity_vol\", \"energy_grav\", \"energy_vol\",\n",
        "        \"num_steps\", \"max_voltage_step\", \"stability_charge\", \"stability_discharge\"\n",
        "    ]\n",
        "    # Chain operations for conciseness\n",
        "    df_electrodes_unique = df_electrodes[electrode_columns_to_keep].dropna(\n",
        "        subset=['material_id']\n",
        "    ).drop_duplicates(\n",
        "        subset=['material_id']\n",
        "    ).copy()\n",
        "\n",
        "\n",
        "else:\n",
        "    df_electrodes_unique = pd.DataFrame()"
      ]
    },
    {
      "cell_type": "code",
      "execution_count": null,
      "metadata": {
        "colab": {
          "base_uri": "https://localhost:8080/"
        },
        "id": "AydC1mV_0F9X",
        "outputId": "ba0ea05a-2ce2-45cc-feb0-73e7a272586f"
      },
      "outputs": [
        {
          "name": "stdout",
          "output_type": "stream",
          "text": [
            "Processed electrodes data (cleaned, selected fields, unique material IDs): 4213 rows.\n",
            "Number of UNIQUE material_ids in df_electrodes_unique: 4213 (Total rows: 4213)\n"
          ]
        }
      ],
      "source": [
        "# DIAGNOSTIC PRINT: Check electrodes data post-deduplication\n",
        "\n",
        "print(f\"Processed electrodes data (cleaned, selected fields, unique material IDs): {len(df_electrodes_unique)} rows.\")\n",
        "print(f\"Number of UNIQUE material_ids in df_electrodes_unique: {df_electrodes_unique['material_id'].nunique()} (Total rows: {len(df_electrodes_unique)})\")\n",
        "if not df_electrodes_unique.empty:\n",
        "    assert len(df_electrodes_unique) == df_electrodes_unique['material_id'].nunique(), \"df_electrodes_unique still has duplicate material_ids after drop_duplicates!\"\n"
      ]
    },
    {
      "cell_type": "code",
      "execution_count": null,
      "metadata": {
        "colab": {
          "base_uri": "https://localhost:8080/"
        },
        "id": "zjPBu3F00MDo",
        "outputId": "442021a8-924c-45ef-cdeb-d1077fa5061f"
      },
      "outputs": [
        {
          "name": "stdout",
          "output_type": "stream",
          "text": [
            "Post-Final-Strip Check: df_electrodes_unique has 4213 unique material_ids out of 4213 rows.\n",
            "Post-Final-Strip Check: df_summary_unique has 108699 unique material_ids out of 108699 rows.\n"
          ]
        }
      ],
      "source": [
        "# Merge the Processed Summary Data and Processed Electrodes Data using OUTER merge\n",
        "\n",
        "# FINAL CHECK AND STANDARDIZATION OF material_id JUST BEFORE MERGE (redundant but safe)\n",
        "if not df_electrodes_unique.empty:\n",
        "    df_electrodes_unique['material_id'] = df_electrodes_unique['material_id'].apply(lambda x: str(x).strip())\n",
        "if not df_summary_unique.empty:\n",
        "    df_summary_unique['material_id'] = df_summary_unique['material_id'].apply(lambda x: str(x).strip())\n",
        "\n",
        "# Re-verify uniqueness after final strip, just in case\n",
        "print(f\"Post-Final-Strip Check: df_electrodes_unique has {df_electrodes_unique['material_id'].nunique()} unique material_ids out of {len(df_electrodes_unique)} rows.\")\n",
        "print(f\"Post-Final-Strip Check: df_summary_unique has {df_summary_unique['material_id'].nunique()} unique material_ids out of {len(df_summary_unique)} rows.\")\n"
      ]
    },
    {
      "cell_type": "code",
      "execution_count": null,
      "metadata": {
        "colab": {
          "base_uri": "https://localhost:8080/"
        },
        "id": "RWPqQHsn0VSp",
        "outputId": "5d8dca25-996f-43a0-eceb-e248dc82c719"
      },
      "outputs": [
        {
          "name": "stdout",
          "output_type": "stream",
          "text": [
            "Combined data after OUTER merge: 109203 rows.\n",
            "Combined data after OUTER merge and final material_id deduplication: 109203 rows.\n",
            "Filtered for completeness of electrode data (e.g., 'battery_type' not null): 4213 rows retained (from 109203 rows).\n",
            "This should be close to the original count of electrode data (4213 rows).\n"
          ]
        }
      ],
      "source": [
        "if not df_electrodes_unique.empty or not df_summary_unique.empty:\n",
        "    df_combined = pd.merge(\n",
        "        df_summary_unique, # Use the already unique summary data\n",
        "        df_electrodes_unique, # Use the already unique electrodes data\n",
        "        on='material_id',\n",
        "        how='outer', # Keep all materials from both datasets\n",
        "        suffixes=('_summary', '_electrode') # Differentiate columns if names overlap\n",
        "    )\n",
        "    print(f\"Combined data after OUTER merge: {len(df_combined)} rows.\")\n",
        "\n",
        "    df_combined = df_combined.drop_duplicates(subset=['material_id']).copy()\n",
        "    print(f\"Combined data after OUTER merge and final material_id deduplication: {len(df_combined)} rows.\")\n",
        "\n",
        "    if 'battery_type' in df_combined.columns:\n",
        "        initial_rows_before_completeness_filter = len(df_combined)\n",
        "        df_final_data_filtered_hosts = df_combined[df_combined['battery_type'].notna()].copy()\n",
        "        print(f\"Filtered for completeness of electrode data (e.g., 'battery_type' not null): {len(df_final_data_filtered_hosts)} rows retained (from {initial_rows_before_completeness_filter} rows).\")\n",
        "        print(f\"This should be close to the original count of electrode data ({len(df_electrodes_unique)} rows).\")\n",
        "    else:\n",
        "        print(\"WARNING: 'battery_type' column not found in df_combined. Cannot filter for completeness of electrode data.\")\n",
        "        df_final_data_filtered_hosts = df_combined.copy() # If battery_type not found, just use df_combined\n",
        "\n",
        "else:\n",
        "    print(\"Both input DataFrames for merging are empty. Skipping merge.\")\n",
        "    df_final_data_filtered_hosts = pd.DataFrame()"
      ]
    },
    {
      "cell_type": "code",
      "execution_count": null,
      "metadata": {
        "colab": {
          "base_uri": "https://localhost:8080/"
        },
        "id": "R6RFYPVc5Hz8",
        "outputId": "33b20ee4-38fb-4417-868d-5d8a174fb437"
      },
      "outputs": [
        {
          "name": "stdout",
          "output_type": "stream",
          "text": [
            "\n",
            "--- Inspection of df_final_data_filtered_hosts after merge, deduplication, and completeness filter ---\n",
            "Shape of df_final_data_filtered_hosts: (4213, 22)\n",
            "Columns in df_final_data_filtered_hosts: ['material_id', 'energy_above_hull', 'elements', 'density', 'formula_pretty', 'nelements', 'volume', 'band_gap', 'is_metal', 'total_magnetization', 'theoretical', 'battery_type', 'working_ion', 'average_voltage', 'capacity_grav', 'capacity_vol', 'energy_grav', 'energy_vol', 'num_steps', 'max_voltage_step', 'stability_charge', 'stability_discharge']\n",
            "\n",
            "Info on df_final_data_filtered_hosts (including non-null counts and dtypes):\n",
            "<class 'pandas.core.frame.DataFrame'>\n",
            "Index: 4213 entries, 34 to 109199\n",
            "Data columns (total 22 columns):\n",
            " #   Column               Non-Null Count  Dtype  \n",
            "---  ------               --------------  -----  \n",
            " 0   material_id          4213 non-null   object \n",
            " 1   energy_above_hull    3709 non-null   float64\n",
            " 2   elements             3709 non-null   object \n",
            " 3   density              3709 non-null   float64\n",
            " 4   formula_pretty       3709 non-null   object \n",
            " 5   nelements            3709 non-null   float64\n",
            " 6   volume               3709 non-null   float64\n",
            " 7   band_gap             3709 non-null   float64\n",
            " 8   is_metal             3709 non-null   object \n",
            " 9   total_magnetization  3709 non-null   float64\n",
            " 10  theoretical          3709 non-null   object \n",
            " 11  battery_type         4213 non-null   object \n",
            " 12  working_ion          4213 non-null   object \n",
            " 13  average_voltage      4213 non-null   float64\n",
            " 14  capacity_grav        4213 non-null   float64\n",
            " 15  capacity_vol         4213 non-null   float64\n",
            " 16  energy_grav          4213 non-null   float64\n",
            " 17  energy_vol           4213 non-null   float64\n",
            " 18  num_steps            4213 non-null   float64\n",
            " 19  max_voltage_step     4213 non-null   float64\n",
            " 20  stability_charge     4213 non-null   float64\n",
            " 21  stability_discharge  4213 non-null   float64\n",
            "dtypes: float64(15), object(7)\n",
            "memory usage: 757.0+ KB\n",
            "\n",
            "Number of nulls in 'elements': 504 out of 4213 rows.\n",
            "First 10 rows of df_final_data_filtered_hosts (material_id, elements):\n",
            "| material_id   | elements                      |\n",
            "|:--------------|:------------------------------|\n",
            "| mp-1001833    | nan                           |\n",
            "| mp-1001925    | nan                           |\n",
            "| mp-1002219    | nan                           |\n",
            "| mp-1002227    | nan                           |\n",
            "| mp-1002568    | ['Mg', 'Mn', 'O']             |\n",
            "| mp-10033      | ['Nb', 'S']                   |\n",
            "| mp-1003637    | ['Li', 'Mn', 'O']             |\n",
            "| mp-1003854    | ['K', 'Mn', 'O']              |\n",
            "| mp-1004375    | ['Mg', 'Mn', 'O']             |\n",
            "| mp-10062      | ['Ba', 'Cu', 'Nb', 'Nd', 'O'] |\n"
          ]
        }
      ],
      "source": [
        "# Inspection of df_final_data_filtered_hosts after merge, deduplication, and completeness filter\n",
        "\n",
        "print(\"\\n--- Inspection of df_final_data_filtered_hosts after merge, deduplication, and completeness filter ---\")\n",
        "print(f\"Shape of df_final_data_filtered_hosts: {df_final_data_filtered_hosts.shape}\")\n",
        "print(f\"Columns in df_final_data_filtered_hosts: {df_final_data_filtered_hosts.columns.tolist()}\")\n",
        "print(\"\\nInfo on df_final_data_filtered_hosts (including non-null counts and dtypes):\")\n",
        "df_final_data_filtered_hosts.info(verbose=True, show_counts=True) # show_counts will display non-nulls\n",
        "\n",
        "if 'elements' in df_final_data_filtered_hosts.columns:\n",
        "    print(f\"\\nNumber of nulls in 'elements': {df_final_data_filtered_hosts['elements'].isnull().sum()} out of {len(df_final_data_filtered_hosts)} rows.\")\n",
        "    print(\"First 10 rows of df_final_data_filtered_hosts (material_id, elements):\")\n",
        "    print(df_final_data_filtered_hosts[['material_id', 'elements']].head(10).to_markdown(index=False, numalign=\"left\", stralign=\"left\"))\n",
        "else:\n",
        "    print(\"\\n'elements' column does not exist in df_final_data_filtered_hosts.\")\n"
      ]
    },
    {
      "cell_type": "code",
      "execution_count": null,
      "metadata": {
        "colab": {
          "base_uri": "https://localhost:8080/"
        },
        "id": "9UZ1vvdq_gQy",
        "outputId": "1d07a0f2-180f-431e-d779-a2166c23180f"
      },
      "outputs": [
        {
          "name": "stdout",
          "output_type": "stream",
          "text": [
            "Renamed 'capacity_grav' to 'theoretical_capacity_grav' and 'capacity_vol' to 'theoretical_capacity_vol'.\n"
          ]
        }
      ],
      "source": [
        "#  Final Cleaning and Type Conversion\n",
        "\n",
        "# Rename Columns to Match Desired Features (from capacity_grav/vol to theoretical_capacity_grav/vol)\n",
        "df_final_data_filtered_hosts.rename(columns={\n",
        "    'capacity_grav': 'theoretical_capacity_grav',\n",
        "    'capacity_vol': 'theoretical_capacity_vol'\n",
        "}, inplace=True)\n",
        "print(\"Renamed 'capacity_grav' to 'theoretical_capacity_grav' and 'capacity_vol' to 'theoretical_capacity_vol'.\")\n",
        "\n",
        "\n",
        "# Convert Numeric Columns\n",
        "numeric_cols_for_conversion = [\n",
        "    'average_voltage', # CHANGED from 'average_voltage_electrode'\n",
        "    'theoretical_capacity_grav', # This is the NEW name after the rename\n",
        "    'theoretical_capacity_vol',  # This is the NEW name after the rename\n",
        "    'energy_grav',               # CHANGED from 'energy_grav_electrode'\n",
        "    'energy_vol',                # CHANGED from 'energy_vol_electrode'\n",
        "    'num_steps',                 # CHANGED from 'num_steps_electrode'\n",
        "    'max_voltage_step',          # CHANGED from 'max_voltage_step_electrode'\n",
        "    'stability_charge',          # CHANGED from 'stability_charge_electrode'\n",
        "    'stability_discharge',       # CHANGED from 'stability_discharge_electrode'\n",
        "    'energy_above_hull',         # CHANGED from 'energy_above_hull_summary'\n",
        "    'density',                   # CHANGED from 'density_summary'\n",
        "    'nelements',                 # CHANGED from 'nelements_summary'\n",
        "    'volume',                    # CHANGED from 'volume_summary'\n",
        "    'band_gap',                  # CHANGED from 'band_gap_summary'\n",
        "    'total_magnetization'        # CHANGED from 'total_magnetization_summary'\n",
        "]\n",
        "for col in numeric_cols_for_conversion:\n",
        "    if col in df_final_data_filtered_hosts.columns:\n",
        "        if not pd.api.types.is_numeric_dtype(df_final_data_filtered_hosts[col]):\n",
        "            df_final_data_filtered_hosts[col] = pd.to_numeric(df_final_data_filtered_hosts[col], errors='coerce')\n",
        "            if df_final_data_filtered_hosts[col].isnull().sum() > 0:\n",
        "                print(f\"  Warning: Coercing '{col}' to numeric introduced {df_final_data_filtered_hosts[col].isnull().sum()} NaNs.\")\n"
      ]
    },
    {
      "cell_type": "code",
      "execution_count": null,
      "metadata": {
        "id": "2oxj2oaI_mJk"
      },
      "outputs": [],
      "source": [
        "# Drop rows with NaN in ALL 22 features\n",
        "# Identify all 22 target features after renaming for the final dropna subset\n",
        "\n",
        "# These are the columns that MUST have non-null values for downstream modeling.\n",
        "\n",
        "critical_cols = [\n",
        "    'material_id',\n",
        "    'energy_above_hull',\n",
        "    'elements',\n",
        "    'density',\n",
        "    'formula_pretty',\n",
        "    'nelements',\n",
        "    'volume',\n",
        "    'band_gap',\n",
        "    'is_metal',\n",
        "    'total_magnetization',\n",
        "    'theoretical',\n",
        "    'battery_type',\n",
        "    'working_ion',\n",
        "    'average_voltage',\n",
        "    'theoretical_capacity_grav',\n",
        "    'theoretical_capacity_vol',\n",
        "    'energy_grav',\n",
        "    'energy_vol',\n",
        "    'num_steps',\n",
        "    'max_voltage_step',\n",
        "    'stability_charge',\n",
        "    'stability_discharge'\n",
        "]"
      ]
    },
    {
      "cell_type": "code",
      "execution_count": null,
      "metadata": {
        "colab": {
          "base_uri": "https://localhost:8080/"
        },
        "id": "eQumdy0X_rok",
        "outputId": "c94e04e8-f593-4ac9-c537-a9f951d97aa0"
      },
      "outputs": [
        {
          "name": "stdout",
          "output_type": "stream",
          "text": [
            "Dropped 504 rows due to NaN values in critical columns.\n",
            "DataFrame now has 3709 rows.\n"
          ]
        }
      ],
      "source": [
        "# Ensure only drop NaNs for columns that are actually present in the DataFrame\n",
        "dropna_subset_present = [col for col in critical_cols if col in df_final_data_filtered_hosts.columns]\n",
        "\n",
        "initial_rows_before_dropna = len(df_final_data_filtered_hosts)\n",
        "df_final_data_filtered_hosts.dropna(subset=dropna_subset_present, inplace=True)\n",
        "rows_dropped = initial_rows_before_dropna - len(df_final_data_filtered_hosts)\n",
        "\n",
        "print(f\"Dropped {rows_dropped} rows due to NaN values in critical columns.\")\n",
        "print(f\"DataFrame now has {len(df_final_data_filtered_hosts)} rows.\")"
      ]
    },
    {
      "cell_type": "code",
      "execution_count": null,
      "metadata": {
        "colab": {
          "base_uri": "https://localhost:8080/"
        },
        "id": "N6lFBWSN0Oy6",
        "outputId": "b6c4e868-dac0-4c03-f42f-a5951c736073"
      },
      "outputs": [
        {
          "name": "stdout",
          "output_type": "stream",
          "text": [
            "Final cleaned and processed DataFrame has 3709 rows.\n",
            "Final DataFrame columns: ['material_id', 'energy_above_hull', 'elements', 'density', 'formula_pretty', 'nelements', 'volume', 'band_gap', 'is_metal', 'total_magnetization', 'theoretical', 'battery_type', 'working_ion', 'average_voltage', 'theoretical_capacity_grav', 'theoretical_capacity_vol', 'energy_grav', 'energy_vol', 'num_steps', 'max_voltage_step', 'stability_charge', 'stability_discharge']\n",
            "Number of columns: 22\n"
          ]
        }
      ],
      "source": [
        "print(f\"Final cleaned and processed DataFrame has {len(df_final_data_filtered_hosts)} rows.\")\n",
        "print(f\"Final DataFrame columns: {df_final_data_filtered_hosts.columns.tolist()}\")\n",
        "print(f\"Number of columns: {len(df_final_data_filtered_hosts.columns)}\")\n"
      ]
    },
    {
      "cell_type": "code",
      "execution_count": null,
      "metadata": {
        "colab": {
          "base_uri": "https://localhost:8080/",
          "height": 360
        },
        "id": "rcoWs-0p_9_q",
        "outputId": "d26baa6f-21db-417f-93d6-3bb4f898dfd0"
      },
      "outputs": [
        {
          "name": "stdout",
          "output_type": "stream",
          "text": [
            "\n",
            "--- First 5 rows of the final combined and processed DataFrame: ---\n"
          ]
        },
        {
          "data": {
            "application/vnd.google.colaboratory.intrinsic+json": {
              "type": "dataframe",
              "variable_name": "df_final_data_filtered_hosts"
            },
            "text/html": [
              "\n",
              "  <div id=\"df-1f60394f-f5cc-4601-8110-5943e1b231d4\" class=\"colab-df-container\">\n",
              "    <div>\n",
              "<style scoped>\n",
              "    .dataframe tbody tr th:only-of-type {\n",
              "        vertical-align: middle;\n",
              "    }\n",
              "\n",
              "    .dataframe tbody tr th {\n",
              "        vertical-align: top;\n",
              "    }\n",
              "\n",
              "    .dataframe thead th {\n",
              "        text-align: right;\n",
              "    }\n",
              "</style>\n",
              "<table border=\"1\" class=\"dataframe\">\n",
              "  <thead>\n",
              "    <tr style=\"text-align: right;\">\n",
              "      <th></th>\n",
              "      <th>material_id</th>\n",
              "      <th>energy_above_hull</th>\n",
              "      <th>elements</th>\n",
              "      <th>density</th>\n",
              "      <th>formula_pretty</th>\n",
              "      <th>nelements</th>\n",
              "      <th>volume</th>\n",
              "      <th>band_gap</th>\n",
              "      <th>is_metal</th>\n",
              "      <th>total_magnetization</th>\n",
              "      <th>...</th>\n",
              "      <th>working_ion</th>\n",
              "      <th>average_voltage</th>\n",
              "      <th>theoretical_capacity_grav</th>\n",
              "      <th>theoretical_capacity_vol</th>\n",
              "      <th>energy_grav</th>\n",
              "      <th>energy_vol</th>\n",
              "      <th>num_steps</th>\n",
              "      <th>max_voltage_step</th>\n",
              "      <th>stability_charge</th>\n",
              "      <th>stability_discharge</th>\n",
              "    </tr>\n",
              "  </thead>\n",
              "  <tbody>\n",
              "    <tr>\n",
              "      <th>48</th>\n",
              "      <td>mp-1002568</td>\n",
              "      <td>0.071550</td>\n",
              "      <td>[Mg, Mn, O]</td>\n",
              "      <td>4.112037</td>\n",
              "      <td>MgMn2O4</td>\n",
              "      <td>3.0</td>\n",
              "      <td>160.058626</td>\n",
              "      <td>0.6493</td>\n",
              "      <td>False</td>\n",
              "      <td>5.997778</td>\n",
              "      <td>...</td>\n",
              "      <td>Na</td>\n",
              "      <td>-0.275526</td>\n",
              "      <td>121.181299</td>\n",
              "      <td>515.367052</td>\n",
              "      <td>-33.388634</td>\n",
              "      <td>-141.997174</td>\n",
              "      <td>1.0</td>\n",
              "      <td>0.000000</td>\n",
              "      <td>0.071550</td>\n",
              "      <td>0.054910</td>\n",
              "    </tr>\n",
              "    <tr>\n",
              "      <th>57</th>\n",
              "      <td>mp-10033</td>\n",
              "      <td>0.000000</td>\n",
              "      <td>[Nb, S]</td>\n",
              "      <td>4.203264</td>\n",
              "      <td>NbS2</td>\n",
              "      <td>2.0</td>\n",
              "      <td>124.077397</td>\n",
              "      <td>0.0000</td>\n",
              "      <td>True</td>\n",
              "      <td>1.727667</td>\n",
              "      <td>...</td>\n",
              "      <td>Li</td>\n",
              "      <td>2.426251</td>\n",
              "      <td>163.446209</td>\n",
              "      <td>698.540768</td>\n",
              "      <td>396.561540</td>\n",
              "      <td>1694.835288</td>\n",
              "      <td>2.0</td>\n",
              "      <td>0.487941</td>\n",
              "      <td>0.000000</td>\n",
              "      <td>0.000000</td>\n",
              "    </tr>\n",
              "    <tr>\n",
              "      <th>81</th>\n",
              "      <td>mp-1003637</td>\n",
              "      <td>0.029379</td>\n",
              "      <td>[Li, Mn, O]</td>\n",
              "      <td>4.350043</td>\n",
              "      <td>LiMn3O6</td>\n",
              "      <td>3.0</td>\n",
              "      <td>102.208625</td>\n",
              "      <td>0.3371</td>\n",
              "      <td>False</td>\n",
              "      <td>10.000594</td>\n",
              "      <td>...</td>\n",
              "      <td>Li</td>\n",
              "      <td>2.341613</td>\n",
              "      <td>49.408746</td>\n",
              "      <td>213.454309</td>\n",
              "      <td>115.696156</td>\n",
              "      <td>499.827361</td>\n",
              "      <td>1.0</td>\n",
              "      <td>0.000000</td>\n",
              "      <td>0.029379</td>\n",
              "      <td>0.059105</td>\n",
              "    </tr>\n",
              "    <tr>\n",
              "      <th>95</th>\n",
              "      <td>mp-1003854</td>\n",
              "      <td>0.151309</td>\n",
              "      <td>[K, Mn, O]</td>\n",
              "      <td>3.781312</td>\n",
              "      <td>KMnO2</td>\n",
              "      <td>3.0</td>\n",
              "      <td>221.390103</td>\n",
              "      <td>1.3322</td>\n",
              "      <td>False</td>\n",
              "      <td>15.999967</td>\n",
              "      <td>...</td>\n",
              "      <td>Mg</td>\n",
              "      <td>0.011719</td>\n",
              "      <td>101.435161</td>\n",
              "      <td>331.113426</td>\n",
              "      <td>1.188689</td>\n",
              "      <td>3.880221</td>\n",
              "      <td>1.0</td>\n",
              "      <td>0.000000</td>\n",
              "      <td>0.151309</td>\n",
              "      <td>0.158791</td>\n",
              "    </tr>\n",
              "    <tr>\n",
              "      <th>103</th>\n",
              "      <td>mp-1004375</td>\n",
              "      <td>0.042391</td>\n",
              "      <td>[Mg, Mn, O]</td>\n",
              "      <td>4.096519</td>\n",
              "      <td>MgMn4O8</td>\n",
              "      <td>3.0</td>\n",
              "      <td>150.812818</td>\n",
              "      <td>0.2766</td>\n",
              "      <td>False</td>\n",
              "      <td>14.000303</td>\n",
              "      <td>...</td>\n",
              "      <td>Na</td>\n",
              "      <td>-0.950239</td>\n",
              "      <td>231.041546</td>\n",
              "      <td>829.097077</td>\n",
              "      <td>-219.544732</td>\n",
              "      <td>-787.840537</td>\n",
              "      <td>1.0</td>\n",
              "      <td>0.000000</td>\n",
              "      <td>0.042391</td>\n",
              "      <td>0.171669</td>\n",
              "    </tr>\n",
              "  </tbody>\n",
              "</table>\n",
              "<p>5 rows × 22 columns</p>\n",
              "</div>\n",
              "    <div class=\"colab-df-buttons\">\n",
              "\n",
              "  <div class=\"colab-df-container\">\n",
              "    <button class=\"colab-df-convert\" onclick=\"convertToInteractive('df-1f60394f-f5cc-4601-8110-5943e1b231d4')\"\n",
              "            title=\"Convert this dataframe to an interactive table.\"\n",
              "            style=\"display:none;\">\n",
              "\n",
              "  <svg xmlns=\"http://www.w3.org/2000/svg\" height=\"24px\" viewBox=\"0 -960 960 960\">\n",
              "    <path d=\"M120-120v-720h720v720H120Zm60-500h600v-160H180v160Zm220 220h160v-160H400v160Zm0 220h160v-160H400v160ZM180-400h160v-160H180v160Zm440 0h160v-160H620v160ZM180-180h160v-160H180v160Zm440 0h160v-160H620v160Z\"/>\n",
              "  </svg>\n",
              "    </button>\n",
              "\n",
              "  <style>\n",
              "    .colab-df-container {\n",
              "      display:flex;\n",
              "      gap: 12px;\n",
              "    }\n",
              "\n",
              "    .colab-df-convert {\n",
              "      background-color: #E8F0FE;\n",
              "      border: none;\n",
              "      border-radius: 50%;\n",
              "      cursor: pointer;\n",
              "      display: none;\n",
              "      fill: #1967D2;\n",
              "      height: 32px;\n",
              "      padding: 0 0 0 0;\n",
              "      width: 32px;\n",
              "    }\n",
              "\n",
              "    .colab-df-convert:hover {\n",
              "      background-color: #E2EBFA;\n",
              "      box-shadow: 0px 1px 2px rgba(60, 64, 67, 0.3), 0px 1px 3px 1px rgba(60, 64, 67, 0.15);\n",
              "      fill: #174EA6;\n",
              "    }\n",
              "\n",
              "    .colab-df-buttons div {\n",
              "      margin-bottom: 4px;\n",
              "    }\n",
              "\n",
              "    [theme=dark] .colab-df-convert {\n",
              "      background-color: #3B4455;\n",
              "      fill: #D2E3FC;\n",
              "    }\n",
              "\n",
              "    [theme=dark] .colab-df-convert:hover {\n",
              "      background-color: #434B5C;\n",
              "      box-shadow: 0px 1px 3px 1px rgba(0, 0, 0, 0.15);\n",
              "      filter: drop-shadow(0px 1px 2px rgba(0, 0, 0, 0.3));\n",
              "      fill: #FFFFFF;\n",
              "    }\n",
              "  </style>\n",
              "\n",
              "    <script>\n",
              "      const buttonEl =\n",
              "        document.querySelector('#df-1f60394f-f5cc-4601-8110-5943e1b231d4 button.colab-df-convert');\n",
              "      buttonEl.style.display =\n",
              "        google.colab.kernel.accessAllowed ? 'block' : 'none';\n",
              "\n",
              "      async function convertToInteractive(key) {\n",
              "        const element = document.querySelector('#df-1f60394f-f5cc-4601-8110-5943e1b231d4');\n",
              "        const dataTable =\n",
              "          await google.colab.kernel.invokeFunction('convertToInteractive',\n",
              "                                                    [key], {});\n",
              "        if (!dataTable) return;\n",
              "\n",
              "        const docLinkHtml = 'Like what you see? Visit the ' +\n",
              "          '<a target=\"_blank\" href=https://colab.research.google.com/notebooks/data_table.ipynb>data table notebook</a>'\n",
              "          + ' to learn more about interactive tables.';\n",
              "        element.innerHTML = '';\n",
              "        dataTable['output_type'] = 'display_data';\n",
              "        await google.colab.output.renderOutput(dataTable, element);\n",
              "        const docLink = document.createElement('div');\n",
              "        docLink.innerHTML = docLinkHtml;\n",
              "        element.appendChild(docLink);\n",
              "      }\n",
              "    </script>\n",
              "  </div>\n",
              "\n",
              "\n",
              "    <div id=\"df-67dc1c3e-96e3-428d-be71-b8488aab60e9\">\n",
              "      <button class=\"colab-df-quickchart\" onclick=\"quickchart('df-67dc1c3e-96e3-428d-be71-b8488aab60e9')\"\n",
              "                title=\"Suggest charts\"\n",
              "                style=\"display:none;\">\n",
              "\n",
              "<svg xmlns=\"http://www.w3.org/2000/svg\" height=\"24px\"viewBox=\"0 0 24 24\"\n",
              "     width=\"24px\">\n",
              "    <g>\n",
              "        <path d=\"M19 3H5c-1.1 0-2 .9-2 2v14c0 1.1.9 2 2 2h14c1.1 0 2-.9 2-2V5c0-1.1-.9-2-2-2zM9 17H7v-7h2v7zm4 0h-2V7h2v10zm4 0h-2v-4h2v4z\"/>\n",
              "    </g>\n",
              "</svg>\n",
              "      </button>\n",
              "\n",
              "<style>\n",
              "  .colab-df-quickchart {\n",
              "      --bg-color: #E8F0FE;\n",
              "      --fill-color: #1967D2;\n",
              "      --hover-bg-color: #E2EBFA;\n",
              "      --hover-fill-color: #174EA6;\n",
              "      --disabled-fill-color: #AAA;\n",
              "      --disabled-bg-color: #DDD;\n",
              "  }\n",
              "\n",
              "  [theme=dark] .colab-df-quickchart {\n",
              "      --bg-color: #3B4455;\n",
              "      --fill-color: #D2E3FC;\n",
              "      --hover-bg-color: #434B5C;\n",
              "      --hover-fill-color: #FFFFFF;\n",
              "      --disabled-bg-color: #3B4455;\n",
              "      --disabled-fill-color: #666;\n",
              "  }\n",
              "\n",
              "  .colab-df-quickchart {\n",
              "    background-color: var(--bg-color);\n",
              "    border: none;\n",
              "    border-radius: 50%;\n",
              "    cursor: pointer;\n",
              "    display: none;\n",
              "    fill: var(--fill-color);\n",
              "    height: 32px;\n",
              "    padding: 0;\n",
              "    width: 32px;\n",
              "  }\n",
              "\n",
              "  .colab-df-quickchart:hover {\n",
              "    background-color: var(--hover-bg-color);\n",
              "    box-shadow: 0 1px 2px rgba(60, 64, 67, 0.3), 0 1px 3px 1px rgba(60, 64, 67, 0.15);\n",
              "    fill: var(--button-hover-fill-color);\n",
              "  }\n",
              "\n",
              "  .colab-df-quickchart-complete:disabled,\n",
              "  .colab-df-quickchart-complete:disabled:hover {\n",
              "    background-color: var(--disabled-bg-color);\n",
              "    fill: var(--disabled-fill-color);\n",
              "    box-shadow: none;\n",
              "  }\n",
              "\n",
              "  .colab-df-spinner {\n",
              "    border: 2px solid var(--fill-color);\n",
              "    border-color: transparent;\n",
              "    border-bottom-color: var(--fill-color);\n",
              "    animation:\n",
              "      spin 1s steps(1) infinite;\n",
              "  }\n",
              "\n",
              "  @keyframes spin {\n",
              "    0% {\n",
              "      border-color: transparent;\n",
              "      border-bottom-color: var(--fill-color);\n",
              "      border-left-color: var(--fill-color);\n",
              "    }\n",
              "    20% {\n",
              "      border-color: transparent;\n",
              "      border-left-color: var(--fill-color);\n",
              "      border-top-color: var(--fill-color);\n",
              "    }\n",
              "    30% {\n",
              "      border-color: transparent;\n",
              "      border-left-color: var(--fill-color);\n",
              "      border-top-color: var(--fill-color);\n",
              "      border-right-color: var(--fill-color);\n",
              "    }\n",
              "    40% {\n",
              "      border-color: transparent;\n",
              "      border-right-color: var(--fill-color);\n",
              "      border-top-color: var(--fill-color);\n",
              "    }\n",
              "    60% {\n",
              "      border-color: transparent;\n",
              "      border-right-color: var(--fill-color);\n",
              "    }\n",
              "    80% {\n",
              "      border-color: transparent;\n",
              "      border-right-color: var(--fill-color);\n",
              "      border-bottom-color: var(--fill-color);\n",
              "    }\n",
              "    90% {\n",
              "      border-color: transparent;\n",
              "      border-bottom-color: var(--fill-color);\n",
              "    }\n",
              "  }\n",
              "</style>\n",
              "\n",
              "      <script>\n",
              "        async function quickchart(key) {\n",
              "          const quickchartButtonEl =\n",
              "            document.querySelector('#' + key + ' button');\n",
              "          quickchartButtonEl.disabled = true;  // To prevent multiple clicks.\n",
              "          quickchartButtonEl.classList.add('colab-df-spinner');\n",
              "          try {\n",
              "            const charts = await google.colab.kernel.invokeFunction(\n",
              "                'suggestCharts', [key], {});\n",
              "          } catch (error) {\n",
              "            console.error('Error during call to suggestCharts:', error);\n",
              "          }\n",
              "          quickchartButtonEl.classList.remove('colab-df-spinner');\n",
              "          quickchartButtonEl.classList.add('colab-df-quickchart-complete');\n",
              "        }\n",
              "        (() => {\n",
              "          let quickchartButtonEl =\n",
              "            document.querySelector('#df-67dc1c3e-96e3-428d-be71-b8488aab60e9 button');\n",
              "          quickchartButtonEl.style.display =\n",
              "            google.colab.kernel.accessAllowed ? 'block' : 'none';\n",
              "        })();\n",
              "      </script>\n",
              "    </div>\n",
              "\n",
              "    </div>\n",
              "  </div>\n"
            ],
            "text/plain": [
              "    material_id  energy_above_hull     elements   density formula_pretty  \\\n",
              "48   mp-1002568           0.071550  [Mg, Mn, O]  4.112037        MgMn2O4   \n",
              "57     mp-10033           0.000000      [Nb, S]  4.203264           NbS2   \n",
              "81   mp-1003637           0.029379  [Li, Mn, O]  4.350043        LiMn3O6   \n",
              "95   mp-1003854           0.151309   [K, Mn, O]  3.781312          KMnO2   \n",
              "103  mp-1004375           0.042391  [Mg, Mn, O]  4.096519        MgMn4O8   \n",
              "\n",
              "     nelements      volume  band_gap is_metal  total_magnetization  ...  \\\n",
              "48         3.0  160.058626    0.6493    False             5.997778  ...   \n",
              "57         2.0  124.077397    0.0000     True             1.727667  ...   \n",
              "81         3.0  102.208625    0.3371    False            10.000594  ...   \n",
              "95         3.0  221.390103    1.3322    False            15.999967  ...   \n",
              "103        3.0  150.812818    0.2766    False            14.000303  ...   \n",
              "\n",
              "    working_ion average_voltage theoretical_capacity_grav  \\\n",
              "48           Na       -0.275526                121.181299   \n",
              "57           Li        2.426251                163.446209   \n",
              "81           Li        2.341613                 49.408746   \n",
              "95           Mg        0.011719                101.435161   \n",
              "103          Na       -0.950239                231.041546   \n",
              "\n",
              "     theoretical_capacity_vol  energy_grav   energy_vol  num_steps  \\\n",
              "48                 515.367052   -33.388634  -141.997174        1.0   \n",
              "57                 698.540768   396.561540  1694.835288        2.0   \n",
              "81                 213.454309   115.696156   499.827361        1.0   \n",
              "95                 331.113426     1.188689     3.880221        1.0   \n",
              "103                829.097077  -219.544732  -787.840537        1.0   \n",
              "\n",
              "     max_voltage_step  stability_charge  stability_discharge  \n",
              "48           0.000000          0.071550             0.054910  \n",
              "57           0.487941          0.000000             0.000000  \n",
              "81           0.000000          0.029379             0.059105  \n",
              "95           0.000000          0.151309             0.158791  \n",
              "103          0.000000          0.042391             0.171669  \n",
              "\n",
              "[5 rows x 22 columns]"
            ]
          },
          "execution_count": 42,
          "metadata": {},
          "output_type": "execute_result"
        }
      ],
      "source": [
        "# Display the first few rows\n",
        "print(\"\\n--- First 5 rows of the final combined and processed DataFrame: ---\")\n",
        "\n",
        "df_final_data_filtered_hosts.head()\n",
        "\n"
      ]
    },
    {
      "cell_type": "code",
      "execution_count": null,
      "metadata": {
        "colab": {
          "base_uri": "https://localhost:8080/"
        },
        "id": "qw5GGMt18K4O",
        "outputId": "9aa7de17-045b-4fb2-b426-4e7e1e5a0973"
      },
      "outputs": [
        {
          "name": "stdout",
          "output_type": "stream",
          "text": [
            "<class 'pandas.core.frame.DataFrame'>\n",
            "Index: 3709 entries, 48 to 108969\n",
            "Data columns (total 22 columns):\n",
            " #   Column                     Non-Null Count  Dtype  \n",
            "---  ------                     --------------  -----  \n",
            " 0   material_id                3709 non-null   object \n",
            " 1   energy_above_hull          3709 non-null   float64\n",
            " 2   elements                   3709 non-null   object \n",
            " 3   density                    3709 non-null   float64\n",
            " 4   formula_pretty             3709 non-null   object \n",
            " 5   nelements                  3709 non-null   float64\n",
            " 6   volume                     3709 non-null   float64\n",
            " 7   band_gap                   3709 non-null   float64\n",
            " 8   is_metal                   3709 non-null   object \n",
            " 9   total_magnetization        3709 non-null   float64\n",
            " 10  theoretical                3709 non-null   object \n",
            " 11  battery_type               3709 non-null   object \n",
            " 12  working_ion                3709 non-null   object \n",
            " 13  average_voltage            3709 non-null   float64\n",
            " 14  theoretical_capacity_grav  3709 non-null   float64\n",
            " 15  theoretical_capacity_vol   3709 non-null   float64\n",
            " 16  energy_grav                3709 non-null   float64\n",
            " 17  energy_vol                 3709 non-null   float64\n",
            " 18  num_steps                  3709 non-null   float64\n",
            " 19  max_voltage_step           3709 non-null   float64\n",
            " 20  stability_charge           3709 non-null   float64\n",
            " 21  stability_discharge        3709 non-null   float64\n",
            "dtypes: float64(15), object(7)\n",
            "memory usage: 666.5+ KB\n"
          ]
        }
      ],
      "source": [
        "df_final_data_filtered_hosts.info(verbose=True, show_counts=True)"
      ]
    },
    {
      "cell_type": "code",
      "execution_count": null,
      "metadata": {
        "colab": {
          "base_uri": "https://localhost:8080/",
          "height": 882
        },
        "id": "zAdfgZElDTa4",
        "outputId": "6bda0895-8aba-4843-afa0-733dfe34662d"
      },
      "outputs": [
        {
          "data": {
            "application/vnd.google.colaboratory.intrinsic+json": {
              "type": "dataframe",
              "variable_name": "df_final_data_filtered_hosts"
            },
            "text/html": [
              "\n",
              "  <div id=\"df-6bcdb53e-73ca-4d46-a6e0-44d4c0ce64de\" class=\"colab-df-container\">\n",
              "    <div>\n",
              "<style scoped>\n",
              "    .dataframe tbody tr th:only-of-type {\n",
              "        vertical-align: middle;\n",
              "    }\n",
              "\n",
              "    .dataframe tbody tr th {\n",
              "        vertical-align: top;\n",
              "    }\n",
              "\n",
              "    .dataframe thead th {\n",
              "        text-align: right;\n",
              "    }\n",
              "</style>\n",
              "<table border=\"1\" class=\"dataframe\">\n",
              "  <thead>\n",
              "    <tr style=\"text-align: right;\">\n",
              "      <th></th>\n",
              "      <th>material_id</th>\n",
              "      <th>energy_above_hull</th>\n",
              "      <th>elements</th>\n",
              "      <th>density</th>\n",
              "      <th>formula_pretty</th>\n",
              "      <th>nelements</th>\n",
              "      <th>volume</th>\n",
              "      <th>band_gap</th>\n",
              "      <th>is_metal</th>\n",
              "      <th>total_magnetization</th>\n",
              "      <th>...</th>\n",
              "      <th>working_ion</th>\n",
              "      <th>average_voltage</th>\n",
              "      <th>theoretical_capacity_grav</th>\n",
              "      <th>theoretical_capacity_vol</th>\n",
              "      <th>energy_grav</th>\n",
              "      <th>energy_vol</th>\n",
              "      <th>num_steps</th>\n",
              "      <th>max_voltage_step</th>\n",
              "      <th>stability_charge</th>\n",
              "      <th>stability_discharge</th>\n",
              "    </tr>\n",
              "  </thead>\n",
              "  <tbody>\n",
              "    <tr>\n",
              "      <th>48</th>\n",
              "      <td>mp-1002568</td>\n",
              "      <td>0.071550</td>\n",
              "      <td>[Mg, Mn, O]</td>\n",
              "      <td>4.112037</td>\n",
              "      <td>MgMn2O4</td>\n",
              "      <td>3.0</td>\n",
              "      <td>160.058626</td>\n",
              "      <td>0.6493</td>\n",
              "      <td>False</td>\n",
              "      <td>5.997778e+00</td>\n",
              "      <td>...</td>\n",
              "      <td>Na</td>\n",
              "      <td>-0.275526</td>\n",
              "      <td>121.181299</td>\n",
              "      <td>515.367052</td>\n",
              "      <td>-33.388634</td>\n",
              "      <td>-141.997174</td>\n",
              "      <td>1.0</td>\n",
              "      <td>0.000000</td>\n",
              "      <td>0.071550</td>\n",
              "      <td>0.054910</td>\n",
              "    </tr>\n",
              "    <tr>\n",
              "      <th>57</th>\n",
              "      <td>mp-10033</td>\n",
              "      <td>0.000000</td>\n",
              "      <td>[Nb, S]</td>\n",
              "      <td>4.203264</td>\n",
              "      <td>NbS2</td>\n",
              "      <td>2.0</td>\n",
              "      <td>124.077397</td>\n",
              "      <td>0.0000</td>\n",
              "      <td>True</td>\n",
              "      <td>1.727667e+00</td>\n",
              "      <td>...</td>\n",
              "      <td>Li</td>\n",
              "      <td>2.426251</td>\n",
              "      <td>163.446209</td>\n",
              "      <td>698.540768</td>\n",
              "      <td>396.561540</td>\n",
              "      <td>1694.835288</td>\n",
              "      <td>2.0</td>\n",
              "      <td>0.487941</td>\n",
              "      <td>0.000000</td>\n",
              "      <td>0.000000</td>\n",
              "    </tr>\n",
              "    <tr>\n",
              "      <th>81</th>\n",
              "      <td>mp-1003637</td>\n",
              "      <td>0.029379</td>\n",
              "      <td>[Li, Mn, O]</td>\n",
              "      <td>4.350043</td>\n",
              "      <td>LiMn3O6</td>\n",
              "      <td>3.0</td>\n",
              "      <td>102.208625</td>\n",
              "      <td>0.3371</td>\n",
              "      <td>False</td>\n",
              "      <td>1.000059e+01</td>\n",
              "      <td>...</td>\n",
              "      <td>Li</td>\n",
              "      <td>2.341613</td>\n",
              "      <td>49.408746</td>\n",
              "      <td>213.454309</td>\n",
              "      <td>115.696156</td>\n",
              "      <td>499.827361</td>\n",
              "      <td>1.0</td>\n",
              "      <td>0.000000</td>\n",
              "      <td>0.029379</td>\n",
              "      <td>0.059105</td>\n",
              "    </tr>\n",
              "    <tr>\n",
              "      <th>95</th>\n",
              "      <td>mp-1003854</td>\n",
              "      <td>0.151309</td>\n",
              "      <td>[K, Mn, O]</td>\n",
              "      <td>3.781312</td>\n",
              "      <td>KMnO2</td>\n",
              "      <td>3.0</td>\n",
              "      <td>221.390103</td>\n",
              "      <td>1.3322</td>\n",
              "      <td>False</td>\n",
              "      <td>1.599997e+01</td>\n",
              "      <td>...</td>\n",
              "      <td>Mg</td>\n",
              "      <td>0.011719</td>\n",
              "      <td>101.435161</td>\n",
              "      <td>331.113426</td>\n",
              "      <td>1.188689</td>\n",
              "      <td>3.880221</td>\n",
              "      <td>1.0</td>\n",
              "      <td>0.000000</td>\n",
              "      <td>0.151309</td>\n",
              "      <td>0.158791</td>\n",
              "    </tr>\n",
              "    <tr>\n",
              "      <th>103</th>\n",
              "      <td>mp-1004375</td>\n",
              "      <td>0.042391</td>\n",
              "      <td>[Mg, Mn, O]</td>\n",
              "      <td>4.096519</td>\n",
              "      <td>MgMn4O8</td>\n",
              "      <td>3.0</td>\n",
              "      <td>150.812818</td>\n",
              "      <td>0.2766</td>\n",
              "      <td>False</td>\n",
              "      <td>1.400030e+01</td>\n",
              "      <td>...</td>\n",
              "      <td>Na</td>\n",
              "      <td>-0.950239</td>\n",
              "      <td>231.041546</td>\n",
              "      <td>829.097077</td>\n",
              "      <td>-219.544732</td>\n",
              "      <td>-787.840537</td>\n",
              "      <td>1.0</td>\n",
              "      <td>0.000000</td>\n",
              "      <td>0.042391</td>\n",
              "      <td>0.171669</td>\n",
              "    </tr>\n",
              "    <tr>\n",
              "      <th>134</th>\n",
              "      <td>mp-10062</td>\n",
              "      <td>0.004804</td>\n",
              "      <td>[Ba, Cu, Nb, Nd, O]</td>\n",
              "      <td>6.520796</td>\n",
              "      <td>Ba2NdNb(CuO4)2</td>\n",
              "      <td>5.0</td>\n",
              "      <td>195.290587</td>\n",
              "      <td>0.0000</td>\n",
              "      <td>True</td>\n",
              "      <td>1.346100e-03</td>\n",
              "      <td>...</td>\n",
              "      <td>Mg</td>\n",
              "      <td>-1.879517</td>\n",
              "      <td>67.749405</td>\n",
              "      <td>393.215155</td>\n",
              "      <td>-127.336128</td>\n",
              "      <td>-739.054386</td>\n",
              "      <td>1.0</td>\n",
              "      <td>0.000000</td>\n",
              "      <td>0.004804</td>\n",
              "      <td>0.385907</td>\n",
              "    </tr>\n",
              "    <tr>\n",
              "      <th>250</th>\n",
              "      <td>mp-1009555</td>\n",
              "      <td>0.192758</td>\n",
              "      <td>[Cr, O]</td>\n",
              "      <td>5.153050</td>\n",
              "      <td>CrO2</td>\n",
              "      <td>2.0</td>\n",
              "      <td>27.066847</td>\n",
              "      <td>0.0000</td>\n",
              "      <td>True</td>\n",
              "      <td>1.998703e+00</td>\n",
              "      <td>...</td>\n",
              "      <td>Li</td>\n",
              "      <td>-0.826595</td>\n",
              "      <td>294.729377</td>\n",
              "      <td>1423.429227</td>\n",
              "      <td>-243.621754</td>\n",
              "      <td>-1176.599117</td>\n",
              "      <td>1.0</td>\n",
              "      <td>0.000000</td>\n",
              "      <td>0.192758</td>\n",
              "      <td>1.104618</td>\n",
              "    </tr>\n",
              "    <tr>\n",
              "      <th>260</th>\n",
              "      <td>mp-1009813</td>\n",
              "      <td>0.191999</td>\n",
              "      <td>[Si, Sn]</td>\n",
              "      <td>4.361248</td>\n",
              "      <td>SiSn</td>\n",
              "      <td>2.0</td>\n",
              "      <td>55.892187</td>\n",
              "      <td>0.4292</td>\n",
              "      <td>False</td>\n",
              "      <td>5.500000e-06</td>\n",
              "      <td>...</td>\n",
              "      <td>Mg</td>\n",
              "      <td>-0.175472</td>\n",
              "      <td>878.681269</td>\n",
              "      <td>2730.970972</td>\n",
              "      <td>-154.184142</td>\n",
              "      <td>-479.209505</td>\n",
              "      <td>1.0</td>\n",
              "      <td>0.000000</td>\n",
              "      <td>0.191999</td>\n",
              "      <td>0.523977</td>\n",
              "    </tr>\n",
              "    <tr>\n",
              "      <th>300</th>\n",
              "      <td>mp-1013526</td>\n",
              "      <td>0.017861</td>\n",
              "      <td>[S, V]</td>\n",
              "      <td>3.362890</td>\n",
              "      <td>VS2</td>\n",
              "      <td>2.0</td>\n",
              "      <td>56.820383</td>\n",
              "      <td>0.0000</td>\n",
              "      <td>True</td>\n",
              "      <td>1.003633e+00</td>\n",
              "      <td>...</td>\n",
              "      <td>Na</td>\n",
              "      <td>2.258708</td>\n",
              "      <td>194.127443</td>\n",
              "      <td>614.194925</td>\n",
              "      <td>438.477218</td>\n",
              "      <td>1387.287022</td>\n",
              "      <td>1.0</td>\n",
              "      <td>0.000000</td>\n",
              "      <td>0.017861</td>\n",
              "      <td>0.000000</td>\n",
              "    </tr>\n",
              "    <tr>\n",
              "      <th>353</th>\n",
              "      <td>mp-1014230</td>\n",
              "      <td>0.000000</td>\n",
              "      <td>[Ti, Zn]</td>\n",
              "      <td>6.171052</td>\n",
              "      <td>TiZn</td>\n",
              "      <td>2.0</td>\n",
              "      <td>30.480901</td>\n",
              "      <td>0.0000</td>\n",
              "      <td>True</td>\n",
              "      <td>3.000000e-07</td>\n",
              "      <td>...</td>\n",
              "      <td>Zn</td>\n",
              "      <td>0.095410</td>\n",
              "      <td>439.199344</td>\n",
              "      <td>3045.740840</td>\n",
              "      <td>41.904223</td>\n",
              "      <td>290.595618</td>\n",
              "      <td>1.0</td>\n",
              "      <td>0.000000</td>\n",
              "      <td>0.007985</td>\n",
              "      <td>0.007891</td>\n",
              "    </tr>\n",
              "    <tr>\n",
              "      <th>380</th>\n",
              "      <td>mp-1016153</td>\n",
              "      <td>0.020614</td>\n",
              "      <td>[K, Mn, O]</td>\n",
              "      <td>4.141919</td>\n",
              "      <td>KMn8O16</td>\n",
              "      <td>3.0</td>\n",
              "      <td>589.012165</td>\n",
              "      <td>0.0000</td>\n",
              "      <td>True</td>\n",
              "      <td>4.357272e-01</td>\n",
              "      <td>...</td>\n",
              "      <td>K</td>\n",
              "      <td>-3.792466</td>\n",
              "      <td>94.383824</td>\n",
              "      <td>384.731795</td>\n",
              "      <td>-357.947470</td>\n",
              "      <td>-1459.082357</td>\n",
              "      <td>1.0</td>\n",
              "      <td>0.000000</td>\n",
              "      <td>0.020614</td>\n",
              "      <td>0.170262</td>\n",
              "    </tr>\n",
              "    <tr>\n",
              "      <th>383</th>\n",
              "      <td>mp-1016165</td>\n",
              "      <td>0.025848</td>\n",
              "      <td>[Li, Mn, O]</td>\n",
              "      <td>4.009096</td>\n",
              "      <td>LiMn8O16</td>\n",
              "      <td>3.0</td>\n",
              "      <td>581.887805</td>\n",
              "      <td>0.0000</td>\n",
              "      <td>True</td>\n",
              "      <td>5.000209e+01</td>\n",
              "      <td>...</td>\n",
              "      <td>Li</td>\n",
              "      <td>2.853897</td>\n",
              "      <td>37.781730</td>\n",
              "      <td>151.720811</td>\n",
              "      <td>107.825158</td>\n",
              "      <td>432.995534</td>\n",
              "      <td>1.0</td>\n",
              "      <td>0.000000</td>\n",
              "      <td>0.025848</td>\n",
              "      <td>0.034245</td>\n",
              "    </tr>\n",
              "    <tr>\n",
              "      <th>406</th>\n",
              "      <td>mp-1016253</td>\n",
              "      <td>0.031589</td>\n",
              "      <td>[Cd, Mg]</td>\n",
              "      <td>2.692782</td>\n",
              "      <td>Mg7Cd</td>\n",
              "      <td>2.0</td>\n",
              "      <td>174.235655</td>\n",
              "      <td>0.0000</td>\n",
              "      <td>True</td>\n",
              "      <td>0.000000e+00</td>\n",
              "      <td>...</td>\n",
              "      <td>Mg</td>\n",
              "      <td>-0.003843</td>\n",
              "      <td>2038.541563</td>\n",
              "      <td>3760.211510</td>\n",
              "      <td>-7.834115</td>\n",
              "      <td>-14.450493</td>\n",
              "      <td>1.0</td>\n",
              "      <td>0.000000</td>\n",
              "      <td>0.010342</td>\n",
              "      <td>0.007828</td>\n",
              "    </tr>\n",
              "    <tr>\n",
              "      <th>419</th>\n",
              "      <td>mp-1016282</td>\n",
              "      <td>0.141061</td>\n",
              "      <td>[Mg, Mn]</td>\n",
              "      <td>2.315786</td>\n",
              "      <td>Mg7Mn</td>\n",
              "      <td>2.0</td>\n",
              "      <td>161.389068</td>\n",
              "      <td>0.0000</td>\n",
              "      <td>True</td>\n",
              "      <td>3.533285e+00</td>\n",
              "      <td>...</td>\n",
              "      <td>Mg</td>\n",
              "      <td>-1.275031</td>\n",
              "      <td>2070.410116</td>\n",
              "      <td>3701.924923</td>\n",
              "      <td>-2639.837417</td>\n",
              "      <td>-4720.069639</td>\n",
              "      <td>1.0</td>\n",
              "      <td>0.000000</td>\n",
              "      <td>0.141061</td>\n",
              "      <td>0.018153</td>\n",
              "    </tr>\n",
              "    <tr>\n",
              "      <th>424</th>\n",
              "      <td>mp-1016298</td>\n",
              "      <td>0.183961</td>\n",
              "      <td>[Mg, V]</td>\n",
              "      <td>2.116679</td>\n",
              "      <td>Mg7V</td>\n",
              "      <td>2.0</td>\n",
              "      <td>173.434941</td>\n",
              "      <td>0.0000</td>\n",
              "      <td>True</td>\n",
              "      <td>3.242437e+00</td>\n",
              "      <td>...</td>\n",
              "      <td>Mg</td>\n",
              "      <td>-1.270314</td>\n",
              "      <td>2072.663279</td>\n",
              "      <td>3697.514294</td>\n",
              "      <td>-2632.934042</td>\n",
              "      <td>-4697.005710</td>\n",
              "      <td>1.0</td>\n",
              "      <td>0.000000</td>\n",
              "      <td>0.183961</td>\n",
              "      <td>0.011511</td>\n",
              "    </tr>\n",
              "    <tr>\n",
              "      <th>434</th>\n",
              "      <td>mp-1016326</td>\n",
              "      <td>0.163550</td>\n",
              "      <td>[Cr, Mg]</td>\n",
              "      <td>2.121757</td>\n",
              "      <td>Mg7Cr</td>\n",
              "      <td>2.0</td>\n",
              "      <td>173.845285</td>\n",
              "      <td>0.0000</td>\n",
              "      <td>True</td>\n",
              "      <td>4.272802e+00</td>\n",
              "      <td>...</td>\n",
              "      <td>Mg</td>\n",
              "      <td>-1.270438</td>\n",
              "      <td>2072.068243</td>\n",
              "      <td>3681.504764</td>\n",
              "      <td>-2632.433352</td>\n",
              "      <td>-4677.121982</td>\n",
              "      <td>1.0</td>\n",
              "      <td>0.000000</td>\n",
              "      <td>0.163550</td>\n",
              "      <td>0.010655</td>\n",
              "    </tr>\n",
              "    <tr>\n",
              "      <th>436</th>\n",
              "      <td>mp-1016331</td>\n",
              "      <td>0.181676</td>\n",
              "      <td>[Mg, Nb]</td>\n",
              "      <td>2.530843</td>\n",
              "      <td>Mg7Nb</td>\n",
              "      <td>2.0</td>\n",
              "      <td>172.586935</td>\n",
              "      <td>0.0000</td>\n",
              "      <td>True</td>\n",
              "      <td>1.582100e-03</td>\n",
              "      <td>...</td>\n",
              "      <td>Mg</td>\n",
              "      <td>-1.271449</td>\n",
              "      <td>2049.246252</td>\n",
              "      <td>3682.524991</td>\n",
              "      <td>-2605.512089</td>\n",
              "      <td>-4682.142700</td>\n",
              "      <td>1.0</td>\n",
              "      <td>0.000000</td>\n",
              "      <td>0.181676</td>\n",
              "      <td>0.013537</td>\n",
              "    </tr>\n",
              "    <tr>\n",
              "      <th>855</th>\n",
              "      <td>mp-1019601</td>\n",
              "      <td>0.045056</td>\n",
              "      <td>[Ce, O, Zr]</td>\n",
              "      <td>5.959606</td>\n",
              "      <td>CeZr7O16</td>\n",
              "      <td>3.0</td>\n",
              "      <td>288.293785</td>\n",
              "      <td>2.1576</td>\n",
              "      <td>False</td>\n",
              "      <td>2.253000e-03</td>\n",
              "      <td>...</td>\n",
              "      <td>Mg</td>\n",
              "      <td>-2.017102</td>\n",
              "      <td>50.617568</td>\n",
              "      <td>283.452220</td>\n",
              "      <td>-102.100774</td>\n",
              "      <td>-571.751900</td>\n",
              "      <td>1.0</td>\n",
              "      <td>0.000000</td>\n",
              "      <td>0.045056</td>\n",
              "      <td>0.143757</td>\n",
              "    </tr>\n",
              "    <tr>\n",
              "      <th>943</th>\n",
              "      <td>mp-102</td>\n",
              "      <td>0.000000</td>\n",
              "      <td>[Co]</td>\n",
              "      <td>9.026471</td>\n",
              "      <td>Co</td>\n",
              "      <td>1.0</td>\n",
              "      <td>10.841543</td>\n",
              "      <td>0.0000</td>\n",
              "      <td>True</td>\n",
              "      <td>1.838000e+00</td>\n",
              "      <td>...</td>\n",
              "      <td>Na</td>\n",
              "      <td>-0.881998</td>\n",
              "      <td>628.638546</td>\n",
              "      <td>1355.576422</td>\n",
              "      <td>-554.457883</td>\n",
              "      <td>-1195.615569</td>\n",
              "      <td>1.0</td>\n",
              "      <td>0.000000</td>\n",
              "      <td>0.000000</td>\n",
              "      <td>0.661498</td>\n",
              "    </tr>\n",
              "    <tr>\n",
              "      <th>1160</th>\n",
              "      <td>mp-1021489</td>\n",
              "      <td>0.114258</td>\n",
              "      <td>[Ir, O]</td>\n",
              "      <td>7.321747</td>\n",
              "      <td>IrO3</td>\n",
              "      <td>2.0</td>\n",
              "      <td>54.479723</td>\n",
              "      <td>0.0000</td>\n",
              "      <td>True</td>\n",
              "      <td>9.396000e-04</td>\n",
              "      <td>...</td>\n",
              "      <td>Ca</td>\n",
              "      <td>0.236265</td>\n",
              "      <td>191.238897</td>\n",
              "      <td>1440.458989</td>\n",
              "      <td>45.183109</td>\n",
              "      <td>340.330425</td>\n",
              "      <td>1.0</td>\n",
              "      <td>0.000000</td>\n",
              "      <td>0.114258</td>\n",
              "      <td>0.306553</td>\n",
              "    </tr>\n",
              "  </tbody>\n",
              "</table>\n",
              "<p>20 rows × 22 columns</p>\n",
              "</div>\n",
              "    <div class=\"colab-df-buttons\">\n",
              "\n",
              "  <div class=\"colab-df-container\">\n",
              "    <button class=\"colab-df-convert\" onclick=\"convertToInteractive('df-6bcdb53e-73ca-4d46-a6e0-44d4c0ce64de')\"\n",
              "            title=\"Convert this dataframe to an interactive table.\"\n",
              "            style=\"display:none;\">\n",
              "\n",
              "  <svg xmlns=\"http://www.w3.org/2000/svg\" height=\"24px\" viewBox=\"0 -960 960 960\">\n",
              "    <path d=\"M120-120v-720h720v720H120Zm60-500h600v-160H180v160Zm220 220h160v-160H400v160Zm0 220h160v-160H400v160ZM180-400h160v-160H180v160Zm440 0h160v-160H620v160ZM180-180h160v-160H180v160Zm440 0h160v-160H620v160Z\"/>\n",
              "  </svg>\n",
              "    </button>\n",
              "\n",
              "  <style>\n",
              "    .colab-df-container {\n",
              "      display:flex;\n",
              "      gap: 12px;\n",
              "    }\n",
              "\n",
              "    .colab-df-convert {\n",
              "      background-color: #E8F0FE;\n",
              "      border: none;\n",
              "      border-radius: 50%;\n",
              "      cursor: pointer;\n",
              "      display: none;\n",
              "      fill: #1967D2;\n",
              "      height: 32px;\n",
              "      padding: 0 0 0 0;\n",
              "      width: 32px;\n",
              "    }\n",
              "\n",
              "    .colab-df-convert:hover {\n",
              "      background-color: #E2EBFA;\n",
              "      box-shadow: 0px 1px 2px rgba(60, 64, 67, 0.3), 0px 1px 3px 1px rgba(60, 64, 67, 0.15);\n",
              "      fill: #174EA6;\n",
              "    }\n",
              "\n",
              "    .colab-df-buttons div {\n",
              "      margin-bottom: 4px;\n",
              "    }\n",
              "\n",
              "    [theme=dark] .colab-df-convert {\n",
              "      background-color: #3B4455;\n",
              "      fill: #D2E3FC;\n",
              "    }\n",
              "\n",
              "    [theme=dark] .colab-df-convert:hover {\n",
              "      background-color: #434B5C;\n",
              "      box-shadow: 0px 1px 3px 1px rgba(0, 0, 0, 0.15);\n",
              "      filter: drop-shadow(0px 1px 2px rgba(0, 0, 0, 0.3));\n",
              "      fill: #FFFFFF;\n",
              "    }\n",
              "  </style>\n",
              "\n",
              "    <script>\n",
              "      const buttonEl =\n",
              "        document.querySelector('#df-6bcdb53e-73ca-4d46-a6e0-44d4c0ce64de button.colab-df-convert');\n",
              "      buttonEl.style.display =\n",
              "        google.colab.kernel.accessAllowed ? 'block' : 'none';\n",
              "\n",
              "      async function convertToInteractive(key) {\n",
              "        const element = document.querySelector('#df-6bcdb53e-73ca-4d46-a6e0-44d4c0ce64de');\n",
              "        const dataTable =\n",
              "          await google.colab.kernel.invokeFunction('convertToInteractive',\n",
              "                                                    [key], {});\n",
              "        if (!dataTable) return;\n",
              "\n",
              "        const docLinkHtml = 'Like what you see? Visit the ' +\n",
              "          '<a target=\"_blank\" href=https://colab.research.google.com/notebooks/data_table.ipynb>data table notebook</a>'\n",
              "          + ' to learn more about interactive tables.';\n",
              "        element.innerHTML = '';\n",
              "        dataTable['output_type'] = 'display_data';\n",
              "        await google.colab.output.renderOutput(dataTable, element);\n",
              "        const docLink = document.createElement('div');\n",
              "        docLink.innerHTML = docLinkHtml;\n",
              "        element.appendChild(docLink);\n",
              "      }\n",
              "    </script>\n",
              "  </div>\n",
              "\n",
              "\n",
              "    <div id=\"df-79e4753e-768c-4e48-a92f-7f572e9becb7\">\n",
              "      <button class=\"colab-df-quickchart\" onclick=\"quickchart('df-79e4753e-768c-4e48-a92f-7f572e9becb7')\"\n",
              "                title=\"Suggest charts\"\n",
              "                style=\"display:none;\">\n",
              "\n",
              "<svg xmlns=\"http://www.w3.org/2000/svg\" height=\"24px\"viewBox=\"0 0 24 24\"\n",
              "     width=\"24px\">\n",
              "    <g>\n",
              "        <path d=\"M19 3H5c-1.1 0-2 .9-2 2v14c0 1.1.9 2 2 2h14c1.1 0 2-.9 2-2V5c0-1.1-.9-2-2-2zM9 17H7v-7h2v7zm4 0h-2V7h2v10zm4 0h-2v-4h2v4z\"/>\n",
              "    </g>\n",
              "</svg>\n",
              "      </button>\n",
              "\n",
              "<style>\n",
              "  .colab-df-quickchart {\n",
              "      --bg-color: #E8F0FE;\n",
              "      --fill-color: #1967D2;\n",
              "      --hover-bg-color: #E2EBFA;\n",
              "      --hover-fill-color: #174EA6;\n",
              "      --disabled-fill-color: #AAA;\n",
              "      --disabled-bg-color: #DDD;\n",
              "  }\n",
              "\n",
              "  [theme=dark] .colab-df-quickchart {\n",
              "      --bg-color: #3B4455;\n",
              "      --fill-color: #D2E3FC;\n",
              "      --hover-bg-color: #434B5C;\n",
              "      --hover-fill-color: #FFFFFF;\n",
              "      --disabled-bg-color: #3B4455;\n",
              "      --disabled-fill-color: #666;\n",
              "  }\n",
              "\n",
              "  .colab-df-quickchart {\n",
              "    background-color: var(--bg-color);\n",
              "    border: none;\n",
              "    border-radius: 50%;\n",
              "    cursor: pointer;\n",
              "    display: none;\n",
              "    fill: var(--fill-color);\n",
              "    height: 32px;\n",
              "    padding: 0;\n",
              "    width: 32px;\n",
              "  }\n",
              "\n",
              "  .colab-df-quickchart:hover {\n",
              "    background-color: var(--hover-bg-color);\n",
              "    box-shadow: 0 1px 2px rgba(60, 64, 67, 0.3), 0 1px 3px 1px rgba(60, 64, 67, 0.15);\n",
              "    fill: var(--button-hover-fill-color);\n",
              "  }\n",
              "\n",
              "  .colab-df-quickchart-complete:disabled,\n",
              "  .colab-df-quickchart-complete:disabled:hover {\n",
              "    background-color: var(--disabled-bg-color);\n",
              "    fill: var(--disabled-fill-color);\n",
              "    box-shadow: none;\n",
              "  }\n",
              "\n",
              "  .colab-df-spinner {\n",
              "    border: 2px solid var(--fill-color);\n",
              "    border-color: transparent;\n",
              "    border-bottom-color: var(--fill-color);\n",
              "    animation:\n",
              "      spin 1s steps(1) infinite;\n",
              "  }\n",
              "\n",
              "  @keyframes spin {\n",
              "    0% {\n",
              "      border-color: transparent;\n",
              "      border-bottom-color: var(--fill-color);\n",
              "      border-left-color: var(--fill-color);\n",
              "    }\n",
              "    20% {\n",
              "      border-color: transparent;\n",
              "      border-left-color: var(--fill-color);\n",
              "      border-top-color: var(--fill-color);\n",
              "    }\n",
              "    30% {\n",
              "      border-color: transparent;\n",
              "      border-left-color: var(--fill-color);\n",
              "      border-top-color: var(--fill-color);\n",
              "      border-right-color: var(--fill-color);\n",
              "    }\n",
              "    40% {\n",
              "      border-color: transparent;\n",
              "      border-right-color: var(--fill-color);\n",
              "      border-top-color: var(--fill-color);\n",
              "    }\n",
              "    60% {\n",
              "      border-color: transparent;\n",
              "      border-right-color: var(--fill-color);\n",
              "    }\n",
              "    80% {\n",
              "      border-color: transparent;\n",
              "      border-right-color: var(--fill-color);\n",
              "      border-bottom-color: var(--fill-color);\n",
              "    }\n",
              "    90% {\n",
              "      border-color: transparent;\n",
              "      border-bottom-color: var(--fill-color);\n",
              "    }\n",
              "  }\n",
              "</style>\n",
              "\n",
              "      <script>\n",
              "        async function quickchart(key) {\n",
              "          const quickchartButtonEl =\n",
              "            document.querySelector('#' + key + ' button');\n",
              "          quickchartButtonEl.disabled = true;  // To prevent multiple clicks.\n",
              "          quickchartButtonEl.classList.add('colab-df-spinner');\n",
              "          try {\n",
              "            const charts = await google.colab.kernel.invokeFunction(\n",
              "                'suggestCharts', [key], {});\n",
              "          } catch (error) {\n",
              "            console.error('Error during call to suggestCharts:', error);\n",
              "          }\n",
              "          quickchartButtonEl.classList.remove('colab-df-spinner');\n",
              "          quickchartButtonEl.classList.add('colab-df-quickchart-complete');\n",
              "        }\n",
              "        (() => {\n",
              "          let quickchartButtonEl =\n",
              "            document.querySelector('#df-79e4753e-768c-4e48-a92f-7f572e9becb7 button');\n",
              "          quickchartButtonEl.style.display =\n",
              "            google.colab.kernel.accessAllowed ? 'block' : 'none';\n",
              "        })();\n",
              "      </script>\n",
              "    </div>\n",
              "\n",
              "    </div>\n",
              "  </div>\n"
            ],
            "text/plain": [
              "     material_id  energy_above_hull             elements   density  \\\n",
              "48    mp-1002568           0.071550          [Mg, Mn, O]  4.112037   \n",
              "57      mp-10033           0.000000              [Nb, S]  4.203264   \n",
              "81    mp-1003637           0.029379          [Li, Mn, O]  4.350043   \n",
              "95    mp-1003854           0.151309           [K, Mn, O]  3.781312   \n",
              "103   mp-1004375           0.042391          [Mg, Mn, O]  4.096519   \n",
              "134     mp-10062           0.004804  [Ba, Cu, Nb, Nd, O]  6.520796   \n",
              "250   mp-1009555           0.192758              [Cr, O]  5.153050   \n",
              "260   mp-1009813           0.191999             [Si, Sn]  4.361248   \n",
              "300   mp-1013526           0.017861               [S, V]  3.362890   \n",
              "353   mp-1014230           0.000000             [Ti, Zn]  6.171052   \n",
              "380   mp-1016153           0.020614           [K, Mn, O]  4.141919   \n",
              "383   mp-1016165           0.025848          [Li, Mn, O]  4.009096   \n",
              "406   mp-1016253           0.031589             [Cd, Mg]  2.692782   \n",
              "419   mp-1016282           0.141061             [Mg, Mn]  2.315786   \n",
              "424   mp-1016298           0.183961              [Mg, V]  2.116679   \n",
              "434   mp-1016326           0.163550             [Cr, Mg]  2.121757   \n",
              "436   mp-1016331           0.181676             [Mg, Nb]  2.530843   \n",
              "855   mp-1019601           0.045056          [Ce, O, Zr]  5.959606   \n",
              "943       mp-102           0.000000                 [Co]  9.026471   \n",
              "1160  mp-1021489           0.114258              [Ir, O]  7.321747   \n",
              "\n",
              "      formula_pretty  nelements      volume  band_gap is_metal  \\\n",
              "48           MgMn2O4        3.0  160.058626    0.6493    False   \n",
              "57              NbS2        2.0  124.077397    0.0000     True   \n",
              "81           LiMn3O6        3.0  102.208625    0.3371    False   \n",
              "95             KMnO2        3.0  221.390103    1.3322    False   \n",
              "103          MgMn4O8        3.0  150.812818    0.2766    False   \n",
              "134   Ba2NdNb(CuO4)2        5.0  195.290587    0.0000     True   \n",
              "250             CrO2        2.0   27.066847    0.0000     True   \n",
              "260             SiSn        2.0   55.892187    0.4292    False   \n",
              "300              VS2        2.0   56.820383    0.0000     True   \n",
              "353             TiZn        2.0   30.480901    0.0000     True   \n",
              "380          KMn8O16        3.0  589.012165    0.0000     True   \n",
              "383         LiMn8O16        3.0  581.887805    0.0000     True   \n",
              "406            Mg7Cd        2.0  174.235655    0.0000     True   \n",
              "419            Mg7Mn        2.0  161.389068    0.0000     True   \n",
              "424             Mg7V        2.0  173.434941    0.0000     True   \n",
              "434            Mg7Cr        2.0  173.845285    0.0000     True   \n",
              "436            Mg7Nb        2.0  172.586935    0.0000     True   \n",
              "855         CeZr7O16        3.0  288.293785    2.1576    False   \n",
              "943               Co        1.0   10.841543    0.0000     True   \n",
              "1160            IrO3        2.0   54.479723    0.0000     True   \n",
              "\n",
              "      total_magnetization  ... working_ion average_voltage  \\\n",
              "48           5.997778e+00  ...          Na       -0.275526   \n",
              "57           1.727667e+00  ...          Li        2.426251   \n",
              "81           1.000059e+01  ...          Li        2.341613   \n",
              "95           1.599997e+01  ...          Mg        0.011719   \n",
              "103          1.400030e+01  ...          Na       -0.950239   \n",
              "134          1.346100e-03  ...          Mg       -1.879517   \n",
              "250          1.998703e+00  ...          Li       -0.826595   \n",
              "260          5.500000e-06  ...          Mg       -0.175472   \n",
              "300          1.003633e+00  ...          Na        2.258708   \n",
              "353          3.000000e-07  ...          Zn        0.095410   \n",
              "380          4.357272e-01  ...           K       -3.792466   \n",
              "383          5.000209e+01  ...          Li        2.853897   \n",
              "406          0.000000e+00  ...          Mg       -0.003843   \n",
              "419          3.533285e+00  ...          Mg       -1.275031   \n",
              "424          3.242437e+00  ...          Mg       -1.270314   \n",
              "434          4.272802e+00  ...          Mg       -1.270438   \n",
              "436          1.582100e-03  ...          Mg       -1.271449   \n",
              "855          2.253000e-03  ...          Mg       -2.017102   \n",
              "943          1.838000e+00  ...          Na       -0.881998   \n",
              "1160         9.396000e-04  ...          Ca        0.236265   \n",
              "\n",
              "     theoretical_capacity_grav  theoretical_capacity_vol  energy_grav  \\\n",
              "48                  121.181299                515.367052   -33.388634   \n",
              "57                  163.446209                698.540768   396.561540   \n",
              "81                   49.408746                213.454309   115.696156   \n",
              "95                  101.435161                331.113426     1.188689   \n",
              "103                 231.041546                829.097077  -219.544732   \n",
              "134                  67.749405                393.215155  -127.336128   \n",
              "250                 294.729377               1423.429227  -243.621754   \n",
              "260                 878.681269               2730.970972  -154.184142   \n",
              "300                 194.127443                614.194925   438.477218   \n",
              "353                 439.199344               3045.740840    41.904223   \n",
              "380                  94.383824                384.731795  -357.947470   \n",
              "383                  37.781730                151.720811   107.825158   \n",
              "406                2038.541563               3760.211510    -7.834115   \n",
              "419                2070.410116               3701.924923 -2639.837417   \n",
              "424                2072.663279               3697.514294 -2632.934042   \n",
              "434                2072.068243               3681.504764 -2632.433352   \n",
              "436                2049.246252               3682.524991 -2605.512089   \n",
              "855                  50.617568                283.452220  -102.100774   \n",
              "943                 628.638546               1355.576422  -554.457883   \n",
              "1160                191.238897               1440.458989    45.183109   \n",
              "\n",
              "       energy_vol  num_steps  max_voltage_step  stability_charge  \\\n",
              "48    -141.997174        1.0          0.000000          0.071550   \n",
              "57    1694.835288        2.0          0.487941          0.000000   \n",
              "81     499.827361        1.0          0.000000          0.029379   \n",
              "95       3.880221        1.0          0.000000          0.151309   \n",
              "103   -787.840537        1.0          0.000000          0.042391   \n",
              "134   -739.054386        1.0          0.000000          0.004804   \n",
              "250  -1176.599117        1.0          0.000000          0.192758   \n",
              "260   -479.209505        1.0          0.000000          0.191999   \n",
              "300   1387.287022        1.0          0.000000          0.017861   \n",
              "353    290.595618        1.0          0.000000          0.007985   \n",
              "380  -1459.082357        1.0          0.000000          0.020614   \n",
              "383    432.995534        1.0          0.000000          0.025848   \n",
              "406    -14.450493        1.0          0.000000          0.010342   \n",
              "419  -4720.069639        1.0          0.000000          0.141061   \n",
              "424  -4697.005710        1.0          0.000000          0.183961   \n",
              "434  -4677.121982        1.0          0.000000          0.163550   \n",
              "436  -4682.142700        1.0          0.000000          0.181676   \n",
              "855   -571.751900        1.0          0.000000          0.045056   \n",
              "943  -1195.615569        1.0          0.000000          0.000000   \n",
              "1160   340.330425        1.0          0.000000          0.114258   \n",
              "\n",
              "      stability_discharge  \n",
              "48               0.054910  \n",
              "57               0.000000  \n",
              "81               0.059105  \n",
              "95               0.158791  \n",
              "103              0.171669  \n",
              "134              0.385907  \n",
              "250              1.104618  \n",
              "260              0.523977  \n",
              "300              0.000000  \n",
              "353              0.007891  \n",
              "380              0.170262  \n",
              "383              0.034245  \n",
              "406              0.007828  \n",
              "419              0.018153  \n",
              "424              0.011511  \n",
              "434              0.010655  \n",
              "436              0.013537  \n",
              "855              0.143757  \n",
              "943              0.661498  \n",
              "1160             0.306553  \n",
              "\n",
              "[20 rows x 22 columns]"
            ]
          },
          "execution_count": 26,
          "metadata": {},
          "output_type": "execute_result"
        }
      ],
      "source": [
        "df_final_data_filtered_hosts.head(20)"
      ]
    },
    {
      "cell_type": "code",
      "execution_count": null,
      "metadata": {
        "colab": {
          "base_uri": "https://localhost:8080/"
        },
        "id": "WJg0KetYDh6X",
        "outputId": "68e56784-7522-4ac8-b53b-428911073fe2"
      },
      "outputs": [
        {
          "name": "stdout",
          "output_type": "stream",
          "text": [
            "['Na' 'Li' 'Mg' 'Zn' 'K' 'Ca' 'Al' 'Y' 'Cs' 'Rb']\n"
          ]
        }
      ],
      "source": [
        "print(df_final_data_filtered_hosts['working_ion'].unique())"
      ]
    },
    {
      "cell_type": "code",
      "execution_count": null,
      "metadata": {
        "colab": {
          "base_uri": "https://localhost:8080/"
        },
        "id": "6MLYRboyD4Cj",
        "outputId": "8276a57f-0668-49be-a589-4ce7c5c214ac"
      },
      "outputs": [
        {
          "name": "stdout",
          "output_type": "stream",
          "text": [
            "\n",
            "Counts of unique values in 'working_ion':\n",
            "working_ion\n",
            "Li    2287\n",
            "Mg     994\n",
            "Na     164\n",
            "Ca     109\n",
            "Zn      44\n",
            "Al      38\n",
            "K       32\n",
            "Y       23\n",
            "Cs      16\n",
            "Rb       2\n",
            "Name: count, dtype: int64\n"
          ]
        }
      ],
      "source": [
        "# Get the value counts for the 'working_ion' column\n",
        "working_ion_counts = df_final_data_filtered_hosts['working_ion'].value_counts()\n",
        "\n",
        "# Print the counts\n",
        "print(\"\\nCounts of unique values in 'working_ion':\")\n",
        "print(working_ion_counts)"
      ]
    },
    {
      "cell_type": "code",
      "execution_count": null,
      "metadata": {
        "colab": {
          "base_uri": "https://localhost:8080/"
        },
        "id": "m4yCpkywCHtE",
        "outputId": "3b20ece9-0b3f-4ce9-8fbb-d6e732da5f43"
      },
      "outputs": [
        {
          "name": "stdout",
          "output_type": "stream",
          "text": [
            "Final cleaned and processed DataFrame has 3709 rows.\n",
            "Final DataFrame columns: ['material_id', 'energy_above_hull', 'elements', 'density', 'formula_pretty', 'nelements', 'volume', 'band_gap', 'is_metal', 'total_magnetization', 'theoretical', 'battery_type', 'working_ion', 'average_voltage', 'theoretical_capacity_grav', 'theoretical_capacity_vol', 'energy_grav', 'energy_vol', 'num_steps', 'max_voltage_step', 'stability_charge', 'stability_discharge']\n",
            "Number of columns: 22\n"
          ]
        }
      ],
      "source": [
        "print(f\"Final cleaned and processed DataFrame has {len(df_final_data_filtered_hosts)} rows.\")\n",
        "print(f\"Final DataFrame columns: {df_final_data_filtered_hosts.columns.tolist()}\")\n",
        "print(f\"Number of columns: {len(df_final_data_filtered_hosts.columns)}\")"
      ]
    },
    {
      "cell_type": "markdown",
      "metadata": {
        "id": "JPKWkRhACg0_"
      },
      "source": [
        "## Save the data for feature engineering"
      ]
    },
    {
      "cell_type": "code",
      "execution_count": null,
      "metadata": {
        "colab": {
          "base_uri": "https://localhost:8080/"
        },
        "id": "w_X9TAy-Cgb6",
        "outputId": "f92fb62e-2058-4168-b1bb-61f1e6ea96c4"
      },
      "outputs": [
        {
          "name": "stdout",
          "output_type": "stream",
          "text": [
            "\n",
            "Final processed data saved to '/content/drive/MyDrive/Colab Notebooks/Masters Research Project/Data/battery_materials_processed.csv'\n"
          ]
        }
      ],
      "source": [
        "# Save to CSV\n",
        "\n",
        "if not df_final_data_filtered_hosts.empty:\n",
        "    output_filename = os.path.join(data_folder_path, \"battery_materials_processed.csv\")\n",
        "    df_final_data_filtered_hosts.to_csv(output_filename, index=False)\n",
        "    print(f\"\\nFinal processed data saved to '{output_filename}'\")\n",
        "else:\n",
        "    print(\"\\nDataFrame is empty, no data to save to CSV.\")\n",
        "\n",
        "global _df_final_battery_materials\n",
        "_df_final_battery_materials = df_final_data_filtered_hosts\n"
      ]
    },
    {
      "cell_type": "markdown",
      "metadata": {
        "id": "x5VrGNz5c7Hs"
      },
      "source": [
        "# Section 2: New Section for additional data retrieval"
      ]
    },
    {
      "cell_type": "markdown",
      "metadata": {
        "id": "pTfJO_d3jla4"
      },
      "source": [
        "This new section was added to enrich the existing dataset (battery_materials_processed.csv) with additional material properties from the Materials Project API. Based on insights gained from preliminary model analysis (e.g., error patterns in Notebook 03), the following key features were identified as potentially beneficial for improving model performance:\n",
        "\n",
        "- efermi: Fermi energy, crucial for understanding metallic character.\n",
        "\n",
        "- nsites: The number of atoms in the primitive cell, providing structural scale information.\n",
        "\n",
        "- crystal_system: The crystal lattice system (e.g., cubic, hexagonal), offering fundamental structural classification.\n",
        "\n",
        "Instead of re-running the entire initial data collection, this section efficiently retrieves only these specific features for the existing materials, merges them into the DataFrame, and handles any resulting missing values. The enhanced dataset is then saved as battery_materials_processed_v2.csv, ready for use in subsequent notebooks."
      ]
    },
    {
      "cell_type": "code",
      "execution_count": null,
      "metadata": {
        "colab": {
          "base_uri": "https://localhost:8080/"
        },
        "id": "k1BQgXo4dBbx",
        "outputId": "f28cdaa1-8dc3-48bc-f3bd-8605a8fe8113"
      },
      "outputs": [
        {
          "name": "stdout",
          "output_type": "stream",
          "text": [
            "Loaded 'battery_materials_processed.csv' from '/content/drive/MyDrive/Colab Notebooks/Masters Research Project/Data' (shape: (3709, 22)).\n"
          ]
        }
      ],
      "source": [
        "#  Load existing processed DataFrame from CSV\n",
        "\n",
        "INPUT_CSV_FILENAME = \"battery_materials_processed.csv\"\n",
        "OUTPUT_CSV_FILENAME = \"battery_materials_processed_v2.csv\"\n",
        "\n",
        "input_filepath = os.path.join(data_folder_path, INPUT_CSV_FILENAME)\n",
        "\n",
        "try:\n",
        "    df_to_enhance = pd.read_csv(input_filepath)\n",
        "    print(f\"Loaded '{INPUT_CSV_FILENAME}' from '{data_folder_path}' (shape: {df_to_enhance.shape}).\")\n",
        "except FileNotFoundError:\n",
        "    raise FileNotFoundError(f\"ERROR: '{input_filepath}' not found. Ensure previous Notebook 01 steps ran and saved this file.\")\n",
        "\n",
        "if 'material_id' not in df_to_enhance.columns:\n",
        "    raise ValueError(\"'material_id' column not found. It's required for MP API lookup.\")\n"
      ]
    },
    {
      "cell_type": "code",
      "execution_count": null,
      "metadata": {
        "colab": {
          "base_uri": "https://localhost:8080/"
        },
        "id": "65QqwABqdJCJ",
        "outputId": "3d584dfc-c0a2-444e-fc11-0932e4cf3393"
      },
      "outputs": [
        {
          "name": "stdout",
          "output_type": "stream",
          "text": [
            "Enter your Materials Project API Key: ··········\n"
          ]
        }
      ],
      "source": [
        "# Prompt for API Key using getpass\n",
        "MP_API_KEY = getpass.getpass(\"Enter your Materials Project API Key: \")"
      ]
    },
    {
      "cell_type": "code",
      "execution_count": null,
      "metadata": {
        "id": "Cfp4KSx6e4cP"
      },
      "outputs": [],
      "source": [
        "# Initialize MPRester\n",
        "try:\n",
        "    mpr = MPRester(MP_API_KEY)\n",
        "except Exception as e:\n",
        "    raise ConnectionError(f\"ERROR: Failed to initialize MPRester. Check API key and internet: {e}\")\n"
      ]
    },
    {
      "cell_type": "markdown",
      "metadata": {
        "id": "xS5Mdn1cfLPX"
      },
      "source": [
        "## further data retrieval"
      ]
    },
    {
      "cell_type": "code",
      "execution_count": null,
      "metadata": {
        "colab": {
          "base_uri": "https://localhost:8080/",
          "height": 180,
          "referenced_widgets": [
            "34f8199b201d406b84ea6950c64d5694",
            "ffd57a34a3144e3da299ab85dc7511f2",
            "817e8ab0cdc74f30b465108718499e83",
            "e5a6552a860740c79252d48a683778fc",
            "2a4e8d474b29419dbc279d46ebd6a389",
            "ad081d23ee884e27a05cd09f1b98bb2d",
            "78ede410a2e84be189942291cc60c89b",
            "8dd83380bcb84f42acc26bd63cda5f38",
            "515c2a9415914e239ce3a0a68110a9fa",
            "4240e9c5c39d45de8b2278be760187cc",
            "da0985fb01564d7d96ea53d87891d20c",
            "8a46adb666a447fe987bbdf48895d148",
            "d26485c968e045998f580a8d15f4accd",
            "8bec12723bdb4b03a9633ca2b3d0a4d9",
            "96e59b970b3c4357b9a5a51ef471ee6d",
            "aba33815aca145128e6da4e69089b286",
            "6e4d44ef19bc48c3919fa24b877f5162",
            "7b2894d5bad64e689d1677c1ecca9aef",
            "a0b037c0d5b144e1a34291b42979f295",
            "9a6ece85155548e79e02df61e9a409dd",
            "c3526ffe22594c8e99eda621c4c05960",
            "cd3630c732264066a0daa2d542ec8bdb",
            "08724b5c303f414682f0a76315ca9af5",
            "dd4b36f161a14c05887241aba4faa1b5",
            "6ff3190a02a043e2a8d21185201285fc",
            "13b8b38cb5794ddb9b7469046b0a5811",
            "016ca3bcc58842e5a28c5b97e49462c9",
            "385b3d1f0d4b45dcb72a74f1cf29bdf4",
            "c62a5535066749e687ca6e0dc825b862",
            "7543606b7a7a4cffb926005f5514af9f",
            "da8a8c58faa04321920f7e76c527909c",
            "e69a847ad53944d2930f5e133861170d",
            "96dc9546789149b7940455b63b71a825",
            "8656e33f6f704e90b25c9a7f0a432075",
            "02dc3c82367b4b66b416fadb9ff07ee6",
            "974d172dc65d4e6d886f605df91cfdde",
            "34b416045ccc4916a24e7f012d54d1dc",
            "7cb1bfaf27474ba4b7ffb298843c6137",
            "f313143d2c4c4ec1b8e3a2b9c499eb9b",
            "7ca5e4f860dc42acb591fc85072fc498",
            "dd1722a6b952453f857f3b94104f4d67",
            "f7425738d985431e9e7c2620568d86ec",
            "106e7e6511ef4810a8d2d83d10d1edf7",
            "25f8b3e801c340069005209acee39222"
          ]
        },
        "id": "Zcy5ua7dfRIS",
        "outputId": "03f4fd0e-67a5-4aad-dcf3-6b4d87fee189"
      },
      "outputs": [
        {
          "name": "stdout",
          "output_type": "stream",
          "text": [
            "Fetching 3709 materials from MP in batches...\n"
          ]
        },
        {
          "data": {
            "application/vnd.jupyter.widget-view+json": {
              "model_id": "34f8199b201d406b84ea6950c64d5694",
              "version_major": 2,
              "version_minor": 0
            },
            "text/plain": [
              "Retrieving SummaryDoc documents:   0%|          | 0/1000 [00:00<?, ?it/s]"
            ]
          },
          "metadata": {},
          "output_type": "display_data"
        },
        {
          "data": {
            "application/vnd.jupyter.widget-view+json": {
              "model_id": "8a46adb666a447fe987bbdf48895d148",
              "version_major": 2,
              "version_minor": 0
            },
            "text/plain": [
              "Retrieving SummaryDoc documents:   0%|          | 0/1000 [00:00<?, ?it/s]"
            ]
          },
          "metadata": {},
          "output_type": "display_data"
        },
        {
          "data": {
            "application/vnd.jupyter.widget-view+json": {
              "model_id": "08724b5c303f414682f0a76315ca9af5",
              "version_major": 2,
              "version_minor": 0
            },
            "text/plain": [
              "Retrieving SummaryDoc documents:   0%|          | 0/1000 [00:00<?, ?it/s]"
            ]
          },
          "metadata": {},
          "output_type": "display_data"
        },
        {
          "data": {
            "application/vnd.jupyter.widget-view+json": {
              "model_id": "8656e33f6f704e90b25c9a7f0a432075",
              "version_major": 2,
              "version_minor": 0
            },
            "text/plain": [
              "Retrieving SummaryDoc documents:   0%|          | 0/709 [00:00<?, ?it/s]"
            ]
          },
          "metadata": {},
          "output_type": "display_data"
        },
        {
          "name": "stdout",
          "output_type": "stream",
          "text": [
            "Retrieved data for 3709 materials.\n"
          ]
        }
      ],
      "source": [
        "# Define Fields and Retrieve Data in Batches\n",
        "\n",
        "mp_fields = [\"material_id\", \"efermi\", \"nsites\", \"symmetry.crystal_system\"]\n",
        "mp_ids = df_to_enhance['material_id'].unique().tolist()\n",
        "retrieved_data = []\n",
        "\n",
        "print(f\"Fetching {len(mp_ids)} materials from MP in batches...\")\n",
        "batch_size = 1000\n",
        "for i in range(0, len(mp_ids), batch_size):\n",
        "    batch = mp_ids[i : i + batch_size]\n",
        "    try:\n",
        "        docs = mpr.materials.summary.search(material_ids=batch, fields=mp_fields)\n",
        "        for doc in docs:\n",
        "            d = doc.dict()\n",
        "            retrieved_data.append({\n",
        "                'material_id': d.get('material_id'),\n",
        "                'e_fermi': d.get('efermi'),\n",
        "                'nsites': d.get('nsites'),\n",
        "                'crystal_system': d.get('symmetry', {}).get('crystal_system', np.nan)\n",
        "            })\n",
        "    except Exception as e:\n",
        "        print(f\"WARNING: Batch error for IDs {batch[0]}...{batch[-1]}: {e}\")\n",
        "    time.sleep(0.1)\n",
        "\n",
        "mp_features_df = pd.DataFrame(retrieved_data)\n",
        "print(f\"Retrieved data for {len(mp_features_df)} materials.\")"
      ]
    },
    {
      "cell_type": "code",
      "execution_count": null,
      "metadata": {
        "colab": {
          "base_uri": "https://localhost:8080/"
        },
        "id": "Cz-wmwnkg0Mk",
        "outputId": "0462eca7-7114-4abf-8a2b-815ebff1840c"
      },
      "outputs": [
        {
          "name": "stdout",
          "output_type": "stream",
          "text": [
            "DataFrame shape after merge: (3709, 25)\n"
          ]
        }
      ],
      "source": [
        "# Merge New Data with Existing DataFrame\n",
        "\n",
        "df_enhanced = pd.merge(df_to_enhance, mp_features_df, on='material_id', how='left')\n",
        "print(f\"DataFrame shape after merge: {df_enhanced.shape}\")"
      ]
    },
    {
      "cell_type": "code",
      "execution_count": null,
      "metadata": {
        "colab": {
          "base_uri": "https://localhost:8080/"
        },
        "id": "O2dzypTEg6uP",
        "outputId": "a6228186-7013-4083-eaba-71b38e6c226e"
      },
      "outputs": [
        {
          "name": "stdout",
          "output_type": "stream",
          "text": [
            "\n",
            "Handling missing values in new MP features:\n",
            "Before imputation:\n",
            "e_fermi           2\n",
            "nsites            0\n",
            "crystal_system    0\n",
            "dtype: int64\n"
          ]
        }
      ],
      "source": [
        "# Handle Missing Values in New Features\n",
        "print(\"\\nHandling missing values in new MP features:\")\n",
        "print(f\"Before imputation:\\n{df_enhanced[['e_fermi', 'nsites', 'crystal_system']].isnull().sum()}\")\n"
      ]
    },
    {
      "cell_type": "code",
      "execution_count": null,
      "metadata": {
        "colab": {
          "base_uri": "https://localhost:8080/"
        },
        "id": "JvqmfjJOhAeX",
        "outputId": "20aa69ed-df58-421a-db1c-e0895b5a3680"
      },
      "outputs": [
        {
          "name": "stdout",
          "output_type": "stream",
          "text": [
            " - 'e_fermi' imputed with median.\n",
            "After imputation:\n",
            "e_fermi           0\n",
            "nsites            0\n",
            "crystal_system    0\n",
            "dtype: int64\n"
          ]
        }
      ],
      "source": [
        "# Impute e_fermi (Numerical)\n",
        "if df_enhanced['e_fermi'].isnull().any():\n",
        "    df_enhanced['e_fermi'] = df_enhanced['e_fermi'].fillna(df_enhanced['e_fermi'].median())\n",
        "    print(\" - 'e_fermi' imputed with median.\")\n",
        "\n",
        "# Impute nsites (Numerical, Integer)\n",
        "if df_enhanced['nsites'].isnull().any():\n",
        "    df_enhanced['nsites'] = df_enhanced['nsites'].fillna(df_enhanced['nsites'].median())\n",
        "    df_enhanced['nsites'] = df_enhanced['nsites'].astype(int)\n",
        "    print(\" - 'nsites' imputed with median and converted to int.\")\n",
        "\n",
        "# Impute crystal_system (Categorical)\n",
        "if df_enhanced['crystal_system'].isnull().any():\n",
        "    df_enhanced['crystal_system'] = df_enhanced['crystal_system'].fillna(df_enhanced['crystal_system'].mode()[0])\n",
        "    print(\" - 'crystal_system' imputed with mode.\")\n",
        "\n",
        "print(f\"After imputation:\\n{df_enhanced[['e_fermi', 'nsites', 'crystal_system']].isnull().sum()}\")"
      ]
    },
    {
      "cell_type": "code",
      "execution_count": null,
      "metadata": {
        "colab": {
          "base_uri": "https://localhost:8080/"
        },
        "id": "DOpMUGtrjtZR",
        "outputId": "a434deda-8886-4630-e252-8caf52908721"
      },
      "outputs": [
        {
          "name": "stdout",
          "output_type": "stream",
          "text": [
            "<class 'pandas.core.frame.DataFrame'>\n",
            "RangeIndex: 3709 entries, 0 to 3708\n",
            "Data columns (total 25 columns):\n",
            " #   Column                     Non-Null Count  Dtype  \n",
            "---  ------                     --------------  -----  \n",
            " 0   material_id                3709 non-null   object \n",
            " 1   energy_above_hull          3709 non-null   float64\n",
            " 2   elements                   3709 non-null   object \n",
            " 3   density                    3709 non-null   float64\n",
            " 4   formula_pretty             3709 non-null   object \n",
            " 5   nelements                  3709 non-null   float64\n",
            " 6   volume                     3709 non-null   float64\n",
            " 7   band_gap                   3709 non-null   float64\n",
            " 8   is_metal                   3709 non-null   bool   \n",
            " 9   total_magnetization        3709 non-null   float64\n",
            " 10  theoretical                3709 non-null   bool   \n",
            " 11  battery_type               3709 non-null   object \n",
            " 12  working_ion                3709 non-null   object \n",
            " 13  average_voltage            3709 non-null   float64\n",
            " 14  theoretical_capacity_grav  3709 non-null   float64\n",
            " 15  theoretical_capacity_vol   3709 non-null   float64\n",
            " 16  energy_grav                3709 non-null   float64\n",
            " 17  energy_vol                 3709 non-null   float64\n",
            " 18  num_steps                  3709 non-null   float64\n",
            " 19  max_voltage_step           3709 non-null   float64\n",
            " 20  stability_charge           3709 non-null   float64\n",
            " 21  stability_discharge        3709 non-null   float64\n",
            " 22  e_fermi                    3709 non-null   float64\n",
            " 23  nsites                     3709 non-null   int64  \n",
            " 24  crystal_system             3709 non-null   object \n",
            "dtypes: bool(2), float64(16), int64(1), object(6)\n",
            "memory usage: 673.8+ KB\n"
          ]
        }
      ],
      "source": [
        "df_enhanced.info(verbose=True, show_counts=True)"
      ]
    },
    {
      "cell_type": "markdown",
      "metadata": {
        "id": "mOh-bOWYiUM5"
      },
      "source": [
        "## Save updated dataset"
      ]
    },
    {
      "cell_type": "code",
      "execution_count": null,
      "metadata": {
        "colab": {
          "base_uri": "https://localhost:8080/"
        },
        "id": "zFvevxehiFmg",
        "outputId": "c02db124-66a2-4a75-87b4-a9d5b8a618e5"
      },
      "outputs": [
        {
          "name": "stdout",
          "output_type": "stream",
          "text": [
            "\n",
            "Enhanced DataFrame saved to '/content/drive/MyDrive/Colab Notebooks/Masters Research Project/Data/battery_materials_processed_v2.csv'.\n"
          ]
        }
      ],
      "source": [
        "# Save the Enhanced DataFrame\n",
        "\n",
        "output_filepath = os.path.join(data_folder_path, OUTPUT_CSV_FILENAME)\n",
        "if not df_enhanced.empty:\n",
        "    df_enhanced.to_csv(output_filepath, index=False)\n",
        "    print(f\"\\nEnhanced DataFrame saved to '{output_filepath}'.\")\n",
        "else:\n",
        "    print(\"DataFrame is empty, no data to save.\")"
      ]
    },
    {
      "cell_type": "markdown",
      "metadata": {
        "id": "2a42ad17"
      },
      "source": [
        "## Appendix: Data Retrieval and Processing\n",
        "\n",
        "This appendix details the steps taken to retrieve, process, and clean the battery materials data from the Materials Project API (using `mp-api`) for use in this study.\n",
        "\n",
        "### Data Sources\n",
        "\n",
        "Data was primarily retrieved from two key endpoints of the Materials Project API:\n",
        "\n",
        "1.  **Materials Summary (`mpr.materials.summary`):** This endpoint provides general, fundamental properties of materials.\n",
        "2.  **Insertion Electrodes (`mpr.materials.insertion_electrodes`):** This endpoint provides properties specifically calculated for materials acting as insertion electrodes in battery applications.\n",
        "\n",
        "### Data Retrieval Process\n",
        "\n",
        "The data was retrieved using the `MPRester` client from the `mp-api` library. A list of battery-relevant elements (`all_battery_elements`) was defined to filter the search space to materials likely to be of interest for battery applications.\n",
        "\n",
        "The following fields were initially targeted from the Materials Summary endpoint:\n",
        "\n",
        "- `material_id`: Unique identifier for the material.\n",
        "- `formula_pretty`: The conventional formula string.\n",
        "- `elements`: List of elements in the material.\n",
        "- `nelements`: Number of unique elements.\n",
        "- `volume`: Unit cell volume.\n",
        "- `density`: Density of the material.\n",
        "- `energy_above_hull`: Energy above the convex hull, indicating thermodynamic stability.\n",
        "- `band_gap`: Electronic band gap.\n",
        "- `is_metal`: Boolean indicating if the material is metallic.\n",
        "- `total_magnetization`: Total magnetic moment.\n",
        "- `theoretical`: Boolean indicating if the material is theoretical.\n",
        "\n",
        "From the Insertion Electrodes endpoint, all available fields were initially fetched, and a subset (`desired_electrodes_fields`) was later selected based on relevance:\n",
        "\n",
        "- `material_id`: Unique identifier for the material (linked via constituent materials).\n",
        "- `battery_type`: Type of battery (e.g., insertion).\n",
        "- `working_ion`: The ion inserted/extracted (e.g., Li, Na, Mg).\n",
        "- `average_voltage`: Average voltage during insertion/extraction.\n",
        "- `capacity_grav`: Gravimetric theoretical capacity.\n",
        "- `capacity_vol`: Volumetric theoretical capacity.\n",
        "- `energy_grav`: Gravimetric energy density.\n",
        "- `energy_vol`: Volumetric energy density.\n",
        "- `num_steps`: Number of voltage steps in the insertion/extraction curve.\n",
        "- `max_voltage_step`: Maximum voltage step.\n",
        "- `stability_charge`: Stability during charging.\n",
        "- `stability_discharge`: Stability during discharging.\n",
        "\n",
        "Data for each element in `all_battery_elements` was fetched iteratively using the `fetch_summary_data` and `fetch_electrodes_data` helper functions. The retrieved data was stored as lists of dictionaries: `all_summary_docs` and `all_electrodes_docs`.\n",
        "\n",
        "### Data Persistence\n",
        "\n",
        "To avoid repeated API calls, the raw retrieved data (`all_summary_docs` and `all_electrodes_docs`) was saved to pickle files (`all_summary_docs.pkl` and `all_electrodes_docs.pkl`) in the designated data folder (`/content/drive/MyDrive/Colab Notebooks/Masters Research Project/Data`). A loading mechanism was also implemented to load the data from these files if they exist, allowing the user to restart the notebook without refetching.\n",
        "\n",
        "### Data Processing and Cleaning\n",
        "\n",
        "The raw data lists were converted into pandas DataFrames (`df_summary` and `df_electrodes`).\n",
        "\n",
        "1.  **Material ID Cleaning and Deduplication:** Material IDs were standardized by stripping whitespace, and duplicate entries within each DataFrame were removed using `drop_duplicates` based on the `material_id`. This resulted in `df_summary_unique` and `df_electrodes_unique`, ensuring each material was represented only once in each source.\n",
        "\n",
        "2.  **Data Merging:** The unique summary and electrodes DataFrames were merged using an outer join (`how='outer'`) on the `material_id`. This step aimed to combine properties from both sources for materials present in either dataset. The resulting DataFrame was named `df_combined`. A final `drop_duplicates` on `material_id` was applied to `df_combined` as a safeguard.\n",
        "\n",
        "3.  **Completeness Filtering:** The merged DataFrame was filtered to retain only rows where the `battery_type` column was not null. This step was crucial for ensuring the final dataset contained only materials with calculated battery insertion properties, resulting in `df_final_data_filtered_hosts`.\n",
        "\n",
        "4.  **Column Renaming and Type Conversion:** Several columns were renamed for clarity, specifically:\n",
        "    - `capacity_grav` to `theoretical_capacity_grav`\n",
        "    - `capacity_vol` to `theoretical_capacity_vol`\n",
        "    Relevant columns were converted to numeric data types using `pd.to_numeric` with `errors='coerce'` to handle potential non-numeric values gracefully.\n",
        "\n",
        "5.  **Handling Missing Values:** Rows with missing values in a predefined list of 22 critical features (including the newly renamed and numeric columns) were removed using `dropna(subset=...)`. This ensured that the final dataset was complete for the features intended for use in downstream analysis and modeling.\n",
        "\n",
        "### Additional Feature Retrieval\n",
        "\n",
        "In a subsequent step (Section 2 of the notebook), additional potentially relevant features were retrieved for the materials already present in the processed dataset (`battery_materials_processed.csv`). These features, identified based on preliminary analysis, include:\n",
        "\n",
        "- `efermi`: Fermi energy.\n",
        "- `nsites`: Number of sites in the primitive cell.\n",
        "- `symmetry.crystal_system`: The crystal system.\n",
        "\n",
        "These features were fetched in batches using `mpr.materials.summary.search` with the `material_ids` from the existing DataFrame and the specified `fields`. The retrieved data was merged with the existing DataFrame (`df_to_enhance`) using a left merge on `material_id`, resulting in `df_enhanced`. Missing values in these new columns (`e_fermi`, `nsites`, `crystal_system`) were imputed using the median for numeric columns (`e_fermi`, `nsites`) and the mode for the categorical column (`crystal_system`).\n",
        "\n",
        "### Final Dataset\n",
        "\n",
        "The final cleaned and processed DataFrame (`df_enhanced`, saved as `battery_materials_processed_v2.csv`) contains {{len(df_enhanced)}} entries and {{len(df_enhanced.columns)}} features. This dataset represents materials from the Materials Project with both fundamental and battery-specific properties, cleaned and prepared for feature engineering and machine learning model development.\n",
        "\n",
        "An overview of the distribution of `working_ion` in the final dataset is provided below:\n",
        "\n",
        "{{df_enhanced['working_ion'].value_counts().to_markdown(numalign=\"left\", stralign=\"left\")}}"
      ]
    }
  ],
  "metadata": {
    "colab": {
      "provenance": [],
      "toc_visible": true,
      "include_colab_link": true
    },
    "kernelspec": {
      "display_name": "Python 3",
      "name": "python3"
    },
    "language_info": {
      "name": "python"
    }
  },
  "nbformat": 4,
  "nbformat_minor": 0
}